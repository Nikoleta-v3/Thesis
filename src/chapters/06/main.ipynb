{
 "cells": [
  {
   "cell_type": "markdown",
   "metadata": {},
   "source": [
    "Best Response Sequences in the Iterated Prisoner's Dilemma\n",
    "------------"
   ]
  },
  {
   "cell_type": "markdown",
   "metadata": {},
   "source": [
    "This Chapter explores best response strategies, to a collection of opponents, in the form of sequences. The APL project is used to simulate matches between these opponents and the \"sequence\" players. Morespecifically, the class `Cycler` is used to simulate the sequences."
   ]
  },
  {
   "cell_type": "code",
   "execution_count": 1,
   "metadata": {},
   "outputs": [],
   "source": [
    "import axelrod as axl"
   ]
  },
  {
   "cell_type": "markdown",
   "metadata": {},
   "source": [
    "**Example of $S = \\{D, D, D, C, C, C, D, D, C, C\\}$ against Cooperator**"
   ]
  },
  {
   "cell_type": "code",
   "execution_count": 2,
   "metadata": {},
   "outputs": [],
   "source": [
    "players = [axl.Cycler('DDDCCCDDCC'), axl.Cooperator()]"
   ]
  },
  {
   "cell_type": "code",
   "execution_count": 3,
   "metadata": {},
   "outputs": [
    {
     "data": {
      "text/plain": [
       "[(D, C),\n",
       " (D, C),\n",
       " (D, C),\n",
       " (C, C),\n",
       " (C, C),\n",
       " (C, C),\n",
       " (D, C),\n",
       " (D, C),\n",
       " (C, C),\n",
       " (C, C)]"
      ]
     },
     "execution_count": 3,
     "metadata": {},
     "output_type": "execute_result"
    }
   ],
   "source": [
    "match = axl.Match(players, turns=10)\n",
    "match.play()"
   ]
  },
  {
   "cell_type": "code",
   "execution_count": 4,
   "metadata": {},
   "outputs": [
    {
     "data": {
      "text/plain": [
       "(4.0, 1.5)"
      ]
     },
     "execution_count": 4,
     "metadata": {},
     "output_type": "execute_result"
    }
   ],
   "source": [
    "match.final_score_per_turn()"
   ]
  },
  {
   "cell_type": "markdown",
   "metadata": {},
   "source": [
    "**Example of $S = \\{D, D, D, C, C, C, D, D, C, C\\}$ against Tit For Tat**"
   ]
  },
  {
   "cell_type": "code",
   "execution_count": 5,
   "metadata": {},
   "outputs": [],
   "source": [
    "players = [axl.Cycler('DDDCCCDDCC'), axl.TitForTat()]"
   ]
  },
  {
   "cell_type": "code",
   "execution_count": 6,
   "metadata": {},
   "outputs": [
    {
     "data": {
      "text/plain": [
       "[(D, C),\n",
       " (D, D),\n",
       " (D, D),\n",
       " (C, D),\n",
       " (C, C),\n",
       " (C, C),\n",
       " (D, C),\n",
       " (D, D),\n",
       " (C, D),\n",
       " (C, C)]"
      ]
     },
     "execution_count": 6,
     "metadata": {},
     "output_type": "execute_result"
    }
   ],
   "source": [
    "match = axl.Match(players, turns=10)\n",
    "match.play()"
   ]
  },
  {
   "cell_type": "code",
   "execution_count": 7,
   "metadata": {},
   "outputs": [
    {
     "data": {
      "text/plain": [
       "(2.2, 2.2)"
      ]
     },
     "execution_count": 7,
     "metadata": {},
     "output_type": "execute_result"
    }
   ],
   "source": [
    "match.final_score_per_turn()"
   ]
  },
  {
   "cell_type": "markdown",
   "metadata": {},
   "source": [
    "**Example against Random**"
   ]
  },
  {
   "cell_type": "code",
   "execution_count": 8,
   "metadata": {},
   "outputs": [],
   "source": [
    "players = [axl.Random(), axl.Cycler('DDDCCCDDCC')]"
   ]
  },
  {
   "cell_type": "code",
   "execution_count": 9,
   "metadata": {},
   "outputs": [],
   "source": [
    "axl.seed(1)\n",
    "match = axl.Match(players, turns=10)\n",
    "actions = match.play()"
   ]
  },
  {
   "cell_type": "code",
   "execution_count": 10,
   "metadata": {},
   "outputs": [
    {
     "data": {
      "text/plain": [
       "[(C, D),\n",
       " (D, D),\n",
       " (C, D),\n",
       " (C, C),\n",
       " (C, C),\n",
       " (C, C),\n",
       " (C, D),\n",
       " (C, D),\n",
       " (C, C),\n",
       " (D, C)]"
      ]
     },
     "execution_count": 10,
     "metadata": {},
     "output_type": "execute_result"
    }
   ],
   "source": [
    "actions"
   ]
  },
  {
   "cell_type": "code",
   "execution_count": 11,
   "metadata": {},
   "outputs": [
    {
     "data": {
      "text/plain": [
       "(1.8, 3.3)"
      ]
     },
     "execution_count": 11,
     "metadata": {},
     "output_type": "execute_result"
    }
   ],
   "source": [
    "match.final_score_per_turn()"
   ]
  },
  {
   "cell_type": "code",
   "execution_count": 12,
   "metadata": {},
   "outputs": [],
   "source": [
    "axl.seed(2)\n",
    "match = axl.Match(players, turns=10)\n",
    "actions = match.play()"
   ]
  },
  {
   "cell_type": "code",
   "execution_count": 13,
   "metadata": {},
   "outputs": [
    {
     "data": {
      "text/plain": [
       "(1.7, 3.2)"
      ]
     },
     "execution_count": 13,
     "metadata": {},
     "output_type": "execute_result"
    }
   ],
   "source": [
    "match.final_score_per_turn()"
   ]
  },
  {
   "cell_type": "markdown",
   "metadata": {},
   "source": [
    "This work uses random seeds to capture different behaviours of stochastic strategies. Random seeding also makes it possible to reproduce the behaviour of stochastic strategies."
   ]
  },
  {
   "cell_type": "code",
   "execution_count": 14,
   "metadata": {},
   "outputs": [
    {
     "name": "stdout",
     "output_type": "stream",
     "text": [
      "[(D, D), (D, D), (D, D), (C, D), (C, C), (C, D), (D, C), (D, D), (C, D), (C, C)] (1.5, 2.5)\n",
      "================================================================================\n",
      "[(D, C), (D, D), (D, C), (C, C), (C, C), (C, C), (D, C), (D, C), (C, C), (C, D)] (3.3, 1.8)\n",
      "================================================================================\n",
      "[(D, C), (D, C), (D, D), (C, C), (C, C), (C, C), (D, C), (D, D), (C, C), (C, C)] (3.2, 1.7)\n",
      "================================================================================\n",
      "[(D, D), (D, D), (D, C), (C, D), (C, D), (C, D), (D, C), (D, C), (C, C), (C, C)] (2.3, 2.3)\n",
      "================================================================================\n",
      "[(D, D), (D, D), (D, D), (C, D), (C, D), (C, C), (D, D), (D, C), (C, C), (C, C)] (1.8, 2.3)\n",
      "================================================================================\n"
     ]
    }
   ],
   "source": [
    "players = [axl.Cycler('DDDCCCDDCC'), axl.Random()]\n",
    "for seed in range(5):\n",
    "    axl.seed(seed)\n",
    "    match = axl.Match(players, turns=10)\n",
    "    actions = match.play()\n",
    "    print(actions, match.final_score_per_turn())\n",
    "    print(\"================================================================================\")\n"
   ]
  },
  {
   "cell_type": "markdown",
   "metadata": {},
   "source": [
    "`sequence_sensei` is a package which has been developed to perform a genetic algorithm on sequences."
   ]
  },
  {
   "cell_type": "code",
   "execution_count": 15,
   "metadata": {},
   "outputs": [],
   "source": [
    "import sequence_sensei as ss\n",
    "import numpy as np"
   ]
  },
  {
   "cell_type": "markdown",
   "metadata": {},
   "source": [
    "Generating the starting population is done using the following code:"
   ]
  },
  {
   "cell_type": "code",
   "execution_count": 16,
   "metadata": {},
   "outputs": [],
   "source": [
    "initial_population = ss.get_initial_population(half_size_of_population=5, sequence_length=8)"
   ]
  },
  {
   "cell_type": "code",
   "execution_count": 17,
   "metadata": {},
   "outputs": [
    {
     "data": {
      "text/plain": [
       "matrix([[1, 0, 0, 0, 0, 0, 0, 0],\n",
       "        [0, 1, 1, 1, 1, 1, 1, 1],\n",
       "        [1, 1, 0, 0, 0, 0, 0, 0],\n",
       "        [0, 0, 1, 1, 1, 1, 1, 1],\n",
       "        [1, 1, 1, 1, 0, 0, 0, 0],\n",
       "        [0, 0, 0, 0, 1, 1, 1, 1],\n",
       "        [1, 1, 1, 1, 1, 1, 0, 0],\n",
       "        [0, 0, 0, 0, 0, 0, 1, 1],\n",
       "        [1, 1, 1, 1, 1, 1, 1, 1],\n",
       "        [0, 0, 0, 0, 0, 0, 0, 0]])"
      ]
     },
     "execution_count": 17,
     "metadata": {},
     "output_type": "execute_result"
    }
   ],
   "source": [
    "np.matrix(initial_population)"
   ]
  },
  {
   "cell_type": "code",
   "execution_count": 18,
   "metadata": {},
   "outputs": [
    {
     "data": {
      "text/plain": [
       "matrix([[C, D, D, D, D, D, D, D],\n",
       "        [D, C, C, C, C, C, C, C],\n",
       "        [C, C, D, D, D, D, D, D],\n",
       "        [D, D, C, C, C, C, C, C],\n",
       "        [C, C, C, C, D, D, D, D],\n",
       "        [D, D, D, D, C, C, C, C],\n",
       "        [C, C, C, C, C, C, D, D],\n",
       "        [D, D, D, D, D, D, C, C],\n",
       "        [C, C, C, C, C, C, C, C],\n",
       "        [D, D, D, D, D, D, D, D]], dtype=object)"
      ]
     },
     "execution_count": 18,
     "metadata": {},
     "output_type": "execute_result"
    }
   ],
   "source": [
    "np.matrix([[axl.Action(gene) for gene in member] for member in initial_population])"
   ]
  },
  {
   "cell_type": "markdown",
   "metadata": {},
   "source": [
    "`sequence_sensei` includes functions for the crossover and mutation properties of a genetic algorithm."
   ]
  },
  {
   "cell_type": "code",
   "execution_count": 19,
   "metadata": {},
   "outputs": [],
   "source": [
    "import random\n",
    "import sequence_sensei as ss"
   ]
  },
  {
   "cell_type": "code",
   "execution_count": 20,
   "metadata": {},
   "outputs": [],
   "source": [
    "turns = 10\n",
    "\n",
    "cooperator = [1 for _ in range(turns)]\n",
    "alternator = [i % 2 for i in range(turns)]"
   ]
  },
  {
   "cell_type": "code",
   "execution_count": 21,
   "metadata": {},
   "outputs": [],
   "source": [
    "random.seed(0)\n",
    "new_member = ss.crossover(cooperator, alternator)"
   ]
  },
  {
   "cell_type": "code",
   "execution_count": 22,
   "metadata": {},
   "outputs": [
    {
     "data": {
      "text/plain": [
       "[1, 1, 1, 1, 1, 1, 0, 1, 0, 1]"
      ]
     },
     "execution_count": 22,
     "metadata": {},
     "output_type": "execute_result"
    }
   ],
   "source": [
    "new_member"
   ]
  },
  {
   "cell_type": "code",
   "execution_count": 23,
   "metadata": {
    "scrolled": true
   },
   "outputs": [
    {
     "data": {
      "text/plain": [
       "[1, 1, 1, 1, 1, 1, 0, 1, 0, 0]"
      ]
     },
     "execution_count": 23,
     "metadata": {},
     "output_type": "execute_result"
    }
   ],
   "source": [
    "random.seed(1)\n",
    "[ss.mutation(gene, mutation_probability=0.05) for gene in new_member] "
   ]
  },
  {
   "cell_type": "code",
   "execution_count": 24,
   "metadata": {},
   "outputs": [
    {
     "data": {
      "text/plain": [
       "[0.134, 0.847, 0.764, 0.255, 0.495, 0.449, 0.652, 0.789, 0.094, 0.028]"
      ]
     },
     "execution_count": 24,
     "metadata": {},
     "output_type": "execute_result"
    }
   ],
   "source": [
    "random.seed(1)\n",
    "[round(random.random(), 3) for gene in new_member]"
   ]
  },
  {
   "cell_type": "markdown",
   "metadata": {},
   "source": [
    "**Genetic Algorithm Analysis**"
   ]
  },
  {
   "cell_type": "code",
   "execution_count": 353,
   "metadata": {},
   "outputs": [],
   "source": [
    "import json\n",
    "\n",
    "from pathlib import Path\n",
    "\n",
    "import pandas as pd\n",
    "\n",
    "import matplotlib.pyplot as plt\n",
    "import matplotlib as mpl"
   ]
  },
  {
   "cell_type": "code",
   "execution_count": null,
   "metadata": {},
   "outputs": [],
   "source": [
    "font = {\"size\": 11,\"weight\": \"bold\"}\n",
    "mpl.rc(\"font\", **font)"
   ]
  },
  {
   "cell_type": "markdown",
   "metadata": {},
   "source": [
    "**Tables**\n",
    "\n",
    "The raw data need to be download to carry out the following analysis. We will read in a few exported summaries and export latex table to demostrate the format of the exported summaries. "
   ]
  },
  {
   "cell_type": "code",
   "execution_count": 1,
   "metadata": {},
   "outputs": [],
   "source": [
    "columns = ['opponent', 'seed', 'bottleneck', 'mutation probability',\n",
    "           'half size population', 'generation', 'index', 'score',\n",
    "           'gene_0', 'gene_1', 'gene_202', 'gene_203', 'gene_204']\n",
    "\n",
    "labels = {'bottleneck': '$b$', 'mutation probability': '$p_m$',\n",
    "          'half size population': '$K/2$', 'generation': '$G_i$'}"
   ]
  },
  {
   "cell_type": "markdown",
   "metadata": {},
   "source": [
    "An example of a stochastic player."
   ]
  },
  {
   "cell_type": "code",
   "execution_count": null,
   "metadata": {},
   "outputs": [],
   "source": [
    "champion = pd.read_csv('/Volumes/ext/Data/raw_data/Champion_9/main.csv')"
   ]
  },
  {
   "cell_type": "code",
   "execution_count": 53,
   "metadata": {},
   "outputs": [],
   "source": [
    "with open(\"tex/champion_seed_nine_table.tex\", \"w\") as file:\n",
    "    table = champion.iloc[np.r_[0:5, -5:0]][columns]\n",
    "    table = table.rename(columns=labels)\n",
    "    file.write(table.to_latex().replace('\\_', ' '))   "
   ]
  },
  {
   "cell_type": "markdown",
   "metadata": {},
   "source": [
    "An example of a deterministic players."
   ]
  },
  {
   "cell_type": "code",
   "execution_count": 34,
   "metadata": {},
   "outputs": [],
   "source": [
    "alternator = pd.read_csv('/Volumes/ext/Data/raw_data/Alternator_nan/main.csv')"
   ]
  },
  {
   "cell_type": "code",
   "execution_count": 54,
   "metadata": {},
   "outputs": [],
   "source": [
    "with open(\"tex/alternator_table.tex\", \"w\") as file:\n",
    "    table = alternator.iloc[np.r_[0:5, -5:0]][columns]\n",
    "    table = table.rename(columns=labels)\n",
    "    file.write(table.to_latex().replace('\\_', ' ')) "
   ]
  },
  {
   "cell_type": "code",
   "execution_count": 56,
   "metadata": {},
   "outputs": [],
   "source": [
    "champion_four = pd.read_csv('/Volumes/ext/Data/raw_data/Champion_4/main.csv')"
   ]
  },
  {
   "cell_type": "markdown",
   "metadata": {},
   "source": [
    "**Accuracy**"
   ]
  },
  {
   "cell_type": "markdown",
   "metadata": {},
   "source": [
    "The accuracy of the stochastic players sequences."
   ]
  },
  {
   "cell_type": "code",
   "execution_count": 158,
   "metadata": {},
   "outputs": [],
   "source": [
    "with open('checks.txt') as json_file:\n",
    "    data = json.load(json_file)"
   ]
  },
  {
   "cell_type": "code",
   "execution_count": 159,
   "metadata": {},
   "outputs": [
    {
     "data": {
      "text/plain": [
       "2309"
      ]
     },
     "execution_count": 159,
     "metadata": {},
     "output_type": "execute_result"
    }
   ],
   "source": [
    "len(data)"
   ]
  },
  {
   "cell_type": "code",
   "execution_count": 160,
   "metadata": {},
   "outputs": [
    {
     "data": {
      "text/plain": [
       "0.6634906886097878"
      ]
     },
     "execution_count": 160,
     "metadata": {},
     "output_type": "execute_result"
    }
   ],
   "source": [
    "sum(data.values()) / len(data)"
   ]
  },
  {
   "cell_type": "markdown",
   "metadata": {},
   "source": [
    "**Genetic algorithm converging examples**"
   ]
  },
  {
   "cell_type": "markdown",
   "metadata": {},
   "source": [
    "Tit for Tat. A deterministic strategy that we know the best response to."
   ]
  },
  {
   "cell_type": "code",
   "execution_count": 58,
   "metadata": {},
   "outputs": [],
   "source": [
    "tft = pd.read_csv('/Volumes/ext/Data/raw_data/Tit For Tat_nan/main.csv')"
   ]
  },
  {
   "cell_type": "code",
   "execution_count": 292,
   "metadata": {},
   "outputs": [],
   "source": [
    "last_generation_tft = tft[tft['generation'] == 2000]"
   ]
  },
  {
   "cell_type": "code",
   "execution_count": 293,
   "metadata": {},
   "outputs": [
    {
     "data": {
      "text/html": [
       "<div>\n",
       "<style scoped>\n",
       "    .dataframe tbody tr th:only-of-type {\n",
       "        vertical-align: middle;\n",
       "    }\n",
       "\n",
       "    .dataframe tbody tr th {\n",
       "        vertical-align: top;\n",
       "    }\n",
       "\n",
       "    .dataframe thead th {\n",
       "        text-align: right;\n",
       "    }\n",
       "</style>\n",
       "<table border=\"1\" class=\"dataframe\">\n",
       "  <thead>\n",
       "    <tr style=\"text-align: right;\">\n",
       "      <th></th>\n",
       "      <th>opponent</th>\n",
       "      <th>seed</th>\n",
       "      <th>num. of generations</th>\n",
       "      <th>bottleneck</th>\n",
       "      <th>mutation probability</th>\n",
       "      <th>half size population</th>\n",
       "      <th>generation</th>\n",
       "      <th>index</th>\n",
       "      <th>score</th>\n",
       "      <th>gene_0</th>\n",
       "      <th>...</th>\n",
       "      <th>gene_195</th>\n",
       "      <th>gene_196</th>\n",
       "      <th>gene_197</th>\n",
       "      <th>gene_198</th>\n",
       "      <th>gene_199</th>\n",
       "      <th>gene_200</th>\n",
       "      <th>gene_201</th>\n",
       "      <th>gene_202</th>\n",
       "      <th>gene_203</th>\n",
       "      <th>gene_204</th>\n",
       "    </tr>\n",
       "  </thead>\n",
       "  <tbody>\n",
       "    <tr>\n",
       "      <th>40000</th>\n",
       "      <td>Tit For Tat</td>\n",
       "      <td>NaN</td>\n",
       "      <td>2000</td>\n",
       "      <td>10</td>\n",
       "      <td>0.01</td>\n",
       "      <td>10</td>\n",
       "      <td>2000</td>\n",
       "      <td>0</td>\n",
       "      <td>3.009756</td>\n",
       "      <td>1</td>\n",
       "      <td>...</td>\n",
       "      <td>1</td>\n",
       "      <td>1</td>\n",
       "      <td>1</td>\n",
       "      <td>1</td>\n",
       "      <td>1</td>\n",
       "      <td>1</td>\n",
       "      <td>1</td>\n",
       "      <td>1</td>\n",
       "      <td>1</td>\n",
       "      <td>0</td>\n",
       "    </tr>\n",
       "    <tr>\n",
       "      <th>40001</th>\n",
       "      <td>Tit For Tat</td>\n",
       "      <td>NaN</td>\n",
       "      <td>2000</td>\n",
       "      <td>10</td>\n",
       "      <td>0.01</td>\n",
       "      <td>10</td>\n",
       "      <td>2000</td>\n",
       "      <td>1</td>\n",
       "      <td>3.009756</td>\n",
       "      <td>1</td>\n",
       "      <td>...</td>\n",
       "      <td>1</td>\n",
       "      <td>1</td>\n",
       "      <td>1</td>\n",
       "      <td>1</td>\n",
       "      <td>1</td>\n",
       "      <td>1</td>\n",
       "      <td>1</td>\n",
       "      <td>1</td>\n",
       "      <td>1</td>\n",
       "      <td>0</td>\n",
       "    </tr>\n",
       "    <tr>\n",
       "      <th>40002</th>\n",
       "      <td>Tit For Tat</td>\n",
       "      <td>NaN</td>\n",
       "      <td>2000</td>\n",
       "      <td>10</td>\n",
       "      <td>0.01</td>\n",
       "      <td>10</td>\n",
       "      <td>2000</td>\n",
       "      <td>2</td>\n",
       "      <td>3.009756</td>\n",
       "      <td>1</td>\n",
       "      <td>...</td>\n",
       "      <td>1</td>\n",
       "      <td>1</td>\n",
       "      <td>1</td>\n",
       "      <td>1</td>\n",
       "      <td>1</td>\n",
       "      <td>1</td>\n",
       "      <td>1</td>\n",
       "      <td>1</td>\n",
       "      <td>1</td>\n",
       "      <td>0</td>\n",
       "    </tr>\n",
       "    <tr>\n",
       "      <th>40003</th>\n",
       "      <td>Tit For Tat</td>\n",
       "      <td>NaN</td>\n",
       "      <td>2000</td>\n",
       "      <td>10</td>\n",
       "      <td>0.01</td>\n",
       "      <td>10</td>\n",
       "      <td>2000</td>\n",
       "      <td>3</td>\n",
       "      <td>3.009756</td>\n",
       "      <td>1</td>\n",
       "      <td>...</td>\n",
       "      <td>1</td>\n",
       "      <td>1</td>\n",
       "      <td>1</td>\n",
       "      <td>1</td>\n",
       "      <td>1</td>\n",
       "      <td>1</td>\n",
       "      <td>1</td>\n",
       "      <td>1</td>\n",
       "      <td>1</td>\n",
       "      <td>0</td>\n",
       "    </tr>\n",
       "    <tr>\n",
       "      <th>40004</th>\n",
       "      <td>Tit For Tat</td>\n",
       "      <td>NaN</td>\n",
       "      <td>2000</td>\n",
       "      <td>10</td>\n",
       "      <td>0.01</td>\n",
       "      <td>10</td>\n",
       "      <td>2000</td>\n",
       "      <td>4</td>\n",
       "      <td>3.009756</td>\n",
       "      <td>1</td>\n",
       "      <td>...</td>\n",
       "      <td>1</td>\n",
       "      <td>1</td>\n",
       "      <td>1</td>\n",
       "      <td>1</td>\n",
       "      <td>1</td>\n",
       "      <td>1</td>\n",
       "      <td>1</td>\n",
       "      <td>1</td>\n",
       "      <td>1</td>\n",
       "      <td>0</td>\n",
       "    </tr>\n",
       "  </tbody>\n",
       "</table>\n",
       "<p>5 rows × 214 columns</p>\n",
       "</div>"
      ],
      "text/plain": [
       "          opponent  seed  num. of generations  bottleneck  \\\n",
       "40000  Tit For Tat   NaN                 2000          10   \n",
       "40001  Tit For Tat   NaN                 2000          10   \n",
       "40002  Tit For Tat   NaN                 2000          10   \n",
       "40003  Tit For Tat   NaN                 2000          10   \n",
       "40004  Tit For Tat   NaN                 2000          10   \n",
       "\n",
       "       mutation probability  half size population  generation  index  \\\n",
       "40000                  0.01                    10        2000      0   \n",
       "40001                  0.01                    10        2000      1   \n",
       "40002                  0.01                    10        2000      2   \n",
       "40003                  0.01                    10        2000      3   \n",
       "40004                  0.01                    10        2000      4   \n",
       "\n",
       "          score  gene_0  ...  gene_195  gene_196  gene_197  gene_198  \\\n",
       "40000  3.009756       1  ...         1         1         1         1   \n",
       "40001  3.009756       1  ...         1         1         1         1   \n",
       "40002  3.009756       1  ...         1         1         1         1   \n",
       "40003  3.009756       1  ...         1         1         1         1   \n",
       "40004  3.009756       1  ...         1         1         1         1   \n",
       "\n",
       "       gene_199  gene_200  gene_201  gene_202  gene_203  gene_204  \n",
       "40000         1         1         1         1         1         0  \n",
       "40001         1         1         1         1         1         0  \n",
       "40002         1         1         1         1         1         0  \n",
       "40003         1         1         1         1         1         0  \n",
       "40004         1         1         1         1         1         0  \n",
       "\n",
       "[5 rows x 214 columns]"
      ]
     },
     "execution_count": 293,
     "metadata": {},
     "output_type": "execute_result"
    }
   ],
   "source": [
    "last_generation_tft.head()"
   ]
  },
  {
   "cell_type": "code",
   "execution_count": 294,
   "metadata": {},
   "outputs": [],
   "source": [
    "indices = list(tft.groupby(['half size population', 'bottleneck', 'mutation probability'])['score'].max().index)"
   ]
  },
  {
   "cell_type": "code",
   "execution_count": 295,
   "metadata": {},
   "outputs": [],
   "source": [
    "scores = tft.groupby(['half size population', 'bottleneck', 'mutation probability','generation'])['score'].max()"
   ]
  },
  {
   "cell_type": "code",
   "execution_count": 296,
   "metadata": {},
   "outputs": [],
   "source": [
    "linestyles = [\":\", '-.', \"--\", \"-\", \"-\"]"
   ]
  },
  {
   "cell_type": "code",
   "execution_count": 323,
   "metadata": {},
   "outputs": [],
   "source": [
    "colors = mpl.cm.viridis(np.linspace(0, 1, 6))"
   ]
  },
  {
   "cell_type": "code",
   "execution_count": 309,
   "metadata": {},
   "outputs": [
    {
     "data": {
      "image/png": "[encoded data removed]",
      "text/plain": [
       "<Figure size 468x288 with 1 Axes>"
      ]
     },
     "metadata": {
      "needs_background": "light"
     },
     "output_type": "display_data"
    }
   ],
   "source": [
    "fig, ax = plt.subplots(figsize=(6.5, 4))\n",
    "\n",
    "i = 0\n",
    "for index in indices: \n",
    "    if scores[index].max() != 3.0:\n",
    "        plt.plot(scores[index],\n",
    "                 linestyles[i],\n",
    "                 label=f'$s/2$={index[0]}, $b$={index[1]}, $p_m$={index[2]}',\n",
    "                 color=colors[i]\n",
    "                 );\n",
    "        i += 1\n",
    "plt.legend();\n",
    "plt.tight_layout();\n",
    "\n",
    "plt.ylabel(r'$U(S, Q)$')\n",
    "plt.xlabel('generation')\n",
    "\n",
    "plt.savefig('img/maximum_score_per_generation_tit_for_tat.pdf')"
   ]
  },
  {
   "cell_type": "markdown",
   "metadata": {},
   "source": [
    "Adaptive. A deterministic strategy that we know has multiple best response sequences."
   ]
  },
  {
   "cell_type": "code",
   "execution_count": 80,
   "metadata": {},
   "outputs": [],
   "source": [
    "adaptive = pd.read_csv('/Volumes/ext/Data/raw_data/Adaptive_nan/main.csv')"
   ]
  },
  {
   "cell_type": "code",
   "execution_count": 310,
   "metadata": {},
   "outputs": [],
   "source": [
    "last_generation_adaptive = adaptive[adaptive['generation'] == 2000]"
   ]
  },
  {
   "cell_type": "code",
   "execution_count": 311,
   "metadata": {},
   "outputs": [
    {
     "data": {
      "text/html": [
       "<div>\n",
       "<style scoped>\n",
       "    .dataframe tbody tr th:only-of-type {\n",
       "        vertical-align: middle;\n",
       "    }\n",
       "\n",
       "    .dataframe tbody tr th {\n",
       "        vertical-align: top;\n",
       "    }\n",
       "\n",
       "    .dataframe thead th {\n",
       "        text-align: right;\n",
       "    }\n",
       "</style>\n",
       "<table border=\"1\" class=\"dataframe\">\n",
       "  <thead>\n",
       "    <tr style=\"text-align: right;\">\n",
       "      <th></th>\n",
       "      <th>opponent</th>\n",
       "      <th>seed</th>\n",
       "      <th>num. of generations</th>\n",
       "      <th>bottleneck</th>\n",
       "      <th>mutation probability</th>\n",
       "      <th>half size population</th>\n",
       "      <th>generation</th>\n",
       "      <th>index</th>\n",
       "      <th>score</th>\n",
       "      <th>gene_0</th>\n",
       "      <th>...</th>\n",
       "      <th>gene_195</th>\n",
       "      <th>gene_196</th>\n",
       "      <th>gene_197</th>\n",
       "      <th>gene_198</th>\n",
       "      <th>gene_199</th>\n",
       "      <th>gene_200</th>\n",
       "      <th>gene_201</th>\n",
       "      <th>gene_202</th>\n",
       "      <th>gene_203</th>\n",
       "      <th>gene_204</th>\n",
       "    </tr>\n",
       "  </thead>\n",
       "  <tbody>\n",
       "    <tr>\n",
       "      <th>40000</th>\n",
       "      <td>Adaptive</td>\n",
       "      <td>NaN</td>\n",
       "      <td>2000</td>\n",
       "      <td>10</td>\n",
       "      <td>0.01</td>\n",
       "      <td>10</td>\n",
       "      <td>2000</td>\n",
       "      <td>0</td>\n",
       "      <td>4.882927</td>\n",
       "      <td>1</td>\n",
       "      <td>...</td>\n",
       "      <td>0</td>\n",
       "      <td>0</td>\n",
       "      <td>0</td>\n",
       "      <td>0</td>\n",
       "      <td>0</td>\n",
       "      <td>0</td>\n",
       "      <td>0</td>\n",
       "      <td>0</td>\n",
       "      <td>0</td>\n",
       "      <td>0</td>\n",
       "    </tr>\n",
       "    <tr>\n",
       "      <th>40001</th>\n",
       "      <td>Adaptive</td>\n",
       "      <td>NaN</td>\n",
       "      <td>2000</td>\n",
       "      <td>10</td>\n",
       "      <td>0.01</td>\n",
       "      <td>10</td>\n",
       "      <td>2000</td>\n",
       "      <td>1</td>\n",
       "      <td>4.882927</td>\n",
       "      <td>1</td>\n",
       "      <td>...</td>\n",
       "      <td>0</td>\n",
       "      <td>0</td>\n",
       "      <td>0</td>\n",
       "      <td>0</td>\n",
       "      <td>0</td>\n",
       "      <td>0</td>\n",
       "      <td>0</td>\n",
       "      <td>0</td>\n",
       "      <td>0</td>\n",
       "      <td>0</td>\n",
       "    </tr>\n",
       "    <tr>\n",
       "      <th>40002</th>\n",
       "      <td>Adaptive</td>\n",
       "      <td>NaN</td>\n",
       "      <td>2000</td>\n",
       "      <td>10</td>\n",
       "      <td>0.01</td>\n",
       "      <td>10</td>\n",
       "      <td>2000</td>\n",
       "      <td>2</td>\n",
       "      <td>4.882927</td>\n",
       "      <td>1</td>\n",
       "      <td>...</td>\n",
       "      <td>0</td>\n",
       "      <td>0</td>\n",
       "      <td>0</td>\n",
       "      <td>0</td>\n",
       "      <td>0</td>\n",
       "      <td>0</td>\n",
       "      <td>0</td>\n",
       "      <td>0</td>\n",
       "      <td>0</td>\n",
       "      <td>0</td>\n",
       "    </tr>\n",
       "    <tr>\n",
       "      <th>40003</th>\n",
       "      <td>Adaptive</td>\n",
       "      <td>NaN</td>\n",
       "      <td>2000</td>\n",
       "      <td>10</td>\n",
       "      <td>0.01</td>\n",
       "      <td>10</td>\n",
       "      <td>2000</td>\n",
       "      <td>3</td>\n",
       "      <td>4.882927</td>\n",
       "      <td>1</td>\n",
       "      <td>...</td>\n",
       "      <td>0</td>\n",
       "      <td>0</td>\n",
       "      <td>0</td>\n",
       "      <td>0</td>\n",
       "      <td>0</td>\n",
       "      <td>0</td>\n",
       "      <td>0</td>\n",
       "      <td>0</td>\n",
       "      <td>0</td>\n",
       "      <td>0</td>\n",
       "    </tr>\n",
       "    <tr>\n",
       "      <th>40004</th>\n",
       "      <td>Adaptive</td>\n",
       "      <td>NaN</td>\n",
       "      <td>2000</td>\n",
       "      <td>10</td>\n",
       "      <td>0.01</td>\n",
       "      <td>10</td>\n",
       "      <td>2000</td>\n",
       "      <td>4</td>\n",
       "      <td>4.882927</td>\n",
       "      <td>1</td>\n",
       "      <td>...</td>\n",
       "      <td>0</td>\n",
       "      <td>0</td>\n",
       "      <td>0</td>\n",
       "      <td>0</td>\n",
       "      <td>0</td>\n",
       "      <td>0</td>\n",
       "      <td>0</td>\n",
       "      <td>0</td>\n",
       "      <td>0</td>\n",
       "      <td>0</td>\n",
       "    </tr>\n",
       "    <tr>\n",
       "      <th>...</th>\n",
       "      <td>...</td>\n",
       "      <td>...</td>\n",
       "      <td>...</td>\n",
       "      <td>...</td>\n",
       "      <td>...</td>\n",
       "      <td>...</td>\n",
       "      <td>...</td>\n",
       "      <td>...</td>\n",
       "      <td>...</td>\n",
       "      <td>...</td>\n",
       "      <td>...</td>\n",
       "      <td>...</td>\n",
       "      <td>...</td>\n",
       "      <td>...</td>\n",
       "      <td>...</td>\n",
       "      <td>...</td>\n",
       "      <td>...</td>\n",
       "      <td>...</td>\n",
       "      <td>...</td>\n",
       "      <td>...</td>\n",
       "      <td>...</td>\n",
       "    </tr>\n",
       "    <tr>\n",
       "      <th>920436</th>\n",
       "      <td>Adaptive</td>\n",
       "      <td>NaN</td>\n",
       "      <td>2000</td>\n",
       "      <td>20</td>\n",
       "      <td>0.01</td>\n",
       "      <td>20</td>\n",
       "      <td>2000</td>\n",
       "      <td>16</td>\n",
       "      <td>4.882927</td>\n",
       "      <td>1</td>\n",
       "      <td>...</td>\n",
       "      <td>0</td>\n",
       "      <td>0</td>\n",
       "      <td>0</td>\n",
       "      <td>0</td>\n",
       "      <td>0</td>\n",
       "      <td>0</td>\n",
       "      <td>0</td>\n",
       "      <td>0</td>\n",
       "      <td>0</td>\n",
       "      <td>0</td>\n",
       "    </tr>\n",
       "    <tr>\n",
       "      <th>920437</th>\n",
       "      <td>Adaptive</td>\n",
       "      <td>NaN</td>\n",
       "      <td>2000</td>\n",
       "      <td>20</td>\n",
       "      <td>0.01</td>\n",
       "      <td>20</td>\n",
       "      <td>2000</td>\n",
       "      <td>17</td>\n",
       "      <td>4.882927</td>\n",
       "      <td>1</td>\n",
       "      <td>...</td>\n",
       "      <td>0</td>\n",
       "      <td>0</td>\n",
       "      <td>0</td>\n",
       "      <td>0</td>\n",
       "      <td>0</td>\n",
       "      <td>0</td>\n",
       "      <td>0</td>\n",
       "      <td>0</td>\n",
       "      <td>0</td>\n",
       "      <td>0</td>\n",
       "    </tr>\n",
       "    <tr>\n",
       "      <th>920438</th>\n",
       "      <td>Adaptive</td>\n",
       "      <td>NaN</td>\n",
       "      <td>2000</td>\n",
       "      <td>20</td>\n",
       "      <td>0.01</td>\n",
       "      <td>20</td>\n",
       "      <td>2000</td>\n",
       "      <td>18</td>\n",
       "      <td>4.882927</td>\n",
       "      <td>1</td>\n",
       "      <td>...</td>\n",
       "      <td>0</td>\n",
       "      <td>0</td>\n",
       "      <td>0</td>\n",
       "      <td>0</td>\n",
       "      <td>0</td>\n",
       "      <td>0</td>\n",
       "      <td>0</td>\n",
       "      <td>0</td>\n",
       "      <td>0</td>\n",
       "      <td>0</td>\n",
       "    </tr>\n",
       "    <tr>\n",
       "      <th>920439</th>\n",
       "      <td>Adaptive</td>\n",
       "      <td>NaN</td>\n",
       "      <td>2000</td>\n",
       "      <td>20</td>\n",
       "      <td>0.01</td>\n",
       "      <td>20</td>\n",
       "      <td>2000</td>\n",
       "      <td>19</td>\n",
       "      <td>4.882927</td>\n",
       "      <td>1</td>\n",
       "      <td>...</td>\n",
       "      <td>0</td>\n",
       "      <td>0</td>\n",
       "      <td>0</td>\n",
       "      <td>0</td>\n",
       "      <td>0</td>\n",
       "      <td>0</td>\n",
       "      <td>0</td>\n",
       "      <td>0</td>\n",
       "      <td>0</td>\n",
       "      <td>0</td>\n",
       "    </tr>\n",
       "    <tr>\n",
       "      <th>920440</th>\n",
       "      <td>Adaptive</td>\n",
       "      <td>NaN</td>\n",
       "      <td>2000</td>\n",
       "      <td>20</td>\n",
       "      <td>0.01</td>\n",
       "      <td>20</td>\n",
       "      <td>2000</td>\n",
       "      <td>22</td>\n",
       "      <td>4.882927</td>\n",
       "      <td>1</td>\n",
       "      <td>...</td>\n",
       "      <td>0</td>\n",
       "      <td>0</td>\n",
       "      <td>0</td>\n",
       "      <td>0</td>\n",
       "      <td>0</td>\n",
       "      <td>0</td>\n",
       "      <td>0</td>\n",
       "      <td>0</td>\n",
       "      <td>0</td>\n",
       "      <td>0</td>\n",
       "    </tr>\n",
       "  </tbody>\n",
       "</table>\n",
       "<p>82 rows × 214 columns</p>\n",
       "</div>"
      ],
      "text/plain": [
       "        opponent  seed  num. of generations  bottleneck  mutation probability  \\\n",
       "40000   Adaptive   NaN                 2000          10                  0.01   \n",
       "40001   Adaptive   NaN                 2000          10                  0.01   \n",
       "40002   Adaptive   NaN                 2000          10                  0.01   \n",
       "40003   Adaptive   NaN                 2000          10                  0.01   \n",
       "40004   Adaptive   NaN                 2000          10                  0.01   \n",
       "...          ...   ...                  ...         ...                   ...   \n",
       "920436  Adaptive   NaN                 2000          20                  0.01   \n",
       "920437  Adaptive   NaN                 2000          20                  0.01   \n",
       "920438  Adaptive   NaN                 2000          20                  0.01   \n",
       "920439  Adaptive   NaN                 2000          20                  0.01   \n",
       "920440  Adaptive   NaN                 2000          20                  0.01   \n",
       "\n",
       "        half size population  generation  index     score  gene_0  ...  \\\n",
       "40000                     10        2000      0  4.882927       1  ...   \n",
       "40001                     10        2000      1  4.882927       1  ...   \n",
       "40002                     10        2000      2  4.882927       1  ...   \n",
       "40003                     10        2000      3  4.882927       1  ...   \n",
       "40004                     10        2000      4  4.882927       1  ...   \n",
       "...                      ...         ...    ...       ...     ...  ...   \n",
       "920436                    20        2000     16  4.882927       1  ...   \n",
       "920437                    20        2000     17  4.882927       1  ...   \n",
       "920438                    20        2000     18  4.882927       1  ...   \n",
       "920439                    20        2000     19  4.882927       1  ...   \n",
       "920440                    20        2000     22  4.882927       1  ...   \n",
       "\n",
       "        gene_195  gene_196  gene_197  gene_198  gene_199  gene_200  gene_201  \\\n",
       "40000          0         0         0         0         0         0         0   \n",
       "40001          0         0         0         0         0         0         0   \n",
       "40002          0         0         0         0         0         0         0   \n",
       "40003          0         0         0         0         0         0         0   \n",
       "40004          0         0         0         0         0         0         0   \n",
       "...          ...       ...       ...       ...       ...       ...       ...   \n",
       "920436         0         0         0         0         0         0         0   \n",
       "920437         0         0         0         0         0         0         0   \n",
       "920438         0         0         0         0         0         0         0   \n",
       "920439         0         0         0         0         0         0         0   \n",
       "920440         0         0         0         0         0         0         0   \n",
       "\n",
       "        gene_202  gene_203  gene_204  \n",
       "40000          0         0         0  \n",
       "40001          0         0         0  \n",
       "40002          0         0         0  \n",
       "40003          0         0         0  \n",
       "40004          0         0         0  \n",
       "...          ...       ...       ...  \n",
       "920436         0         0         0  \n",
       "920437         0         0         0  \n",
       "920438         0         0         0  \n",
       "920439         0         0         0  \n",
       "920440         0         0         0  \n",
       "\n",
       "[82 rows x 214 columns]"
      ]
     },
     "execution_count": 311,
     "metadata": {},
     "output_type": "execute_result"
    }
   ],
   "source": [
    "last_generation_adaptive[last_generation_adaptive['score'] == 4.882926829268293]"
   ]
  },
  {
   "cell_type": "code",
   "execution_count": 312,
   "metadata": {},
   "outputs": [],
   "source": [
    "indices = [(10, 10, 0.01),\n",
    "           (10, 10, 0.05),\n",
    "           (20, 20, 0.05),           \n",
    "           (20, 20, 0.01)]"
   ]
  },
  {
   "cell_type": "code",
   "execution_count": 313,
   "metadata": {},
   "outputs": [
    {
     "data": {
      "text/html": [
       "<div>\n",
       "<style scoped>\n",
       "    .dataframe tbody tr th:only-of-type {\n",
       "        vertical-align: middle;\n",
       "    }\n",
       "\n",
       "    .dataframe tbody tr th {\n",
       "        vertical-align: top;\n",
       "    }\n",
       "\n",
       "    .dataframe thead th {\n",
       "        text-align: right;\n",
       "    }\n",
       "</style>\n",
       "<table border=\"1\" class=\"dataframe\">\n",
       "  <thead>\n",
       "    <tr style=\"text-align: right;\">\n",
       "      <th></th>\n",
       "      <th>gene_0</th>\n",
       "      <th>gene_1</th>\n",
       "      <th>gene_2</th>\n",
       "      <th>gene_3</th>\n",
       "      <th>gene_4</th>\n",
       "      <th>gene_5</th>\n",
       "      <th>gene_6</th>\n",
       "      <th>gene_7</th>\n",
       "      <th>gene_8</th>\n",
       "      <th>gene_9</th>\n",
       "      <th>...</th>\n",
       "      <th>gene_195</th>\n",
       "      <th>gene_196</th>\n",
       "      <th>gene_197</th>\n",
       "      <th>gene_198</th>\n",
       "      <th>gene_199</th>\n",
       "      <th>gene_200</th>\n",
       "      <th>gene_201</th>\n",
       "      <th>gene_202</th>\n",
       "      <th>gene_203</th>\n",
       "      <th>gene_204</th>\n",
       "    </tr>\n",
       "  </thead>\n",
       "  <tbody>\n",
       "    <tr>\n",
       "      <th>40000</th>\n",
       "      <td>1</td>\n",
       "      <td>0</td>\n",
       "      <td>0</td>\n",
       "      <td>0</td>\n",
       "      <td>0</td>\n",
       "      <td>1</td>\n",
       "      <td>0</td>\n",
       "      <td>0</td>\n",
       "      <td>0</td>\n",
       "      <td>0</td>\n",
       "      <td>...</td>\n",
       "      <td>0</td>\n",
       "      <td>0</td>\n",
       "      <td>0</td>\n",
       "      <td>0</td>\n",
       "      <td>0</td>\n",
       "      <td>0</td>\n",
       "      <td>0</td>\n",
       "      <td>0</td>\n",
       "      <td>0</td>\n",
       "      <td>0</td>\n",
       "    </tr>\n",
       "    <tr>\n",
       "      <th>300120</th>\n",
       "      <td>0</td>\n",
       "      <td>0</td>\n",
       "      <td>1</td>\n",
       "      <td>1</td>\n",
       "      <td>0</td>\n",
       "      <td>0</td>\n",
       "      <td>0</td>\n",
       "      <td>0</td>\n",
       "      <td>0</td>\n",
       "      <td>0</td>\n",
       "      <td>...</td>\n",
       "      <td>0</td>\n",
       "      <td>0</td>\n",
       "      <td>0</td>\n",
       "      <td>0</td>\n",
       "      <td>0</td>\n",
       "      <td>0</td>\n",
       "      <td>0</td>\n",
       "      <td>0</td>\n",
       "      <td>0</td>\n",
       "      <td>0</td>\n",
       "    </tr>\n",
       "    <tr>\n",
       "      <th>480210</th>\n",
       "      <td>1</td>\n",
       "      <td>1</td>\n",
       "      <td>0</td>\n",
       "      <td>0</td>\n",
       "      <td>0</td>\n",
       "      <td>0</td>\n",
       "      <td>0</td>\n",
       "      <td>0</td>\n",
       "      <td>0</td>\n",
       "      <td>0</td>\n",
       "      <td>...</td>\n",
       "      <td>0</td>\n",
       "      <td>0</td>\n",
       "      <td>0</td>\n",
       "      <td>0</td>\n",
       "      <td>0</td>\n",
       "      <td>0</td>\n",
       "      <td>0</td>\n",
       "      <td>0</td>\n",
       "      <td>0</td>\n",
       "      <td>0</td>\n",
       "    </tr>\n",
       "  </tbody>\n",
       "</table>\n",
       "<p>3 rows × 205 columns</p>\n",
       "</div>"
      ],
      "text/plain": [
       "        gene_0  gene_1  gene_2  gene_3  gene_4  gene_5  gene_6  gene_7  \\\n",
       "40000        1       0       0       0       0       1       0       0   \n",
       "300120       0       0       1       1       0       0       0       0   \n",
       "480210       1       1       0       0       0       0       0       0   \n",
       "\n",
       "        gene_8  gene_9  ...  gene_195  gene_196  gene_197  gene_198  gene_199  \\\n",
       "40000        0       0  ...         0         0         0         0         0   \n",
       "300120       0       0  ...         0         0         0         0         0   \n",
       "480210       0       0  ...         0         0         0         0         0   \n",
       "\n",
       "        gene_200  gene_201  gene_202  gene_203  gene_204  \n",
       "40000          0         0         0         0         0  \n",
       "300120         0         0         0         0         0  \n",
       "480210         0         0         0         0         0  \n",
       "\n",
       "[3 rows x 205 columns]"
      ]
     },
     "execution_count": 313,
     "metadata": {},
     "output_type": "execute_result"
    }
   ],
   "source": [
    "genes = [\"gene_{}\".format(i) for i in range(205)]\n",
    "\n",
    "subset = [f\"gene_{i}\" for i in [0, 1, 2, 3, 4, 5, 6, 202, 203, 204]]\n",
    "\n",
    "last_generation_adaptive[last_generation_adaptive['score'] == 4.882926829268293][genes].drop_duplicates()"
   ]
  },
  {
   "cell_type": "code",
   "execution_count": 181,
   "metadata": {},
   "outputs": [],
   "source": [
    "with open(\"tex/best_responses_adaptive_table.tex\", \"w\") as file:\n",
    "    table = last_generation_adaptive[last_generation_adaptive['score'] == 4.882926829268293][genes].drop_duplicates()[subset].reset_index()\n",
    "\n",
    "    file.write(table.to_latex().replace('\\_', ' ')) "
   ]
  },
  {
   "cell_type": "code",
   "execution_count": 314,
   "metadata": {},
   "outputs": [],
   "source": [
    "scores = adaptive.groupby(['half size population', 'bottleneck', 'mutation probability','generation'])['score'].max()"
   ]
  },
  {
   "cell_type": "code",
   "execution_count": 315,
   "metadata": {},
   "outputs": [
    {
     "data": {
      "image/png": "[encoded data removed]",
      "text/plain": [
       "<Figure size 468x288 with 1 Axes>"
      ]
     },
     "metadata": {
      "needs_background": "light"
     },
     "output_type": "display_data"
    }
   ],
   "source": [
    "fig, ax = plt.subplots(figsize=(6.5, 4))\n",
    "\n",
    "for i, index in enumerate(indices): \n",
    "    plt.plot(scores[index],\n",
    "             linestyles[i],\n",
    "                 label=f'$s/2$={index[0]}, $b$={index[1]}, $p_m$={index[2]}',\n",
    "             color=colors[i]\n",
    "                 );\n",
    "    \n",
    "plt.legend();\n",
    "\n",
    "plt.ylabel(r'$U(S, Q)$')\n",
    "plt.xlabel('generation')\n",
    "\n",
    "plt.tight_layout();\n",
    "\n",
    "plt.savefig('img/maximum_score_per_generation_adaptive.pdf')"
   ]
  },
  {
   "cell_type": "markdown",
   "metadata": {},
   "source": [
    "Champion. A stochastic strategy were the final best response sequence is accurate."
   ]
  },
  {
   "cell_type": "code",
   "execution_count": 137,
   "metadata": {},
   "outputs": [],
   "source": [
    "champion = pd.read_csv('/Volumes/ext/Data/raw_data/Champion_9/main.csv')"
   ]
  },
  {
   "cell_type": "code",
   "execution_count": 316,
   "metadata": {},
   "outputs": [],
   "source": [
    "champion_last_gen = champion[champion['generation'] == 2000]"
   ]
  },
  {
   "cell_type": "code",
   "execution_count": 317,
   "metadata": {},
   "outputs": [
    {
     "data": {
      "text/html": [
       "<div>\n",
       "<style scoped>\n",
       "    .dataframe tbody tr th:only-of-type {\n",
       "        vertical-align: middle;\n",
       "    }\n",
       "\n",
       "    .dataframe tbody tr th {\n",
       "        vertical-align: top;\n",
       "    }\n",
       "\n",
       "    .dataframe thead th {\n",
       "        text-align: right;\n",
       "    }\n",
       "</style>\n",
       "<table border=\"1\" class=\"dataframe\">\n",
       "  <thead>\n",
       "    <tr style=\"text-align: right;\">\n",
       "      <th></th>\n",
       "      <th>opponent</th>\n",
       "      <th>seed</th>\n",
       "      <th>num. of generations</th>\n",
       "      <th>bottleneck</th>\n",
       "      <th>mutation probability</th>\n",
       "      <th>half size population</th>\n",
       "      <th>generation</th>\n",
       "      <th>index</th>\n",
       "      <th>score</th>\n",
       "      <th>gene_0</th>\n",
       "      <th>...</th>\n",
       "      <th>gene_195</th>\n",
       "      <th>gene_196</th>\n",
       "      <th>gene_197</th>\n",
       "      <th>gene_198</th>\n",
       "      <th>gene_199</th>\n",
       "      <th>gene_200</th>\n",
       "      <th>gene_201</th>\n",
       "      <th>gene_202</th>\n",
       "      <th>gene_203</th>\n",
       "      <th>gene_204</th>\n",
       "    </tr>\n",
       "  </thead>\n",
       "  <tbody>\n",
       "    <tr>\n",
       "      <th>300120</th>\n",
       "      <td>Champion</td>\n",
       "      <td>9</td>\n",
       "      <td>2000</td>\n",
       "      <td>10</td>\n",
       "      <td>0.01</td>\n",
       "      <td>15</td>\n",
       "      <td>2000</td>\n",
       "      <td>0</td>\n",
       "      <td>3.819512</td>\n",
       "      <td>1</td>\n",
       "      <td>...</td>\n",
       "      <td>0</td>\n",
       "      <td>0</td>\n",
       "      <td>0</td>\n",
       "      <td>0</td>\n",
       "      <td>1</td>\n",
       "      <td>0</td>\n",
       "      <td>0</td>\n",
       "      <td>0</td>\n",
       "      <td>0</td>\n",
       "      <td>0</td>\n",
       "    </tr>\n",
       "    <tr>\n",
       "      <th>300121</th>\n",
       "      <td>Champion</td>\n",
       "      <td>9</td>\n",
       "      <td>2000</td>\n",
       "      <td>10</td>\n",
       "      <td>0.01</td>\n",
       "      <td>15</td>\n",
       "      <td>2000</td>\n",
       "      <td>2</td>\n",
       "      <td>3.819512</td>\n",
       "      <td>1</td>\n",
       "      <td>...</td>\n",
       "      <td>0</td>\n",
       "      <td>0</td>\n",
       "      <td>0</td>\n",
       "      <td>0</td>\n",
       "      <td>1</td>\n",
       "      <td>0</td>\n",
       "      <td>0</td>\n",
       "      <td>0</td>\n",
       "      <td>0</td>\n",
       "      <td>0</td>\n",
       "    </tr>\n",
       "    <tr>\n",
       "      <th>300122</th>\n",
       "      <td>Champion</td>\n",
       "      <td>9</td>\n",
       "      <td>2000</td>\n",
       "      <td>10</td>\n",
       "      <td>0.01</td>\n",
       "      <td>15</td>\n",
       "      <td>2000</td>\n",
       "      <td>3</td>\n",
       "      <td>3.819512</td>\n",
       "      <td>1</td>\n",
       "      <td>...</td>\n",
       "      <td>0</td>\n",
       "      <td>0</td>\n",
       "      <td>0</td>\n",
       "      <td>0</td>\n",
       "      <td>1</td>\n",
       "      <td>0</td>\n",
       "      <td>0</td>\n",
       "      <td>0</td>\n",
       "      <td>0</td>\n",
       "      <td>0</td>\n",
       "    </tr>\n",
       "    <tr>\n",
       "      <th>300123</th>\n",
       "      <td>Champion</td>\n",
       "      <td>9</td>\n",
       "      <td>2000</td>\n",
       "      <td>10</td>\n",
       "      <td>0.01</td>\n",
       "      <td>15</td>\n",
       "      <td>2000</td>\n",
       "      <td>20</td>\n",
       "      <td>3.819512</td>\n",
       "      <td>1</td>\n",
       "      <td>...</td>\n",
       "      <td>0</td>\n",
       "      <td>0</td>\n",
       "      <td>0</td>\n",
       "      <td>0</td>\n",
       "      <td>0</td>\n",
       "      <td>0</td>\n",
       "      <td>0</td>\n",
       "      <td>0</td>\n",
       "      <td>0</td>\n",
       "      <td>0</td>\n",
       "    </tr>\n",
       "    <tr>\n",
       "      <th>920420</th>\n",
       "      <td>Champion</td>\n",
       "      <td>9</td>\n",
       "      <td>2000</td>\n",
       "      <td>20</td>\n",
       "      <td>0.01</td>\n",
       "      <td>20</td>\n",
       "      <td>2000</td>\n",
       "      <td>0</td>\n",
       "      <td>3.819512</td>\n",
       "      <td>1</td>\n",
       "      <td>...</td>\n",
       "      <td>0</td>\n",
       "      <td>1</td>\n",
       "      <td>0</td>\n",
       "      <td>0</td>\n",
       "      <td>0</td>\n",
       "      <td>0</td>\n",
       "      <td>0</td>\n",
       "      <td>0</td>\n",
       "      <td>0</td>\n",
       "      <td>0</td>\n",
       "    </tr>\n",
       "    <tr>\n",
       "      <th>920421</th>\n",
       "      <td>Champion</td>\n",
       "      <td>9</td>\n",
       "      <td>2000</td>\n",
       "      <td>20</td>\n",
       "      <td>0.01</td>\n",
       "      <td>20</td>\n",
       "      <td>2000</td>\n",
       "      <td>3</td>\n",
       "      <td>3.819512</td>\n",
       "      <td>1</td>\n",
       "      <td>...</td>\n",
       "      <td>0</td>\n",
       "      <td>1</td>\n",
       "      <td>1</td>\n",
       "      <td>0</td>\n",
       "      <td>0</td>\n",
       "      <td>0</td>\n",
       "      <td>0</td>\n",
       "      <td>0</td>\n",
       "      <td>0</td>\n",
       "      <td>0</td>\n",
       "    </tr>\n",
       "    <tr>\n",
       "      <th>920422</th>\n",
       "      <td>Champion</td>\n",
       "      <td>9</td>\n",
       "      <td>2000</td>\n",
       "      <td>20</td>\n",
       "      <td>0.01</td>\n",
       "      <td>20</td>\n",
       "      <td>2000</td>\n",
       "      <td>13</td>\n",
       "      <td>3.819512</td>\n",
       "      <td>1</td>\n",
       "      <td>...</td>\n",
       "      <td>0</td>\n",
       "      <td>1</td>\n",
       "      <td>0</td>\n",
       "      <td>0</td>\n",
       "      <td>0</td>\n",
       "      <td>0</td>\n",
       "      <td>0</td>\n",
       "      <td>0</td>\n",
       "      <td>0</td>\n",
       "      <td>0</td>\n",
       "    </tr>\n",
       "    <tr>\n",
       "      <th>920423</th>\n",
       "      <td>Champion</td>\n",
       "      <td>9</td>\n",
       "      <td>2000</td>\n",
       "      <td>20</td>\n",
       "      <td>0.01</td>\n",
       "      <td>20</td>\n",
       "      <td>2000</td>\n",
       "      <td>25</td>\n",
       "      <td>3.819512</td>\n",
       "      <td>1</td>\n",
       "      <td>...</td>\n",
       "      <td>0</td>\n",
       "      <td>1</td>\n",
       "      <td>1</td>\n",
       "      <td>0</td>\n",
       "      <td>0</td>\n",
       "      <td>0</td>\n",
       "      <td>0</td>\n",
       "      <td>0</td>\n",
       "      <td>0</td>\n",
       "      <td>0</td>\n",
       "    </tr>\n",
       "  </tbody>\n",
       "</table>\n",
       "<p>8 rows × 214 columns</p>\n",
       "</div>"
      ],
      "text/plain": [
       "        opponent  seed  num. of generations  bottleneck  mutation probability  \\\n",
       "300120  Champion     9                 2000          10                  0.01   \n",
       "300121  Champion     9                 2000          10                  0.01   \n",
       "300122  Champion     9                 2000          10                  0.01   \n",
       "300123  Champion     9                 2000          10                  0.01   \n",
       "920420  Champion     9                 2000          20                  0.01   \n",
       "920421  Champion     9                 2000          20                  0.01   \n",
       "920422  Champion     9                 2000          20                  0.01   \n",
       "920423  Champion     9                 2000          20                  0.01   \n",
       "\n",
       "        half size population  generation  index     score  gene_0  ...  \\\n",
       "300120                    15        2000      0  3.819512       1  ...   \n",
       "300121                    15        2000      2  3.819512       1  ...   \n",
       "300122                    15        2000      3  3.819512       1  ...   \n",
       "300123                    15        2000     20  3.819512       1  ...   \n",
       "920420                    20        2000      0  3.819512       1  ...   \n",
       "920421                    20        2000      3  3.819512       1  ...   \n",
       "920422                    20        2000     13  3.819512       1  ...   \n",
       "920423                    20        2000     25  3.819512       1  ...   \n",
       "\n",
       "        gene_195  gene_196  gene_197  gene_198  gene_199  gene_200  gene_201  \\\n",
       "300120         0         0         0         0         1         0         0   \n",
       "300121         0         0         0         0         1         0         0   \n",
       "300122         0         0         0         0         1         0         0   \n",
       "300123         0         0         0         0         0         0         0   \n",
       "920420         0         1         0         0         0         0         0   \n",
       "920421         0         1         1         0         0         0         0   \n",
       "920422         0         1         0         0         0         0         0   \n",
       "920423         0         1         1         0         0         0         0   \n",
       "\n",
       "        gene_202  gene_203  gene_204  \n",
       "300120         0         0         0  \n",
       "300121         0         0         0  \n",
       "300122         0         0         0  \n",
       "300123         0         0         0  \n",
       "920420         0         0         0  \n",
       "920421         0         0         0  \n",
       "920422         0         0         0  \n",
       "920423         0         0         0  \n",
       "\n",
       "[8 rows x 214 columns]"
      ]
     },
     "execution_count": 317,
     "metadata": {},
     "output_type": "execute_result"
    }
   ],
   "source": [
    "champion_last_gen[champion_last_gen['score'] == champion_last_gen['score'].max()]"
   ]
  },
  {
   "cell_type": "code",
   "execution_count": 318,
   "metadata": {},
   "outputs": [],
   "source": [
    "scores = champion.groupby(['half size population', 'bottleneck', 'mutation probability','generation'])['score'].max()"
   ]
  },
  {
   "cell_type": "code",
   "execution_count": 319,
   "metadata": {},
   "outputs": [],
   "source": [
    "indices = [(15, 10, 0.01),\n",
    "           (20, 20, 0.01)]"
   ]
  },
  {
   "cell_type": "code",
   "execution_count": 322,
   "metadata": {},
   "outputs": [],
   "source": [
    "linestyles = ['-', ':']"
   ]
  },
  {
   "cell_type": "code",
   "execution_count": 326,
   "metadata": {},
   "outputs": [
    {
     "data": {
      "image/png": "[encoded data removed]",
      "text/plain": [
       "<Figure size 468x288 with 1 Axes>"
      ]
     },
     "metadata": {
      "needs_background": "light"
     },
     "output_type": "display_data"
    }
   ],
   "source": [
    "fig, ax = plt.subplots(figsize=(6.5, 4))\n",
    "\n",
    "for i, index in enumerate(indices): \n",
    "    plt.plot(scores[index],\n",
    "             linestyles[i],\n",
    "             label=f'$s/2$={index[0]}, $b$={index[1]}, $p_m$={index[2]}',\n",
    "             color=colors[i + 1]\n",
    "                 );\n",
    "    \n",
    "plt.legend();\n",
    "plt.ylabel(r'$U(S, Q)$')\n",
    "plt.xlabel('generation')\n",
    "\n",
    "plt.tight_layout();\n",
    "\n",
    "plt.savefig('img/maximum_score_per_generation_champion.pdf')"
   ]
  },
  {
   "cell_type": "markdown",
   "metadata": {},
   "source": [
    "Random. A stochastic strategies were multiple errors occured during the data collection."
   ]
  },
  {
   "cell_type": "code",
   "execution_count": 218,
   "metadata": {},
   "outputs": [],
   "source": [
    "random = pd.read_csv('/Volumes/ext/Data/raw_data/Random_2/main.csv')"
   ]
  },
  {
   "cell_type": "code",
   "execution_count": 327,
   "metadata": {},
   "outputs": [],
   "source": [
    "random_last_generation = random[random['generation'] == 2000]"
   ]
  },
  {
   "cell_type": "code",
   "execution_count": 328,
   "metadata": {},
   "outputs": [
    {
     "data": {
      "text/html": [
       "<div>\n",
       "<style scoped>\n",
       "    .dataframe tbody tr th:only-of-type {\n",
       "        vertical-align: middle;\n",
       "    }\n",
       "\n",
       "    .dataframe tbody tr th {\n",
       "        vertical-align: top;\n",
       "    }\n",
       "\n",
       "    .dataframe thead th {\n",
       "        text-align: right;\n",
       "    }\n",
       "</style>\n",
       "<table border=\"1\" class=\"dataframe\">\n",
       "  <thead>\n",
       "    <tr style=\"text-align: right;\">\n",
       "      <th></th>\n",
       "      <th>opponent</th>\n",
       "      <th>seed</th>\n",
       "      <th>num. of generations</th>\n",
       "      <th>bottleneck</th>\n",
       "      <th>mutation probability</th>\n",
       "      <th>half size population</th>\n",
       "      <th>generation</th>\n",
       "      <th>index</th>\n",
       "      <th>score</th>\n",
       "      <th>gene_0</th>\n",
       "      <th>...</th>\n",
       "      <th>gene_195</th>\n",
       "      <th>gene_196</th>\n",
       "      <th>gene_197</th>\n",
       "      <th>gene_198</th>\n",
       "      <th>gene_199</th>\n",
       "      <th>gene_200</th>\n",
       "      <th>gene_201</th>\n",
       "      <th>gene_202</th>\n",
       "      <th>gene_203</th>\n",
       "      <th>gene_204</th>\n",
       "    </tr>\n",
       "  </thead>\n",
       "  <tbody>\n",
       "    <tr>\n",
       "      <th>40000</th>\n",
       "      <td>Random</td>\n",
       "      <td>2</td>\n",
       "      <td>2000</td>\n",
       "      <td>10</td>\n",
       "      <td>0.01</td>\n",
       "      <td>10</td>\n",
       "      <td>2000</td>\n",
       "      <td>13</td>\n",
       "      <td>3.092683</td>\n",
       "      <td>0</td>\n",
       "      <td>...</td>\n",
       "      <td>0</td>\n",
       "      <td>1</td>\n",
       "      <td>0</td>\n",
       "      <td>0</td>\n",
       "      <td>0</td>\n",
       "      <td>0</td>\n",
       "      <td>0</td>\n",
       "      <td>0</td>\n",
       "      <td>0</td>\n",
       "      <td>0</td>\n",
       "    </tr>\n",
       "    <tr>\n",
       "      <th>40001</th>\n",
       "      <td>Random</td>\n",
       "      <td>2</td>\n",
       "      <td>2000</td>\n",
       "      <td>10</td>\n",
       "      <td>0.01</td>\n",
       "      <td>10</td>\n",
       "      <td>2000</td>\n",
       "      <td>2</td>\n",
       "      <td>3.063415</td>\n",
       "      <td>0</td>\n",
       "      <td>...</td>\n",
       "      <td>0</td>\n",
       "      <td>1</td>\n",
       "      <td>0</td>\n",
       "      <td>0</td>\n",
       "      <td>0</td>\n",
       "      <td>0</td>\n",
       "      <td>0</td>\n",
       "      <td>0</td>\n",
       "      <td>0</td>\n",
       "      <td>0</td>\n",
       "    </tr>\n",
       "    <tr>\n",
       "      <th>40002</th>\n",
       "      <td>Random</td>\n",
       "      <td>2</td>\n",
       "      <td>2000</td>\n",
       "      <td>10</td>\n",
       "      <td>0.01</td>\n",
       "      <td>10</td>\n",
       "      <td>2000</td>\n",
       "      <td>17</td>\n",
       "      <td>2.917073</td>\n",
       "      <td>0</td>\n",
       "      <td>...</td>\n",
       "      <td>0</td>\n",
       "      <td>1</td>\n",
       "      <td>0</td>\n",
       "      <td>0</td>\n",
       "      <td>0</td>\n",
       "      <td>0</td>\n",
       "      <td>0</td>\n",
       "      <td>0</td>\n",
       "      <td>0</td>\n",
       "      <td>0</td>\n",
       "    </tr>\n",
       "    <tr>\n",
       "      <th>40003</th>\n",
       "      <td>Random</td>\n",
       "      <td>2</td>\n",
       "      <td>2000</td>\n",
       "      <td>10</td>\n",
       "      <td>0.01</td>\n",
       "      <td>10</td>\n",
       "      <td>2000</td>\n",
       "      <td>4</td>\n",
       "      <td>2.907317</td>\n",
       "      <td>0</td>\n",
       "      <td>...</td>\n",
       "      <td>0</td>\n",
       "      <td>1</td>\n",
       "      <td>0</td>\n",
       "      <td>0</td>\n",
       "      <td>0</td>\n",
       "      <td>0</td>\n",
       "      <td>0</td>\n",
       "      <td>0</td>\n",
       "      <td>0</td>\n",
       "      <td>0</td>\n",
       "    </tr>\n",
       "    <tr>\n",
       "      <th>40004</th>\n",
       "      <td>Random</td>\n",
       "      <td>2</td>\n",
       "      <td>2000</td>\n",
       "      <td>10</td>\n",
       "      <td>0.01</td>\n",
       "      <td>10</td>\n",
       "      <td>2000</td>\n",
       "      <td>0</td>\n",
       "      <td>2.902439</td>\n",
       "      <td>0</td>\n",
       "      <td>...</td>\n",
       "      <td>0</td>\n",
       "      <td>1</td>\n",
       "      <td>0</td>\n",
       "      <td>0</td>\n",
       "      <td>0</td>\n",
       "      <td>0</td>\n",
       "      <td>0</td>\n",
       "      <td>0</td>\n",
       "      <td>0</td>\n",
       "      <td>0</td>\n",
       "    </tr>\n",
       "  </tbody>\n",
       "</table>\n",
       "<p>5 rows × 214 columns</p>\n",
       "</div>"
      ],
      "text/plain": [
       "      opponent  seed  num. of generations  bottleneck  mutation probability  \\\n",
       "40000   Random     2                 2000          10                  0.01   \n",
       "40001   Random     2                 2000          10                  0.01   \n",
       "40002   Random     2                 2000          10                  0.01   \n",
       "40003   Random     2                 2000          10                  0.01   \n",
       "40004   Random     2                 2000          10                  0.01   \n",
       "\n",
       "       half size population  generation  index     score  gene_0  ...  \\\n",
       "40000                    10        2000     13  3.092683       0  ...   \n",
       "40001                    10        2000      2  3.063415       0  ...   \n",
       "40002                    10        2000     17  2.917073       0  ...   \n",
       "40003                    10        2000      4  2.907317       0  ...   \n",
       "40004                    10        2000      0  2.902439       0  ...   \n",
       "\n",
       "       gene_195  gene_196  gene_197  gene_198  gene_199  gene_200  gene_201  \\\n",
       "40000         0         1         0         0         0         0         0   \n",
       "40001         0         1         0         0         0         0         0   \n",
       "40002         0         1         0         0         0         0         0   \n",
       "40003         0         1         0         0         0         0         0   \n",
       "40004         0         1         0         0         0         0         0   \n",
       "\n",
       "       gene_202  gene_203  gene_204  \n",
       "40000         0         0         0  \n",
       "40001         0         0         0  \n",
       "40002         0         0         0  \n",
       "40003         0         0         0  \n",
       "40004         0         0         0  \n",
       "\n",
       "[5 rows x 214 columns]"
      ]
     },
     "execution_count": 328,
     "metadata": {},
     "output_type": "execute_result"
    }
   ],
   "source": [
    "random_last_generation.head()"
   ]
  },
  {
   "cell_type": "code",
   "execution_count": 329,
   "metadata": {},
   "outputs": [],
   "source": [
    "indices = [(10, 10, 0.01)]"
   ]
  },
  {
   "cell_type": "code",
   "execution_count": 330,
   "metadata": {},
   "outputs": [],
   "source": [
    "scores = random.groupby(['half size population', 'bottleneck', 'mutation probability','generation'])['score'].max()"
   ]
  },
  {
   "cell_type": "code",
   "execution_count": 331,
   "metadata": {},
   "outputs": [],
   "source": [
    "val_bottleneck = 10\n",
    "val_mutation = 0.01\n",
    "val_half_size_population = 10"
   ]
  },
  {
   "cell_type": "code",
   "execution_count": 332,
   "metadata": {},
   "outputs": [],
   "source": [
    "trial = random[(random['bottleneck'] == val_bottleneck) & (random['mutation probability'] == val_mutation) & (random['half size population'] == val_half_size_population)]"
   ]
  },
  {
   "cell_type": "code",
   "execution_count": 277,
   "metadata": {},
   "outputs": [],
   "source": [
    "actual_scores = []\n",
    "for g in range(2001):\n",
    "    score = trial[trial['generation'] == g]['score'].max()\n",
    "    \n",
    "    generation_scores = []\n",
    "    for i, row in trial[(trial['generation'] == g) & (trial['score'] == score)].iterrows():\n",
    "        axl.seed(2)\n",
    "        match = axl.Match([axl.Cycler(ss.get_sequence_str(row[genes])), axl.Random()], turns=205)\n",
    "        _ = match.play()\n",
    "        \n",
    "        generation_scores.append(match.final_score_per_turn()[0])\n",
    "    actual_scores.append(max(generation_scores))"
   ]
  },
  {
   "cell_type": "code",
   "execution_count": 352,
   "metadata": {},
   "outputs": [
    {
     "data": {
      "image/png": "[encoded data removed]",
      "text/plain": [
       "<Figure size 468x288 with 1 Axes>"
      ]
     },
     "metadata": {
      "needs_background": "light"
     },
     "output_type": "display_data"
    }
   ],
   "source": [
    "fig, ax = plt.subplots(figsize=(6.5, 4))\n",
    "\n",
    "for i, index in enumerate(indices[:1]): \n",
    "    plt.plot(scores[index],\n",
    "             ':',\n",
    "             label=f'$s/2$={index[0]}, $b$={index[1]}, $p_m$={index[2]}',\n",
    "             color=colors[1],\n",
    "             alpha=0.5\n",
    "                 );\n",
    "    plt.plot(actual_scores, \"--\",color=colors[1], label='actual score')\n",
    "plt.legend();\n",
    "\n",
    "plt.ylabel(r'$U(S, Q)$')\n",
    "plt.xlabel('generation')\n",
    "\n",
    "\n",
    "plt.tight_layout();\n",
    "plt.savefig('img/maximum_score_per_generation_random.pdf')"
   ]
  }
 ],
 "metadata": {
  "kernelspec": {
   "display_name": "thesis",
   "language": "python",
   "name": "thesis"
  },
  "language_info": {
   "codemirror_mode": {
    "name": "ipython",
    "version": 3
   },
   "file_extension": ".py",
   "mimetype": "text/x-python",
   "name": "python",
   "nbconvert_exporter": "python",
   "pygments_lexer": "ipython3",
   "version": "3.7.6"
  }
 },
 "nbformat": 4,
 "nbformat_minor": 2
}
