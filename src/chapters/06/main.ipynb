{
 "cells": [
  {
   "cell_type": "code",
   "execution_count": 8,
   "metadata": {},
   "outputs": [],
   "source": [
    "import axelrod as axl"
   ]
  },
  {
   "cell_type": "markdown",
   "metadata": {},
   "source": [
    "**Example against Cooperator**"
   ]
  },
  {
   "cell_type": "code",
   "execution_count": 14,
   "metadata": {},
   "outputs": [],
   "source": [
    "players = [axl.Cycler('DDDCCCDDCC'), axl.Cooperator()]"
   ]
  },
  {
   "cell_type": "code",
   "execution_count": 15,
   "metadata": {},
   "outputs": [
    {
     "data": {
      "text/plain": [
       "[(D, C),\n",
       " (D, C),\n",
       " (D, C),\n",
       " (C, C),\n",
       " (C, C),\n",
       " (C, C),\n",
       " (D, C),\n",
       " (D, C),\n",
       " (C, C),\n",
       " (C, C)]"
      ]
     },
     "execution_count": 15,
     "metadata": {},
     "output_type": "execute_result"
    }
   ],
   "source": [
    "match.play()"
   ]
  },
  {
   "cell_type": "code",
   "execution_count": 16,
   "metadata": {},
   "outputs": [
    {
     "data": {
      "text/plain": [
       "(4.0, 1.5)"
      ]
     },
     "execution_count": 16,
     "metadata": {},
     "output_type": "execute_result"
    }
   ],
   "source": [
    "match.final_score_per_turn()"
   ]
  },
  {
   "cell_type": "markdown",
   "metadata": {},
   "source": [
    "**Example against Tit For Tat**"
   ]
  },
  {
   "cell_type": "code",
   "execution_count": 21,
   "metadata": {},
   "outputs": [],
   "source": [
    "players = [axl.Cycler('DDDCCCDDCC'), axl.TitForTat()]"
   ]
  },
  {
   "cell_type": "code",
   "execution_count": 22,
   "metadata": {},
   "outputs": [
    {
     "data": {
      "text/plain": [
       "[(D, C),\n",
       " (D, D),\n",
       " (D, D),\n",
       " (C, D),\n",
       " (C, C),\n",
       " (C, C),\n",
       " (D, C),\n",
       " (D, D),\n",
       " (C, D),\n",
       " (C, C)]"
      ]
     },
     "execution_count": 22,
     "metadata": {},
     "output_type": "execute_result"
    }
   ],
   "source": [
    "match = axl.Match(players, turns=10)\n",
    "match.play()"
   ]
  },
  {
   "cell_type": "code",
   "execution_count": 19,
   "metadata": {},
   "outputs": [
    {
     "data": {
      "text/plain": [
       "(2.2, 2.2)"
      ]
     },
     "execution_count": 19,
     "metadata": {},
     "output_type": "execute_result"
    }
   ],
   "source": [
    "match.final_score_per_turn()"
   ]
  },
  {
   "cell_type": "markdown",
   "metadata": {},
   "source": [
    "**Example against Random**"
   ]
  },
  {
   "cell_type": "code",
   "execution_count": 58,
   "metadata": {},
   "outputs": [],
   "source": [
    "players = [axl.Random(), axl.Cycler('DDDCCCDDCC')]"
   ]
  },
  {
   "cell_type": "code",
   "execution_count": 59,
   "metadata": {},
   "outputs": [],
   "source": [
    "axl.seed(1)\n",
    "match = axl.Match(players, turns=10)\n",
    "actions = match.play()"
   ]
  },
  {
   "cell_type": "code",
   "execution_count": 64,
   "metadata": {},
   "outputs": [
    {
     "data": {
      "text/plain": [
       "'(C) &(D) &(D) &(C) &(C) &(C) &(D) &(D) &(C) &(C) &'"
      ]
     },
     "execution_count": 64,
     "metadata": {},
     "output_type": "execute_result"
    }
   ],
   "source": [
    "''.join([f'({action[0]}) &' for action in actions])"
   ]
  },
  {
   "cell_type": "code",
   "execution_count": 61,
   "metadata": {},
   "outputs": [
    {
     "data": {
      "text/plain": [
       "[(C, D),\n",
       " (D, D),\n",
       " (D, D),\n",
       " (C, C),\n",
       " (C, C),\n",
       " (C, C),\n",
       " (D, D),\n",
       " (D, D),\n",
       " (C, C),\n",
       " (C, C)]"
      ]
     },
     "execution_count": 61,
     "metadata": {},
     "output_type": "execute_result"
    }
   ],
   "source": [
    "actions"
   ]
  },
  {
   "cell_type": "code",
   "execution_count": 51,
   "metadata": {},
   "outputs": [
    {
     "data": {
      "text/plain": [
       "(1.9, 2.4)"
      ]
     },
     "execution_count": 51,
     "metadata": {},
     "output_type": "execute_result"
    }
   ],
   "source": [
    "match.final_score_per_turn()"
   ]
  },
  {
   "cell_type": "code",
   "execution_count": 65,
   "metadata": {},
   "outputs": [],
   "source": [
    "axl.seed(2)\n",
    "match = axl.Match(players, turns=10)\n",
    "actions = match.play()"
   ]
  },
  {
   "cell_type": "code",
   "execution_count": 70,
   "metadata": {},
   "outputs": [
    {
     "data": {
      "text/plain": [
       "'\\\\(D\\\\) &\\\\(D\\\\) &\\\\(C\\\\) &\\\\(C\\\\) &\\\\(D\\\\) &\\\\(D\\\\) &\\\\(D\\\\) &\\\\(C\\\\) &\\\\(D\\\\) &\\\\(D\\\\) &'"
      ]
     },
     "execution_count": 70,
     "metadata": {},
     "output_type": "execute_result"
    }
   ],
   "source": [
    "''.join([f'\\({action[0]}\\) &' for action in actions])"
   ]
  },
  {
   "cell_type": "code",
   "execution_count": 71,
   "metadata": {},
   "outputs": [
    {
     "data": {
      "text/plain": [
       "(2.6, 1.6)"
      ]
     },
     "execution_count": 71,
     "metadata": {},
     "output_type": "execute_result"
    }
   ],
   "source": [
    "match.final_score_per_turn()"
   ]
  },
  {
   "cell_type": "code",
   "execution_count": 40,
   "metadata": {},
   "outputs": [
    {
     "name": "stdout",
     "output_type": "stream",
     "text": [
      "[(D, D), (D, D), (D, C), (C, C), (C, D), (C, C), (D, D), (D, C), (C, C), (C, D)] (2.2, 2.2)\n",
      "================================================================================\n",
      "[(D, C), (D, D), (D, D), (C, C), (C, C), (C, C), (D, D), (D, D), (C, C), (C, C)] (2.4, 1.9)\n",
      "================================================================================\n",
      "[(D, D), (D, D), (D, C), (C, C), (C, D), (C, D), (D, D), (D, C), (C, D), (C, D)] (1.6, 2.6)\n",
      "================================================================================\n",
      "[(D, C), (D, D), (D, C), (C, D), (C, D), (C, C), (D, C), (D, D), (C, C), (C, C)] (2.6, 2.1)\n",
      "================================================================================\n",
      "[(D, C), (D, C), (D, C), (C, C), (C, C), (C, C), (D, D), (D, D), (C, D), (C, C)] (2.9, 1.9)\n",
      "================================================================================\n"
     ]
    }
   ],
   "source": [
    "players = [axl.Cycler('DDDCCCDDCC'), axl.Random()]\n",
    "for seed in range(5):\n",
    "    axl.seed(seed)\n",
    "    match = axl.Match(players, turns=10)\n",
    "    actions = match.play()\n",
    "    print(actions, match.final_score_per_turn())\n",
    "    print(\"================================================================================\")\n"
   ]
  },
  {
   "cell_type": "markdown",
   "metadata": {},
   "source": [
    "**Sequence sensei example**"
   ]
  },
  {
   "cell_type": "code",
   "execution_count": 3,
   "metadata": {},
   "outputs": [],
   "source": [
    "import sequence_sensei as ss"
   ]
  },
  {
   "cell_type": "code",
   "execution_count": 5,
   "metadata": {},
   "outputs": [],
   "source": [
    "initial_population = ss.get_initial_population(half_size_of_population=5, sequence_length=8)"
   ]
  },
  {
   "cell_type": "code",
   "execution_count": 11,
   "metadata": {},
   "outputs": [
    {
     "data": {
      "text/plain": [
       "[[C, D, D, D, D, D, D, D],\n",
       " [D, C, C, C, C, C, C, C],\n",
       " [C, C, D, D, D, D, D, D],\n",
       " [D, D, C, C, C, C, C, C],\n",
       " [C, C, C, C, D, D, D, D],\n",
       " [D, D, D, D, C, C, C, C],\n",
       " [C, C, C, C, C, C, D, D],\n",
       " [D, D, D, D, D, D, C, C],\n",
       " [C, C, C, C, C, C, C, C],\n",
       " [D, D, D, D, D, D, D, D]]"
      ]
     },
     "execution_count": 11,
     "metadata": {},
     "output_type": "execute_result"
    }
   ],
   "source": [
    "[[axl.Action(gene) for gene in member] for member in initial_population]"
   ]
  },
  {
   "cell_type": "code",
   "execution_count": null,
   "metadata": {},
   "outputs": [],
   "source": []
  }
 ],
 "metadata": {
  "kernelspec": {
   "display_name": "rnn",
   "language": "python",
   "name": "rnn"
  },
  "language_info": {
   "codemirror_mode": {
    "name": "ipython",
    "version": 3
   },
   "file_extension": ".py",
   "mimetype": "text/x-python",
   "name": "python",
   "nbconvert_exporter": "python",
   "pygments_lexer": "ipython3",
   "version": "3.6.7"
  }
 },
 "nbformat": 4,
 "nbformat_minor": 2
}
