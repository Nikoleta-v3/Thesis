{
 "cells": [
  {
   "cell_type": "markdown",
   "metadata": {},
   "source": [
    "Best Response Sequences in the Iterated Prisoner's Dilemma\n",
    "------------"
   ]
  },
  {
   "cell_type": "markdown",
   "metadata": {},
   "source": [
    "This Chapter explores best response strategies, to a collection of opponents, in the form of sequences. The APL project is used to simulate matches between these opponents and the \"sequence\" players. Morespecifically, the class `Cycler` is used to simulate the sequences."
   ]
  },
  {
   "cell_type": "code",
   "execution_count": 1,
   "metadata": {},
   "outputs": [
    {
     "name": "stderr",
     "output_type": "stream",
     "text": [
      "//anaconda3/envs/rnn/lib/python3.6/site-packages/dask/config.py:129: YAMLLoadWarning: calling yaml.load() without Loader=... is deprecated, as the default Loader is unsafe. Please read https://msg.pyyaml.org/load for full details.\n",
      "  data = yaml.load(f.read()) or {}\n"
     ]
    }
   ],
   "source": [
    "import sequence_sensei as ss\n",
    "import pandas as pd\n",
    "import dask\n",
    "import axelrod as axl\n",
    "\n",
    "import matplotlib.pyplot as plt\n",
    "import numpy as np"
   ]
  },
  {
   "cell_type": "code",
   "execution_count": 2,
   "metadata": {},
   "outputs": [
    {
     "data": {
      "text/plain": [
       "'0.18.1'"
      ]
     },
     "execution_count": 2,
     "metadata": {},
     "output_type": "execute_result"
    }
   ],
   "source": [
    "dask.__version__"
   ]
  },
  {
   "cell_type": "code",
   "execution_count": 3,
   "metadata": {},
   "outputs": [
    {
     "data": {
      "text/plain": [
       "<function delayed at 0x10e5019d8>"
      ]
     },
     "execution_count": 3,
     "metadata": {},
     "output_type": "execute_result"
    }
   ],
   "source": [
    "dask.delayed"
   ]
  },
  {
   "cell_type": "code",
   "execution_count": 2,
   "metadata": {},
   "outputs": [],
   "source": [
    "population = ss.get_initial_population(10)\n",
    "opponent = axl.Random\n",
    "seed=0"
   ]
  },
  {
   "cell_type": "code",
   "execution_count": 3,
   "metadata": {},
   "outputs": [],
   "source": [
    "index_scores = []\n",
    "for index, individual in enumerate(population):\n",
    "    index_scores.append(\n",
    "        ss.get_fitness_of_individual(\n",
    "            individual, opponent, seed=seed, turns=200, index=index\n",
    "        )\n",
    "    )"
   ]
  },
  {
   "cell_type": "code",
   "execution_count": 4,
   "metadata": {},
   "outputs": [
    {
     "data": {
      "text/plain": [
       "[Delayed('get_fitness_of_individual-9f797687-5e99-4579-9b7f-7a875a77f99f'),\n",
       " Delayed('get_fitness_of_individual-2d5dc4b9-b0e7-44d3-a097-063670ab0d0c'),\n",
       " Delayed('get_fitness_of_individual-2f09a095-2638-44da-81a8-86adaf728138')]"
      ]
     },
     "execution_count": 4,
     "metadata": {},
     "output_type": "execute_result"
    }
   ],
   "source": [
    "index_scores[:3]"
   ]
  },
  {
   "cell_type": "code",
   "execution_count": 5,
   "metadata": {
    "scrolled": true
   },
   "outputs": [],
   "source": [
    "# scores = list(dask.compute(*index_scores, num_workers=3))\n",
    "# scores"
   ]
  },
  {
   "cell_type": "code",
   "execution_count": 6,
   "metadata": {},
   "outputs": [],
   "source": [
    "# results = [\n",
    "#     [\n",
    "#         opponent.name,\n",
    "#         seed,\n",
    "#         2000,\n",
    "#         10,\n",
    "#         0.1,\n",
    "#         10,\n",
    "#         2000,\n",
    "#         *scores[i],\n",
    "#         *population[i],\n",
    "#     ]\n",
    "#     for i in range(10* 2)\n",
    "# ]\n",
    "# results.sort(key=lambda tup: tup[8], reverse=True)\n",
    "# pd.DataFrame(results)"
   ]
  },
  {
   "cell_type": "code",
   "execution_count": 7,
   "metadata": {},
   "outputs": [],
   "source": [
    "jobs = [ss.get_fitness_of_individual(population[-1], axl.Random, seed=0, turns=200, index=19),\n",
    "        ss.get_fitness_of_individual(population[-2], axl.Random, seed=0, turns=200, index=18)]"
   ]
  },
  {
   "cell_type": "code",
   "execution_count": 8,
   "metadata": {},
   "outputs": [
    {
     "name": "stdout",
     "output_type": "stream",
     "text": [
      "00 Random\n",
      " Random\n"
     ]
    },
    {
     "data": {
      "text/plain": [
       "([(19, 3.0), (18, 1.395)],)"
      ]
     },
     "execution_count": 8,
     "metadata": {},
     "output_type": "execute_result"
    }
   ],
   "source": [
    "dask.compute(jobs,\n",
    "             num_workers=2)"
   ]
  },
  {
   "cell_type": "code",
   "execution_count": 9,
   "metadata": {},
   "outputs": [
    {
     "data": {
      "image/png": "[encoded data removed]",
      "text/plain": [
       "<IPython.core.display.Image object>"
      ]
     },
     "execution_count": 9,
     "metadata": {},
     "output_type": "execute_result"
    }
   ],
   "source": [
    "dask.visualize(dask.delayed()(jobs))"
   ]
  },
  {
   "cell_type": "code",
   "execution_count": 10,
   "metadata": {},
   "outputs": [],
   "source": [
    "axl.seed(0)\n",
    "opponent = axl.Random()\n",
    "player = axl.Cycler(ss.get_sequence_str(population[-1]))\n",
    "match = axl.Match([opponent, player], turns=200)\n",
    "_ = match.play()"
   ]
  },
  {
   "cell_type": "code",
   "execution_count": 11,
   "metadata": {},
   "outputs": [
    {
     "data": {
      "text/plain": [
       "2.86"
      ]
     },
     "execution_count": 11,
     "metadata": {},
     "output_type": "execute_result"
    }
   ],
   "source": [
    "match.final_score_per_turn()[-1]"
   ]
  },
  {
   "cell_type": "code",
   "execution_count": 12,
   "metadata": {},
   "outputs": [
    {
     "data": {
      "text/plain": [
       "1.395"
      ]
     },
     "execution_count": 12,
     "metadata": {},
     "output_type": "execute_result"
    }
   ],
   "source": [
    "axl.seed(0)\n",
    "opponent = axl.Random()\n",
    "player = axl.Cycler(ss.get_sequence_str(population[-2]))\n",
    "match = axl.Match([opponent, player], turns=200)\n",
    "_ = match.play()\n",
    "match.final_score_per_turn()[-1]"
   ]
  },
  {
   "cell_type": "code",
   "execution_count": 13,
   "metadata": {},
   "outputs": [
    {
     "name": "stdout",
     "output_type": "stream",
     "text": [
      "0 Random\n"
     ]
    },
    {
     "data": {
      "text/plain": [
       "([(19, 2.86)],)"
      ]
     },
     "execution_count": 13,
     "metadata": {},
     "output_type": "execute_result"
    }
   ],
   "source": [
    "dask.compute([ss.get_fitness_of_individual(population[-1], axl.Random, seed=0, turns=200, index=19)],\n",
    "             num_workers=4)"
   ]
  },
  {
   "cell_type": "markdown",
   "metadata": {},
   "source": [
    "**Investigating**"
   ]
  },
  {
   "cell_type": "code",
   "execution_count": 14,
   "metadata": {},
   "outputs": [],
   "source": [
    "@dask.delayed\n",
    "def get_random_number(seed):\n",
    "    axl.seed(seed)\n",
    "    return seed, [np.random.random() for _ in range(200)]\n",
    "    "
   ]
  },
  {
   "cell_type": "code",
   "execution_count": 15,
   "metadata": {},
   "outputs": [],
   "source": [
    "jobs = [get_random_number(0) for _ in range(10)]"
   ]
  },
  {
   "cell_type": "code",
   "execution_count": 16,
   "metadata": {},
   "outputs": [],
   "source": [
    "expected_outcome_random_numbers = dask.compute(jobs, num_workers=4)"
   ]
  },
  {
   "cell_type": "code",
   "execution_count": 17,
   "metadata": {},
   "outputs": [],
   "source": [
    "for _ in range(10000):\n",
    "    assert dask.compute(jobs, num_workers=2) == expected_outcome_random_numbers"
   ]
  },
  {
   "cell_type": "code",
   "execution_count": 18,
   "metadata": {},
   "outputs": [],
   "source": [
    "C, D = axl.Action.C, axl.Action.D"
   ]
  },
  {
   "cell_type": "code",
   "execution_count": 19,
   "metadata": {},
   "outputs": [],
   "source": [
    "@dask.delayed\n",
    "def get_random_interactions(seed):\n",
    "    axl.seed(seed)\n",
    "    players = [axl.Cooperator(), axl.Random()]\n",
    "    match = axl.Match(players, turns=200)\n",
    "    _ = match.play()\n",
    "    \n",
    "#     players[-1].reset()\n",
    "    return seed, match.final_score_per_turn()[-1]\n",
    "   "
   ]
  },
  {
   "cell_type": "code",
   "execution_count": 20,
   "metadata": {},
   "outputs": [],
   "source": [
    "jobs = [get_random_interactions(0) for _ in range(10)]"
   ]
  },
  {
   "cell_type": "code",
   "execution_count": 22,
   "metadata": {},
   "outputs": [
    {
     "data": {
      "text/plain": [
       "((0, 4.07),\n",
       " (0, 4.07),\n",
       " (0, 4.07),\n",
       " (0, 4.07),\n",
       " (0, 4.07),\n",
       " (0, 4.07),\n",
       " (0, 4.07),\n",
       " (0, 4.07),\n",
       " (0, 4.07),\n",
       " (0, 4.13))"
      ]
     },
     "execution_count": 22,
     "metadata": {},
     "output_type": "execute_result"
    }
   ],
   "source": [
    "dask.compute(*jobs, num_workers=4)"
   ]
  },
  {
   "cell_type": "code",
   "execution_count": 23,
   "metadata": {},
   "outputs": [],
   "source": [
    "expected_output_actions = ((0, 4.07),\n",
    " (0, 4.07),\n",
    " (0, 4.07),\n",
    " (0, 4.07),\n",
    " (0, 4.07),\n",
    " (0, 4.07),\n",
    " (0, 4.07),\n",
    " (0, 4.07),\n",
    " (0, 4.07),\n",
    " (0, 4.07))"
   ]
  },
  {
   "cell_type": "code",
   "execution_count": 24,
   "metadata": {},
   "outputs": [
    {
     "ename": "AssertionError",
     "evalue": "Failed! at 1",
     "output_type": "error",
     "traceback": [
      "\u001b[0;31m---------------------------------------------------------------------------\u001b[0m",
      "\u001b[0;31mAssertionError\u001b[0m                            Traceback (most recent call last)",
      "\u001b[0;32m<ipython-input-24-0998be69ceaa>\u001b[0m in \u001b[0;36m<module>\u001b[0;34m()\u001b[0m\n\u001b[1;32m      1\u001b[0m \u001b[0;32mfor\u001b[0m \u001b[0mi\u001b[0m \u001b[0;32min\u001b[0m \u001b[0mrange\u001b[0m\u001b[0;34m(\u001b[0m\u001b[0;36m1000\u001b[0m\u001b[0;34m)\u001b[0m\u001b[0;34m:\u001b[0m\u001b[0;34m\u001b[0m\u001b[0;34m\u001b[0m\u001b[0m\n\u001b[0;32m----> 2\u001b[0;31m     \u001b[0;32massert\u001b[0m \u001b[0mdask\u001b[0m\u001b[0;34m.\u001b[0m\u001b[0mcompute\u001b[0m\u001b[0;34m(\u001b[0m\u001b[0;34m*\u001b[0m\u001b[0mjobs\u001b[0m\u001b[0;34m,\u001b[0m \u001b[0mnum_workers\u001b[0m\u001b[0;34m=\u001b[0m\u001b[0;36m4\u001b[0m\u001b[0;34m)\u001b[0m \u001b[0;34m==\u001b[0m \u001b[0mexpected_output_actions\u001b[0m\u001b[0;34m,\u001b[0m \u001b[0;34mf\"Failed! at {i}\"\u001b[0m\u001b[0;34m\u001b[0m\u001b[0;34m\u001b[0m\u001b[0m\n\u001b[0m",
      "\u001b[0;31mAssertionError\u001b[0m: Failed! at 1"
     ]
    }
   ],
   "source": [
    "for i in range(1000):\n",
    "    assert dask.compute(*jobs, num_workers=4) == expected_output_actions, f\"Failed! at {i}\""
   ]
  },
  {
   "cell_type": "code",
   "execution_count": 25,
   "metadata": {},
   "outputs": [],
   "source": [
    "axl.Random().reset()"
   ]
  },
  {
   "cell_type": "markdown",
   "metadata": {},
   "source": [
    "**passing the player down**"
   ]
  },
  {
   "cell_type": "code",
   "execution_count": 106,
   "metadata": {},
   "outputs": [],
   "source": [
    "def get_opponent_seed_combinations(opponent, number_of_seeds):\n",
    "    experiment_values = []\n",
    "    for seed in range(number_of_seeds):\n",
    "        experiment_values.append((opponent, 0))\n",
    "    return experiment_values"
   ]
  },
  {
   "cell_type": "code",
   "execution_count": 107,
   "metadata": {},
   "outputs": [],
   "source": [
    "@dask.delayed\n",
    "def get_random_interactions_passing_opponent(seed, opponent):\n",
    "    axl.seed(seed)\n",
    "    opponent = opponent()\n",
    "    players = [axl.Cooperator(), opponent]\n",
    "    match = axl.Match(players, turns=200)\n",
    "    match.play()\n",
    "    return seed, match.final_score_per_turn()[-1]\n",
    "   "
   ]
  },
  {
   "cell_type": "code",
   "execution_count": 28,
   "metadata": {},
   "outputs": [],
   "source": [
    "opponents = get_opponent_seed_combinations(axl.Random, number_of_seeds=10)"
   ]
  },
  {
   "cell_type": "code",
   "execution_count": 29,
   "metadata": {},
   "outputs": [],
   "source": [
    "jobs = [get_random_interactions_passing_opponent(seed, player) for player, seed in opponents]"
   ]
  },
  {
   "cell_type": "code",
   "execution_count": 30,
   "metadata": {},
   "outputs": [],
   "source": [
    "expected_output = ((0, 4.07),\n",
    " (0, 4.07),\n",
    " (0, 4.07),\n",
    " (0, 4.07),\n",
    " (0, 4.07),\n",
    " (0, 4.07),\n",
    " (0, 4.07),\n",
    " (0, 4.07),\n",
    " (0, 4.07),\n",
    " (0, 4.07))"
   ]
  },
  {
   "cell_type": "code",
   "execution_count": 31,
   "metadata": {},
   "outputs": [
    {
     "data": {
      "text/plain": [
       "((0, 4.07),\n",
       " (0, 4.07),\n",
       " (0, 4.07),\n",
       " (0, 4.07),\n",
       " (0, 4.07),\n",
       " (0, 4.07),\n",
       " (0, 4.07),\n",
       " (0, 4.07),\n",
       " (0, 4.07),\n",
       " (0, 4.07))"
      ]
     },
     "execution_count": 31,
     "metadata": {},
     "output_type": "execute_result"
    }
   ],
   "source": [
    "dask.compute(*jobs, num_workers=2)"
   ]
  },
  {
   "cell_type": "code",
   "execution_count": 32,
   "metadata": {},
   "outputs": [
    {
     "ename": "AssertionError",
     "evalue": "Failed! at 0",
     "output_type": "error",
     "traceback": [
      "\u001b[0;31m---------------------------------------------------------------------------\u001b[0m",
      "\u001b[0;31mAssertionError\u001b[0m                            Traceback (most recent call last)",
      "\u001b[0;32m<ipython-input-32-c276043dc9f2>\u001b[0m in \u001b[0;36m<module>\u001b[0;34m()\u001b[0m\n\u001b[1;32m      1\u001b[0m \u001b[0;32mfor\u001b[0m \u001b[0mi\u001b[0m \u001b[0;32min\u001b[0m \u001b[0mrange\u001b[0m\u001b[0;34m(\u001b[0m\u001b[0;36m10000\u001b[0m\u001b[0;34m)\u001b[0m\u001b[0;34m:\u001b[0m\u001b[0;34m\u001b[0m\u001b[0;34m\u001b[0m\u001b[0m\n\u001b[0;32m----> 2\u001b[0;31m     \u001b[0;32massert\u001b[0m \u001b[0mdask\u001b[0m\u001b[0;34m.\u001b[0m\u001b[0mcompute\u001b[0m\u001b[0;34m(\u001b[0m\u001b[0;34m*\u001b[0m\u001b[0mjobs\u001b[0m\u001b[0;34m,\u001b[0m \u001b[0mnum_workers\u001b[0m\u001b[0;34m=\u001b[0m\u001b[0;36m4\u001b[0m\u001b[0;34m)\u001b[0m \u001b[0;34m==\u001b[0m \u001b[0mexpected_output\u001b[0m\u001b[0;34m,\u001b[0m  \u001b[0;34mf\"Failed! at {i}\"\u001b[0m\u001b[0;34m\u001b[0m\u001b[0;34m\u001b[0m\u001b[0m\n\u001b[0m",
      "\u001b[0;31mAssertionError\u001b[0m: Failed! at 0"
     ]
    }
   ],
   "source": [
    "for i in range(10000):\n",
    "    assert dask.compute(*jobs, num_workers=4) == expected_output,  f\"Failed! at {i}\""
   ]
  },
  {
   "cell_type": "code",
   "execution_count": 108,
   "metadata": {},
   "outputs": [],
   "source": [
    "# An example that does not use `opponent=opponent()`\n",
    "@dask.delayed\n",
    "def get_random_interactions_passing_opponent_two(seed, opponent):\n",
    "    (seed)\n",
    "    player = opponent()\n",
    "    players = [axl.Cooperator(), player]\n",
    "    match = axl.Match(players, turns=200)\n",
    "    match.play()\n",
    "    return seed, match.final_score_per_turn()[-1]\n",
    "   "
   ]
  },
  {
   "cell_type": "code",
   "execution_count": 34,
   "metadata": {},
   "outputs": [],
   "source": [
    "opponents = get_opponent_seed_combinations(axl.Random, number_of_seeds=10)\n",
    "jobs = [get_random_interactions_passing_opponent_two(seed, player) for player, seed in opponents]"
   ]
  },
  {
   "cell_type": "code",
   "execution_count": 35,
   "metadata": {},
   "outputs": [
    {
     "ename": "AssertionError",
     "evalue": "Failed! at 3",
     "output_type": "error",
     "traceback": [
      "\u001b[0;31m---------------------------------------------------------------------------\u001b[0m",
      "\u001b[0;31mAssertionError\u001b[0m                            Traceback (most recent call last)",
      "\u001b[0;32m<ipython-input-35-c276043dc9f2>\u001b[0m in \u001b[0;36m<module>\u001b[0;34m()\u001b[0m\n\u001b[1;32m      1\u001b[0m \u001b[0;32mfor\u001b[0m \u001b[0mi\u001b[0m \u001b[0;32min\u001b[0m \u001b[0mrange\u001b[0m\u001b[0;34m(\u001b[0m\u001b[0;36m10000\u001b[0m\u001b[0;34m)\u001b[0m\u001b[0;34m:\u001b[0m\u001b[0;34m\u001b[0m\u001b[0;34m\u001b[0m\u001b[0m\n\u001b[0;32m----> 2\u001b[0;31m     \u001b[0;32massert\u001b[0m \u001b[0mdask\u001b[0m\u001b[0;34m.\u001b[0m\u001b[0mcompute\u001b[0m\u001b[0;34m(\u001b[0m\u001b[0;34m*\u001b[0m\u001b[0mjobs\u001b[0m\u001b[0;34m,\u001b[0m \u001b[0mnum_workers\u001b[0m\u001b[0;34m=\u001b[0m\u001b[0;36m4\u001b[0m\u001b[0;34m)\u001b[0m \u001b[0;34m==\u001b[0m \u001b[0mexpected_output\u001b[0m\u001b[0;34m,\u001b[0m  \u001b[0;34mf\"Failed! at {i}\"\u001b[0m\u001b[0;34m\u001b[0m\u001b[0;34m\u001b[0m\u001b[0m\n\u001b[0m",
      "\u001b[0;31mAssertionError\u001b[0m: Failed! at 3"
     ]
    }
   ],
   "source": [
    "for i in range(10000):\n",
    "    assert dask.compute(*jobs, num_workers=4) == expected_output,  f\"Failed! at {i}\""
   ]
  },
  {
   "cell_type": "code",
   "execution_count": 36,
   "metadata": {},
   "outputs": [
    {
     "data": {
      "text/plain": [
       "axelrod.strategies.rand.Random"
      ]
     },
     "execution_count": 36,
     "metadata": {},
     "output_type": "execute_result"
    }
   ],
   "source": [
    "opponents[0][0]"
   ]
  },
  {
   "cell_type": "markdown",
   "metadata": {},
   "source": [
    "**Toby's example**"
   ]
  },
  {
   "cell_type": "code",
   "execution_count": 109,
   "metadata": {},
   "outputs": [],
   "source": [
    "def get_seeded_player_class(player_class):\n",
    "    class NewClass(player_class):\n",
    "        def __init__(self, seed=0):\n",
    "            self.my_seed = seed  # for pickling\n",
    "            axl.seed(self.my_seed)\n",
    "            super().__init__()\n",
    "\n",
    "    return NewClass"
   ]
  },
  {
   "cell_type": "code",
   "execution_count": 110,
   "metadata": {},
   "outputs": [],
   "source": [
    "opponents = [get_seeded_player_class(axl.Random)(seed=0) for _ in range(10)]"
   ]
  },
  {
   "cell_type": "code",
   "execution_count": 111,
   "metadata": {},
   "outputs": [],
   "source": [
    "@dask.delayed\n",
    "def get_random_interactions_passing_instance(seed, opponent):\n",
    "    # axl.seed(seed) # both fail\n",
    "#     print(opponent.my_seed)\n",
    "    players = [axl.Cooperator(), opponent]\n",
    "    match = axl.Match(players, turns=100)\n",
    "    _ = match.play()\n",
    "    \n",
    "#     players[-1].reset()\n",
    "    return match.final_score_per_turn()[-1], match.result"
   ]
  },
  {
   "cell_type": "code",
   "execution_count": 112,
   "metadata": {},
   "outputs": [],
   "source": [
    "jobs = [get_random_interactions_passing_instance(0, player) for player in opponents]"
   ]
  },
  {
   "cell_type": "code",
   "execution_count": 113,
   "metadata": {},
   "outputs": [],
   "source": [
    "output = dask.compute(*jobs, num_workers=4)"
   ]
  },
  {
   "cell_type": "code",
   "execution_count": 114,
   "metadata": {},
   "outputs": [
    {
     "data": {
      "text/plain": [
       "[4.26, 4.26, 4.26, 4.26, 4.26, 4.26, 4.26, 4.26, 4.26, 4.02]"
      ]
     },
     "execution_count": 114,
     "metadata": {},
     "output_type": "execute_result"
    }
   ],
   "source": [
    "expected_scores = [out[0] for out in output]\n",
    "expected_scores"
   ]
  },
  {
   "cell_type": "code",
   "execution_count": 115,
   "metadata": {},
   "outputs": [
    {
     "ename": "AssertionError",
     "evalue": "Failed! at 0",
     "output_type": "error",
     "traceback": [
      "\u001b[0;31m---------------------------------------------------------------------------\u001b[0m",
      "\u001b[0;31mAssertionError\u001b[0m                            Traceback (most recent call last)",
      "\u001b[0;32m<ipython-input-115-e48a79620f28>\u001b[0m in \u001b[0;36m<module>\u001b[0;34m()\u001b[0m\n\u001b[1;32m      1\u001b[0m \u001b[0;32mfor\u001b[0m \u001b[0mi\u001b[0m \u001b[0;32min\u001b[0m \u001b[0mrange\u001b[0m\u001b[0;34m(\u001b[0m\u001b[0;36m10000\u001b[0m\u001b[0;34m)\u001b[0m\u001b[0;34m:\u001b[0m\u001b[0;34m\u001b[0m\u001b[0;34m\u001b[0m\u001b[0m\n\u001b[1;32m      2\u001b[0m     \u001b[0moutput\u001b[0m \u001b[0;34m=\u001b[0m \u001b[0mdask\u001b[0m\u001b[0;34m.\u001b[0m\u001b[0mcompute\u001b[0m\u001b[0;34m(\u001b[0m\u001b[0;34m*\u001b[0m\u001b[0mjobs\u001b[0m\u001b[0;34m,\u001b[0m \u001b[0mnum_workers\u001b[0m\u001b[0;34m=\u001b[0m\u001b[0;36m4\u001b[0m\u001b[0;34m)\u001b[0m\u001b[0;34m\u001b[0m\u001b[0;34m\u001b[0m\u001b[0m\n\u001b[0;32m----> 3\u001b[0;31m     \u001b[0;32massert\u001b[0m \u001b[0;34m[\u001b[0m\u001b[0mout\u001b[0m\u001b[0;34m[\u001b[0m\u001b[0;36m0\u001b[0m\u001b[0;34m]\u001b[0m \u001b[0;32mfor\u001b[0m \u001b[0mout\u001b[0m \u001b[0;32min\u001b[0m \u001b[0moutput\u001b[0m\u001b[0;34m]\u001b[0m \u001b[0;34m==\u001b[0m \u001b[0mexpected_scores\u001b[0m\u001b[0;34m,\u001b[0m  \u001b[0;34mf\"Failed! at {i}\"\u001b[0m\u001b[0;34m\u001b[0m\u001b[0;34m\u001b[0m\u001b[0m\n\u001b[0m",
      "\u001b[0;31mAssertionError\u001b[0m: Failed! at 0"
     ]
    }
   ],
   "source": [
    "for i in range(10000):\n",
    "    output = dask.compute(*jobs, num_workers=4)\n",
    "    assert [out[0] for out in output] == expected_scores,  f\"Failed! at {i}\""
   ]
  },
  {
   "cell_type": "code",
   "execution_count": 166,
   "metadata": {},
   "outputs": [
    {
     "name": "stdout",
     "output_type": "stream",
     "text": [
      "[(D, C), (D, C), (C, C), (C, C), (D, C), (C, C), (D, C), (C, C), (C, C), (D, C)]\n",
      "[(D, C), (D, C), (C, C), (C, C), (D, C), (C, C), (D, C), (C, C), (C, C), (D, C)]\n"
     ]
    }
   ],
   "source": [
    "players = [get_seeded_player_class(axl.Random)(seed=0) for _ in range(2)]\n",
    "for player in players:\n",
    "    match = axl.Match([player, axl.Cooperator()], turns=10)\n",
    "    _ = match.play()\n",
    "    print(match.result)"
   ]
  },
  {
   "cell_type": "code",
   "execution_count": 125,
   "metadata": {},
   "outputs": [
    {
     "data": {
      "text/plain": [
       "[4.26, 4.26, 4.26, 4.26, 4.26, 4.26, 4.26, 4.26, 4.26, 4.26]"
      ]
     },
     "execution_count": 125,
     "metadata": {},
     "output_type": "execute_result"
    }
   ],
   "source": [
    "[out[0] for out in output]"
   ]
  },
  {
   "cell_type": "code",
   "execution_count": 126,
   "metadata": {},
   "outputs": [
    {
     "data": {
      "text/plain": [
       "4.26"
      ]
     },
     "execution_count": 126,
     "metadata": {},
     "output_type": "execute_result"
    }
   ],
   "source": [
    "output[7][0]"
   ]
  },
  {
   "cell_type": "code",
   "execution_count": 127,
   "metadata": {},
   "outputs": [
    {
     "data": {
      "text/plain": [
       "True"
      ]
     },
     "execution_count": 127,
     "metadata": {},
     "output_type": "execute_result"
    }
   ],
   "source": [
    "[actions[-1] for actions in output[7][1]] == [actions[-1] for actions in output[6][1]]"
   ]
  },
  {
   "cell_type": "code",
   "execution_count": 128,
   "metadata": {},
   "outputs": [],
   "source": [
    "import axelrod.interaction_utils as iu\n",
    "from axelrod.game import Game"
   ]
  },
  {
   "cell_type": "code",
   "execution_count": null,
   "metadata": {},
   "outputs": [],
   "source": []
  },
  {
   "cell_type": "code",
   "execution_count": 171,
   "metadata": {},
   "outputs": [],
   "source": [
    "def match(player_one, player_two, turns):\n",
    "    results = []\n",
    "    for _ in range(turns):\n",
    "        s1 = player_one.strategy(player_two)\n",
    "        s2 = player_two.strategy(player_one)\n",
    "\n",
    "        player_one.history.append(s1)\n",
    "        player_two.history.append(s2)\n",
    "        results.append((s1, s2))\n",
    "    return results"
   ]
  },
  {
   "cell_type": "code",
   "execution_count": 199,
   "metadata": {},
   "outputs": [
    {
     "data": {
      "text/plain": [
       "[(C, C),\n",
       " (C, D),\n",
       " (C, C),\n",
       " (C, D),\n",
       " (C, C),\n",
       " (C, D),\n",
       " (C, C),\n",
       " (C, D),\n",
       " (C, C),\n",
       " (C, D)]"
      ]
     },
     "execution_count": 199,
     "metadata": {},
     "output_type": "execute_result"
    }
   ],
   "source": [
    "results = match(axl.Grudger(), axl.Alternator(), turns=10)\n",
    "results"
   ]
  },
  {
   "cell_type": "code",
   "execution_count": 197,
   "metadata": {},
   "outputs": [
    {
     "data": {
      "text/plain": [
       "[(C, C),\n",
       " (D, C),\n",
       " (D, C),\n",
       " (C, C),\n",
       " (C, C),\n",
       " (C, C),\n",
       " (C, C),\n",
       " (C, C),\n",
       " (C, C),\n",
       " (C, C)]"
      ]
     },
     "execution_count": 197,
     "metadata": {},
     "output_type": "execute_result"
    }
   ],
   "source": [
    "results = match(axl.Random(), axl.Cooperator(), turns=10)\n",
    "results"
   ]
  },
  {
   "cell_type": "code",
   "execution_count": 174,
   "metadata": {},
   "outputs": [
    {
     "data": {
      "text/plain": [
       "[(C, C),\n",
       " (D, C),\n",
       " (D, C),\n",
       " (C, C),\n",
       " (C, C),\n",
       " (C, C),\n",
       " (D, C),\n",
       " (D, C),\n",
       " (C, C),\n",
       " (C, C)]"
      ]
     },
     "execution_count": 174,
     "metadata": {},
     "output_type": "execute_result"
    }
   ],
   "source": [
    "results = match(get_seeded_player_class(axl.Random)(seed=1), axl.Cooperator(), turns=10)\n",
    "results"
   ]
  },
  {
   "cell_type": "code",
   "execution_count": 194,
   "metadata": {},
   "outputs": [],
   "source": [
    "players = [get_seeded_player_class(axl.Random)(seed=1) for _ in range(2)]"
   ]
  },
  {
   "cell_type": "code",
   "execution_count": 195,
   "metadata": {},
   "outputs": [
    {
     "name": "stdout",
     "output_type": "stream",
     "text": [
      "[(C, C), (D, C), (D, C), (C, C), (C, C), (C, C), (D, C), (D, C), (C, C), (C, C)]\n",
      "[(D, C), (C, C), (D, C), (C, C), (C, C), (D, C), (C, C), (D, C), (D, C), (C, C)]\n"
     ]
    }
   ],
   "source": [
    "for player in players:\n",
    "    results = match(player, axl.Cooperator(), turns=10)\n",
    "    print(results)"
   ]
  },
  {
   "cell_type": "code",
   "execution_count": 185,
   "metadata": {},
   "outputs": [],
   "source": [
    "opponents = get_opponent_seed_combinations(axl.RandomTitForTat, number_of_seeds=10)"
   ]
  },
  {
   "cell_type": "code",
   "execution_count": 180,
   "metadata": {},
   "outputs": [],
   "source": [
    "strategies = {strategy().name: strategy for strategy in axl.strategies \n",
    "              if strategy.classifier[\"stochastic\"] == True}"
   ]
  },
  {
   "cell_type": "code",
   "execution_count": 182,
   "metadata": {},
   "outputs": [
    {
     "data": {
      "text/plain": [
       "[(C, C), (C, C), (C, C), (C, C)]"
      ]
     },
     "execution_count": 182,
     "metadata": {},
     "output_type": "execute_result"
    }
   ],
   "source": [
    "results = match(axl.WorseAndWorse2(), axl.Cooperator(), turns=4)\n",
    "results"
   ]
  },
  {
   "cell_type": "code",
   "execution_count": 183,
   "metadata": {},
   "outputs": [
    {
     "data": {
      "text/plain": [
       "(3.0, 3.0)"
      ]
     },
     "execution_count": 183,
     "metadata": {},
     "output_type": "execute_result"
    }
   ],
   "source": [
    "iu.compute_final_score_per_turn(results, Game())"
   ]
  },
  {
   "cell_type": "code",
   "execution_count": 189,
   "metadata": {},
   "outputs": [],
   "source": [
    "@dask.delayed\n",
    "def get_my_class(opponent, seed):\n",
    "    axl.seed(seed)\n",
    "    results = match(opponent(), axl.Alternator(), turns=200)\n",
    "    return iu.compute_final_score_per_turn(results, Game())"
   ]
  },
  {
   "cell_type": "code",
   "execution_count": 190,
   "metadata": {},
   "outputs": [],
   "source": [
    "jobs = [get_my_class(player, seed) for player, seed in opponents]"
   ]
  },
  {
   "cell_type": "code",
   "execution_count": 191,
   "metadata": {},
   "outputs": [
    {
     "data": {
      "text/plain": [
       "((2.13, 3.055),\n",
       " (2.13, 3.055),\n",
       " (2.13, 3.055),\n",
       " (2.13, 3.055),\n",
       " (2.13, 3.055),\n",
       " (2.13, 3.055),\n",
       " (2.13, 3.055),\n",
       " (2.13, 3.055),\n",
       " (2.13, 3.055),\n",
       " (2.13, 3.055))"
      ]
     },
     "execution_count": 191,
     "metadata": {},
     "output_type": "execute_result"
    }
   ],
   "source": [
    "expected_outcome = dask.compute(*jobs, num_workers=4)\n",
    "expected_outcome"
   ]
  },
  {
   "cell_type": "code",
   "execution_count": 193,
   "metadata": {},
   "outputs": [
    {
     "ename": "AssertionError",
     "evalue": "Failed! at 6618",
     "output_type": "error",
     "traceback": [
      "\u001b[0;31m---------------------------------------------------------------------------\u001b[0m",
      "\u001b[0;31mAssertionError\u001b[0m                            Traceback (most recent call last)",
      "\u001b[0;32m<ipython-input-193-684323a24bfa>\u001b[0m in \u001b[0;36m<module>\u001b[0;34m()\u001b[0m\n\u001b[1;32m      1\u001b[0m \u001b[0;32mfor\u001b[0m \u001b[0mi\u001b[0m \u001b[0;32min\u001b[0m \u001b[0mrange\u001b[0m\u001b[0;34m(\u001b[0m\u001b[0;36m10000\u001b[0m\u001b[0;34m)\u001b[0m\u001b[0;34m:\u001b[0m\u001b[0;34m\u001b[0m\u001b[0;34m\u001b[0m\u001b[0m\n\u001b[0;32m----> 2\u001b[0;31m     \u001b[0;32massert\u001b[0m \u001b[0mdask\u001b[0m\u001b[0;34m.\u001b[0m\u001b[0mcompute\u001b[0m\u001b[0;34m(\u001b[0m\u001b[0;34m*\u001b[0m\u001b[0mjobs\u001b[0m\u001b[0;34m,\u001b[0m \u001b[0mnum_workers\u001b[0m\u001b[0;34m=\u001b[0m\u001b[0;36m4\u001b[0m\u001b[0;34m)\u001b[0m \u001b[0;34m==\u001b[0m \u001b[0mexpected_outcome\u001b[0m\u001b[0;34m,\u001b[0m  \u001b[0;34mf\"Failed! at {i}\"\u001b[0m\u001b[0;34m\u001b[0m\u001b[0;34m\u001b[0m\u001b[0m\n\u001b[0m",
      "\u001b[0;31mAssertionError\u001b[0m: Failed! at 6618"
     ]
    }
   ],
   "source": [
    "for i in range(10000):\n",
    "    assert dask.compute(*jobs, num_workers=4) == expected_outcome,  f\"Failed! at {i}\""
   ]
  },
  {
   "cell_type": "code",
   "execution_count": 2,
   "metadata": {},
   "outputs": [],
   "source": [
    "import random\n",
    "import scipy"
   ]
  },
  {
   "cell_type": "code",
   "execution_count": 228,
   "metadata": {},
   "outputs": [
    {
     "data": {
      "text/plain": [
       "'MT19937'"
      ]
     },
     "execution_count": 228,
     "metadata": {},
     "output_type": "execute_result"
    }
   ],
   "source": [
    "np.random.get_state()[0]"
   ]
  },
  {
   "cell_type": "code",
   "execution_count": 233,
   "metadata": {},
   "outputs": [],
   "source": [
    "@dask.delayed\n",
    "def get_random_interactions_numpy_seed(seed):\n",
    "    np.random.seed(seed)\n",
    "    players = [axl.Cooperator(), axl.Random()]\n",
    "    match = axl.Match(players, turns=200)\n",
    "    _ = match.play()\n",
    "\n",
    "    return np.random.get_state(), seed, match.final_score_per_turn()[-1]"
   ]
  },
  {
   "cell_type": "code",
   "execution_count": 234,
   "metadata": {},
   "outputs": [],
   "source": [
    "jobs = [get_random_interactions_numpy_seed(0) for _ in range(10)]"
   ]
  },
  {
   "cell_type": "code",
   "execution_count": 247,
   "metadata": {
    "scrolled": true
   },
   "outputs": [],
   "source": [
    "output = dask.compute(*jobs, num_workers=1)"
   ]
  },
  {
   "cell_type": "code",
   "execution_count": 248,
   "metadata": {},
   "outputs": [
    {
     "data": {
      "text/plain": [
       "[4.06, 4.06, 4.06, 4.06, 4.06, 4.06, 4.06, 4.06, 4.06, 4.06]"
      ]
     },
     "execution_count": 248,
     "metadata": {},
     "output_type": "execute_result"
    }
   ],
   "source": [
    "[out[2] for out in output]"
   ]
  },
  {
   "cell_type": "code",
   "execution_count": 249,
   "metadata": {},
   "outputs": [],
   "source": [
    "states = [out[0] for out in output]"
   ]
  },
  {
   "cell_type": "code",
   "execution_count": 250,
   "metadata": {},
   "outputs": [],
   "source": [
    "# states[0][1] == states[0][2]"
   ]
  },
  {
   "cell_type": "code",
   "execution_count": 223,
   "metadata": {},
   "outputs": [
    {
     "ename": "AssertionError",
     "evalue": "Failed! at 1360",
     "output_type": "error",
     "traceback": [
      "\u001b[0;31m---------------------------------------------------------------------------\u001b[0m",
      "\u001b[0;31mAssertionError\u001b[0m                            Traceback (most recent call last)",
      "\u001b[0;32m<ipython-input-223-ae218ae6277c>\u001b[0m in \u001b[0;36m<module>\u001b[0;34m()\u001b[0m\n\u001b[1;32m      1\u001b[0m \u001b[0;32mfor\u001b[0m \u001b[0mi\u001b[0m \u001b[0;32min\u001b[0m \u001b[0mrange\u001b[0m\u001b[0;34m(\u001b[0m\u001b[0;36m10000\u001b[0m\u001b[0;34m)\u001b[0m\u001b[0;34m:\u001b[0m\u001b[0;34m\u001b[0m\u001b[0;34m\u001b[0m\u001b[0m\n\u001b[0;32m----> 2\u001b[0;31m     \u001b[0;32massert\u001b[0m \u001b[0mdask\u001b[0m\u001b[0;34m.\u001b[0m\u001b[0mcompute\u001b[0m\u001b[0;34m(\u001b[0m\u001b[0;34m*\u001b[0m\u001b[0mjobs\u001b[0m\u001b[0;34m,\u001b[0m \u001b[0mnum_workers\u001b[0m\u001b[0;34m=\u001b[0m\u001b[0;36m2\u001b[0m\u001b[0;34m)\u001b[0m \u001b[0;34m==\u001b[0m \u001b[0mexpected_outcome\u001b[0m\u001b[0;34m,\u001b[0m  \u001b[0;34mf\"Failed! at {i}\"\u001b[0m\u001b[0;34m\u001b[0m\u001b[0;34m\u001b[0m\u001b[0m\n\u001b[0m",
      "\u001b[0;31mAssertionError\u001b[0m: Failed! at 1360"
     ]
    }
   ],
   "source": [
    "for i in range(10000):\n",
    "    assert dask.compute(*jobs, num_workers=2) == expected_outcome,  f\"Failed! at {i}\""
   ]
  },
  {
   "cell_type": "code",
   "execution_count": 58,
   "metadata": {},
   "outputs": [
    {
     "data": {
      "text/plain": [
       "RandomState(MT19937) at 0x121583490"
      ]
     },
     "execution_count": 58,
     "metadata": {},
     "output_type": "execute_result"
    }
   ],
   "source": [
    "np.random.RandomState()"
   ]
  },
  {
   "cell_type": "code",
   "execution_count": 152,
   "metadata": {},
   "outputs": [],
   "source": [
    "from axelrod.action import Action\n",
    "def random_choice(p, seed):\n",
    "    \"\"\"\n",
    "    Return C with probability `p`, else return D\n",
    "\n",
    "    No random sample is carried out if p is 0 or 1.\n",
    "\n",
    "    Parameters\n",
    "    ----------\n",
    "    p : float\n",
    "        The probability of picking C\n",
    "\n",
    "    Returns\n",
    "    -------\n",
    "    axelrod.Action\n",
    "    \"\"\"\n",
    "    if p == 0:\n",
    "        return Action.D\n",
    "\n",
    "    if p == 1:\n",
    "        return Action.C\n",
    "    \n",
    "    R = np.random.RandomState(seed)\n",
    "    r = R.random()\n",
    "    if r < p:\n",
    "        return Action.C\n",
    "    return Action.D"
   ]
  },
  {
   "cell_type": "code",
   "execution_count": 179,
   "metadata": {},
   "outputs": [],
   "source": [
    "from axelrod.action import Action\n",
    "def random_choice(p, random_state=None):\n",
    "    \"\"\"\n",
    "    Return C with probability `p`, else return D\n",
    "\n",
    "    No random sample is carried out if p is 0 or 1.\n",
    "\n",
    "    Parameters\n",
    "    ----------\n",
    "    p : float\n",
    "        The probability of picking C\n",
    "\n",
    "    Returns\n",
    "    -------\n",
    "    axelrod.Action\n",
    "    \"\"\"\n",
    "    if p == 0:\n",
    "        return Action.D\n",
    "\n",
    "    if p == 1:\n",
    "        return Action.C\n",
    "    \n",
    "    if random_state is None:\n",
    "        r = np.random.random()\n",
    "    else:\n",
    "        R = random_state\n",
    "        r = R.random()\n",
    "    \n",
    "    if r < p:\n",
    "        return Action.C\n",
    "    return Action.D"
   ]
  },
  {
   "cell_type": "code",
   "execution_count": 180,
   "metadata": {},
   "outputs": [],
   "source": [
    "from axelrod.player import Player\n",
    "\n",
    "\n",
    "class Random(Player):\n",
    "    \"\"\"A player who randomly chooses between cooperating and defecting.\n",
    "\n",
    "    This strategy came 15th in Axelrod's original tournament.\n",
    "\n",
    "    Names:\n",
    "\n",
    "    - Random: [Axelrod1980]_\n",
    "    - Lunatic: [Tzafestas2000]_\n",
    "    \"\"\"\n",
    "\n",
    "    name = \"Random\"\n",
    "    classifier = {\n",
    "        \"memory_depth\": 0,  # Memory-one Four-Vector = (p, p, p, p)\n",
    "        \"stochastic\": True,\n",
    "        \"makes_use_of\": set(),\n",
    "        \"long_run_time\": False,\n",
    "        \"inspects_source\": False,\n",
    "        \"manipulates_source\": False,\n",
    "        \"manipulates_state\": False,\n",
    "    }\n",
    "\n",
    "    def __init__(self, p: float = 0.5, random_state=None) -> None:\n",
    "        \"\"\"\n",
    "        Parameters\n",
    "        ----------\n",
    "        p, float\n",
    "            The probability to cooperate\n",
    "\n",
    "        Special Cases\n",
    "        -------------\n",
    "        Random(0) is equivalent to Defector\n",
    "        Random(1) is equivalent to Cooperator\n",
    "        \"\"\"\n",
    "        super().__init__()\n",
    "        self.p = p \n",
    "        self.random_state = random_state\n",
    "\n",
    "        if p in [0, 1]:\n",
    "            self.classifier[\"stochastic\"] = False\n",
    "\n",
    "    def strategy(self, opponent: Player):\n",
    "        return random_choice(self.p, self.random_state)\n"
   ]
  },
  {
   "cell_type": "code",
   "execution_count": null,
   "metadata": {},
   "outputs": [],
   "source": []
  },
  {
   "cell_type": "code",
   "execution_count": 208,
   "metadata": {},
   "outputs": [],
   "source": [
    "R = np.random.RandomState(0)\n",
    "players = [axl.Cooperator(), Random(random_state=R)]"
   ]
  },
  {
   "cell_type": "code",
   "execution_count": 209,
   "metadata": {},
   "outputs": [
    {
     "data": {
      "text/plain": [
       "(1.41, 4.06)"
      ]
     },
     "execution_count": 209,
     "metadata": {},
     "output_type": "execute_result"
    }
   ],
   "source": [
    "match = axl.Match(players, turns=200)\n",
    "_ = match.play()\n",
    "match.final_score_per_turn()"
   ]
  },
  {
   "cell_type": "code",
   "execution_count": null,
   "metadata": {},
   "outputs": [],
   "source": []
  },
  {
   "cell_type": "code",
   "execution_count": 343,
   "metadata": {},
   "outputs": [],
   "source": [
    "@dask.delayed\n",
    "def get_random_interactions_my_player(seed):\n",
    "    R = np.random.RandomState(seed)\n",
    "    players = [axl.Alternator(), Random(random_state=R)]\n",
    "    match = axl.Match(players, turns=200)\n",
    "    _ = match.play()\n",
    "\n",
    "    return seed, match.final_score_per_turn()[-1]"
   ]
  },
  {
   "cell_type": "code",
   "execution_count": 344,
   "metadata": {},
   "outputs": [],
   "source": [
    "jobs = [get_random_interactions_my_player(0) for _ in range(10)]"
   ]
  },
  {
   "cell_type": "code",
   "execution_count": 345,
   "metadata": {},
   "outputs": [
    {
     "data": {
      "text/plain": [
       "((0, 2.31),\n",
       " (0, 2.31),\n",
       " (0, 2.31),\n",
       " (0, 2.31),\n",
       " (0, 2.31),\n",
       " (0, 2.31),\n",
       " (0, 2.31),\n",
       " (0, 2.31),\n",
       " (0, 2.31),\n",
       " (0, 2.31))"
      ]
     },
     "execution_count": 345,
     "metadata": {},
     "output_type": "execute_result"
    }
   ],
   "source": [
    "expected_outcome = dask.compute(*jobs, num_workers=1)\n",
    "expected_outcome"
   ]
  },
  {
   "cell_type": "code",
   "execution_count": 346,
   "metadata": {},
   "outputs": [],
   "source": [
    "for i in range(10000):\n",
    "    assert dask.compute(*jobs, num_workers=4) == expected_outcome,  f\"Failed! at {i}\""
   ]
  },
  {
   "cell_type": "code",
   "execution_count": null,
   "metadata": {},
   "outputs": [],
   "source": []
  },
  {
   "cell_type": "code",
   "execution_count": null,
   "metadata": {},
   "outputs": [],
   "source": [
    "def pass_random_state_player_class(player_class):\n",
    "    class NewClass(player_class):\n",
    "        def __init__(self, seed=0):\n",
    "            self.my_seed = seed  # for pickling\n",
    "            axl.seed(self.my_seed)\n",
    "            super().__init__()\n",
    "\n",
    "    return NewClass"
   ]
  },
  {
   "cell_type": "code",
   "execution_count": null,
   "metadata": {},
   "outputs": [],
   "source": []
  },
  {
   "cell_type": "code",
   "execution_count": null,
   "metadata": {},
   "outputs": [],
   "source": []
  },
  {
   "cell_type": "code",
   "execution_count": 414,
   "metadata": {},
   "outputs": [],
   "source": [
    "@dask.delayed\n",
    "def get_random_choices(seed):\n",
    "    axl.seed(seed)\n",
    "    return [axl.random_choice(0.5) for _ in range(10)]"
   ]
  },
  {
   "cell_type": "code",
   "execution_count": 415,
   "metadata": {},
   "outputs": [],
   "source": [
    "jobs = [get_random_choices(0) for _ in range(10)]"
   ]
  },
  {
   "cell_type": "code",
   "execution_count": 416,
   "metadata": {},
   "outputs": [
    {
     "data": {
      "text/plain": [
       "([D, D, C, C, D, C, D, C, C, D],\n",
       " [D, D, C, C, D, C, D, C, C, D],\n",
       " [D, D, C, C, D, C, D, C, C, D],\n",
       " [D, D, C, C, D, C, D, C, C, D],\n",
       " [D, D, C, C, D, C, D, C, C, D],\n",
       " [D, D, C, C, D, C, D, C, C, D],\n",
       " [D, D, C, C, D, C, D, C, C, D],\n",
       " [D, D, C, C, D, C, D, C, C, D],\n",
       " [D, D, C, C, D, C, D, C, C, D],\n",
       " [D, D, C, C, D, C, D, C, C, D])"
      ]
     },
     "execution_count": 416,
     "metadata": {},
     "output_type": "execute_result"
    }
   ],
   "source": [
    "expected_outcome = dask.compute(*jobs, num_workers=4)\n",
    "expected_outcome"
   ]
  },
  {
   "cell_type": "code",
   "execution_count": 417,
   "metadata": {},
   "outputs": [],
   "source": [
    "for i in range(10000):\n",
    "#     output = dask.compute(*jobs, num_workers=4)\n",
    "    assert dask.compute(*jobs, num_workers=4)  == expected_outcome,  f\"Failed! at {i}\""
   ]
  },
  {
   "cell_type": "code",
   "execution_count": 276,
   "metadata": {},
   "outputs": [],
   "source": [
    "player = axl.Random()"
   ]
  },
  {
   "cell_type": "code",
   "execution_count": 722,
   "metadata": {},
   "outputs": [],
   "source": [
    "@dask.delayed\n",
    "def get_random_interactions_passing_opponent(seed, opponent):\n",
    "    axl.seed(seed)\n",
    "    player = opponent()\n",
    "    players = [axl.Cooperator(), player]\n",
    "    match = axl.Match(players, turns=10)\n",
    "    match.play()\n",
    "    return seed, [actions[-1] for actions in match.result], match.final_score_per_turn()[-1]\n",
    "   "
   ]
  },
  {
   "cell_type": "code",
   "execution_count": 723,
   "metadata": {},
   "outputs": [],
   "source": [
    "opponents = get_opponent_seed_combinations(axl.Random, number_of_seeds=10)"
   ]
  },
  {
   "cell_type": "code",
   "execution_count": 724,
   "metadata": {},
   "outputs": [],
   "source": [
    "jobs = [get_random_interactions_passing_opponent(seed, player) for player, seed in opponents]"
   ]
  },
  {
   "cell_type": "code",
   "execution_count": 731,
   "metadata": {},
   "outputs": [
    {
     "data": {
      "text/plain": [
       "((0, [D, D, C, C, D, C, D, C, C, D], 4.0),\n",
       " (0, [D, D, C, C, D, C, D, C, C, D], 4.0),\n",
       " (0, [D, D, C, C, D, C, D, C, C, D], 4.0),\n",
       " (0, [D, D, C, C, D, C, D, C, C, D], 4.0),\n",
       " (0, [D, D, C, C, D, C, D, C, C, D], 4.0),\n",
       " (0, [D, D, C, C, D, C, D, C, C, D], 4.0),\n",
       " (0, [D, D, C, C, D, C, D, C, C, D], 4.0),\n",
       " (0, [D, D, C, C, D, C, D, C, C, D], 4.0),\n",
       " (0, [D, D, C, C, D, C, D, C, C, D], 4.0),\n",
       " (0, [D, D, C, C, D, C, D, C, C, D], 4.0))"
      ]
     },
     "execution_count": 731,
     "metadata": {},
     "output_type": "execute_result"
    }
   ],
   "source": [
    "dask.compute(*jobs, num_workers=4)"
   ]
  },
  {
   "cell_type": "markdown",
   "metadata": {},
   "source": [
    "**Try to implement seeding differently**"
   ]
  },
  {
   "cell_type": "code",
   "execution_count": 118,
   "metadata": {},
   "outputs": [],
   "source": [
    "import numpy as np\n",
    "\n",
    "def get_fitness_of_individual(sequence, opponent, seed, index, turns):\n",
    "    \"\"\"\n",
    "    Returns the score of a sequence against a given opponent and the index\n",
    "    of the sequence in the population.\n",
    "    \"\"\"\n",
    "    axl.seed(seed)\n",
    "    opponent = opponent()\n",
    "    player = axl.Cycler(ss.get_sequence_str(sequence))\n",
    "    match = axl.Match([opponent, player], turns=turns)\n",
    "    match.play()\n",
    "\n",
    "    return seed, index, match.final_score_per_turn()[-1]"
   ]
  },
  {
   "cell_type": "code",
   "execution_count": 119,
   "metadata": {},
   "outputs": [],
   "source": [
    "index_scores = []\n",
    "for index, individual in enumerate(population):\n",
    "    index_scores.append(\n",
    "        dask.delayed(get_fitness_of_individual)(\n",
    "            individual, opponent, seed=seed, turns=200, index=index\n",
    "        )\n",
    "    )"
   ]
  },
  {
   "cell_type": "code",
   "execution_count": 120,
   "metadata": {},
   "outputs": [
    {
     "data": {
      "text/plain": [
       "[Delayed('get_fitness_of_individual-bae51797-d3f4-4078-8e6a-f944cc83c5e2'),\n",
       " Delayed('get_fitness_of_individual-9b2ce02c-c331-45dd-9fd0-431411e72b66'),\n",
       " Delayed('get_fitness_of_individual-edfd0b58-aec3-46bd-93b2-9eace9ae6454'),\n",
       " Delayed('get_fitness_of_individual-502837ab-e80b-4da5-b64d-f53f2dc66fff'),\n",
       " Delayed('get_fitness_of_individual-8e7de3bc-1a36-4fc4-87d5-de1193419345')]"
      ]
     },
     "execution_count": 120,
     "metadata": {},
     "output_type": "execute_result"
    }
   ],
   "source": [
    "index_scores[:5]"
   ]
  },
  {
   "cell_type": "markdown",
   "metadata": {},
   "source": [
    "**Percentage of wrong sequences**"
   ]
  },
  {
   "cell_type": "code",
   "execution_count": 1,
   "metadata": {},
   "outputs": [
    {
     "name": "stderr",
     "output_type": "stream",
     "text": [
      "//anaconda3/envs/rnn/lib/python3.6/site-packages/dask/config.py:129: YAMLLoadWarning: calling yaml.load() without Loader=... is deprecated, as the default Loader is unsafe. Please read https://msg.pyyaml.org/load for full details.\n",
      "  data = yaml.load(f.read()) or {}\n"
     ]
    }
   ],
   "source": [
    "from pathlib import Path\n",
    "import tqdm\n",
    "import json\n",
    "\n",
    "import axelrod as axl\n",
    "\n",
    "import pandas as pd\n",
    "\n",
    "import sequence_sensei as ss"
   ]
  },
  {
   "cell_type": "code",
   "execution_count": 2,
   "metadata": {},
   "outputs": [],
   "source": [
    "strategies = {strategy().name: strategy for strategy in axl.strategies \n",
    "              if strategy.classifier[\"stochastic\"] == True}\n",
    "\n",
    "genes = [\"gene_{}\".format(i) for i in range(205)]"
   ]
  },
  {
   "cell_type": "code",
   "execution_count": 3,
   "metadata": {},
   "outputs": [
    {
     "name": "stderr",
     "output_type": "stream",
     "text": [
      "762it [00:00, 12423.36it/s]\n"
     ]
    }
   ],
   "source": [
    "for file in tqdm.tqdm(Path(\"/Volumes/ext/Data/raw_data/\").glob(\"*\")):\n",
    "    file"
   ]
  },
  {
   "cell_type": "code",
   "execution_count": 4,
   "metadata": {},
   "outputs": [
    {
     "data": {
      "text/plain": [
       "PosixPath('/Volumes/ext/Data/raw_data/ZD-SET-2_9')"
      ]
     },
     "execution_count": 4,
     "metadata": {},
     "output_type": "execute_result"
    }
   ],
   "source": [
    "file"
   ]
  },
  {
   "cell_type": "code",
   "execution_count": 8,
   "metadata": {},
   "outputs": [],
   "source": [
    "def run_seed_match_with_repetitions(seed, player, sequence, score, repetitions=5):\n",
    "    for _ in range(repetitions):\n",
    "        axl.seed(seed)\n",
    "        match = axl.Match([player(), axl.Cycler(sequence)], turns=205)\n",
    "\n",
    "        _ = match.play()\n",
    "        \n",
    "        check = score == match.final_score_per_turn()[-1]\n",
    "        if check == False:\n",
    "            return False\n",
    "    return True"
   ]
  },
  {
   "cell_type": "code",
   "execution_count": 9,
   "metadata": {
    "scrolled": true
   },
   "outputs": [
    {
     "name": "stderr",
     "output_type": "stream",
     "text": [
      "14it [02:10,  9.32s/it]"
     ]
    },
    {
     "ename": "KeyboardInterrupt",
     "evalue": "",
     "output_type": "error",
     "traceback": [
      "\u001b[0;31m---------------------------------------------------------------------------\u001b[0m",
      "\u001b[0;31mKeyboardInterrupt\u001b[0m                         Traceback (most recent call last)",
      "\u001b[0;32m<ipython-input-9-01a41d7dd9c5>\u001b[0m in \u001b[0;36m<module>\u001b[0;34m()\u001b[0m\n\u001b[1;32m      5\u001b[0m     \u001b[0;32mif\u001b[0m \u001b[0mfile\u001b[0m\u001b[0;34m.\u001b[0m\u001b[0msplit\u001b[0m\u001b[0;34m(\u001b[0m\u001b[0;34m'_'\u001b[0m\u001b[0;34m)\u001b[0m\u001b[0;34m[\u001b[0m\u001b[0;34m-\u001b[0m\u001b[0;36m1\u001b[0m\u001b[0;34m]\u001b[0m \u001b[0;34m==\u001b[0m \u001b[0;34m'nan'\u001b[0m\u001b[0;34m:\u001b[0m\u001b[0;34m\u001b[0m\u001b[0;34m\u001b[0m\u001b[0m\n\u001b[1;32m      6\u001b[0m         \u001b[0;32mcontinue\u001b[0m\u001b[0;34m\u001b[0m\u001b[0;34m\u001b[0m\u001b[0m\n\u001b[0;32m----> 7\u001b[0;31m     \u001b[0mdf\u001b[0m \u001b[0;34m=\u001b[0m \u001b[0mpd\u001b[0m\u001b[0;34m.\u001b[0m\u001b[0mread_csv\u001b[0m\u001b[0;34m(\u001b[0m\u001b[0mfile\u001b[0m \u001b[0;34m+\u001b[0m \u001b[0;34m'/main.csv'\u001b[0m\u001b[0;34m)\u001b[0m\u001b[0;34m\u001b[0m\u001b[0;34m\u001b[0m\u001b[0m\n\u001b[0m\u001b[1;32m      8\u001b[0m     \u001b[0mdf\u001b[0m \u001b[0;34m=\u001b[0m \u001b[0mdf\u001b[0m\u001b[0;34m[\u001b[0m\u001b[0mdf\u001b[0m\u001b[0;34m[\u001b[0m\u001b[0;34m'generation'\u001b[0m\u001b[0;34m]\u001b[0m \u001b[0;34m==\u001b[0m \u001b[0;36m2000\u001b[0m\u001b[0;34m]\u001b[0m\u001b[0;34m\u001b[0m\u001b[0;34m\u001b[0m\u001b[0m\n\u001b[1;32m      9\u001b[0m \u001b[0;34m\u001b[0m\u001b[0m\n",
      "\u001b[0;32m//anaconda3/envs/rnn/lib/python3.6/site-packages/pandas/io/parsers.py\u001b[0m in \u001b[0;36mparser_f\u001b[0;34m(filepath_or_buffer, sep, delimiter, header, names, index_col, usecols, squeeze, prefix, mangle_dupe_cols, dtype, engine, converters, true_values, false_values, skipinitialspace, skiprows, nrows, na_values, keep_default_na, na_filter, verbose, skip_blank_lines, parse_dates, infer_datetime_format, keep_date_col, date_parser, dayfirst, iterator, chunksize, compression, thousands, decimal, lineterminator, quotechar, quoting, escapechar, comment, encoding, dialect, tupleize_cols, error_bad_lines, warn_bad_lines, skipfooter, doublequote, delim_whitespace, low_memory, memory_map, float_precision)\u001b[0m\n\u001b[1;32m    676\u001b[0m                     skip_blank_lines=skip_blank_lines)\n\u001b[1;32m    677\u001b[0m \u001b[0;34m\u001b[0m\u001b[0m\n\u001b[0;32m--> 678\u001b[0;31m         \u001b[0;32mreturn\u001b[0m \u001b[0m_read\u001b[0m\u001b[0;34m(\u001b[0m\u001b[0mfilepath_or_buffer\u001b[0m\u001b[0;34m,\u001b[0m \u001b[0mkwds\u001b[0m\u001b[0;34m)\u001b[0m\u001b[0;34m\u001b[0m\u001b[0;34m\u001b[0m\u001b[0m\n\u001b[0m\u001b[1;32m    679\u001b[0m \u001b[0;34m\u001b[0m\u001b[0m\n\u001b[1;32m    680\u001b[0m     \u001b[0mparser_f\u001b[0m\u001b[0;34m.\u001b[0m\u001b[0m__name__\u001b[0m \u001b[0;34m=\u001b[0m \u001b[0mname\u001b[0m\u001b[0;34m\u001b[0m\u001b[0;34m\u001b[0m\u001b[0m\n",
      "\u001b[0;32m//anaconda3/envs/rnn/lib/python3.6/site-packages/pandas/io/parsers.py\u001b[0m in \u001b[0;36m_read\u001b[0;34m(filepath_or_buffer, kwds)\u001b[0m\n\u001b[1;32m    444\u001b[0m \u001b[0;34m\u001b[0m\u001b[0m\n\u001b[1;32m    445\u001b[0m     \u001b[0;32mtry\u001b[0m\u001b[0;34m:\u001b[0m\u001b[0;34m\u001b[0m\u001b[0;34m\u001b[0m\u001b[0m\n\u001b[0;32m--> 446\u001b[0;31m         \u001b[0mdata\u001b[0m \u001b[0;34m=\u001b[0m \u001b[0mparser\u001b[0m\u001b[0;34m.\u001b[0m\u001b[0mread\u001b[0m\u001b[0;34m(\u001b[0m\u001b[0mnrows\u001b[0m\u001b[0;34m)\u001b[0m\u001b[0;34m\u001b[0m\u001b[0;34m\u001b[0m\u001b[0m\n\u001b[0m\u001b[1;32m    447\u001b[0m     \u001b[0;32mfinally\u001b[0m\u001b[0;34m:\u001b[0m\u001b[0;34m\u001b[0m\u001b[0;34m\u001b[0m\u001b[0m\n\u001b[1;32m    448\u001b[0m         \u001b[0mparser\u001b[0m\u001b[0;34m.\u001b[0m\u001b[0mclose\u001b[0m\u001b[0;34m(\u001b[0m\u001b[0;34m)\u001b[0m\u001b[0;34m\u001b[0m\u001b[0;34m\u001b[0m\u001b[0m\n",
      "\u001b[0;32m//anaconda3/envs/rnn/lib/python3.6/site-packages/pandas/io/parsers.py\u001b[0m in \u001b[0;36mread\u001b[0;34m(self, nrows)\u001b[0m\n\u001b[1;32m   1034\u001b[0m                 \u001b[0;32mraise\u001b[0m \u001b[0mValueError\u001b[0m\u001b[0;34m(\u001b[0m\u001b[0;34m'skipfooter not supported for iteration'\u001b[0m\u001b[0;34m)\u001b[0m\u001b[0;34m\u001b[0m\u001b[0;34m\u001b[0m\u001b[0m\n\u001b[1;32m   1035\u001b[0m \u001b[0;34m\u001b[0m\u001b[0m\n\u001b[0;32m-> 1036\u001b[0;31m         \u001b[0mret\u001b[0m \u001b[0;34m=\u001b[0m \u001b[0mself\u001b[0m\u001b[0;34m.\u001b[0m\u001b[0m_engine\u001b[0m\u001b[0;34m.\u001b[0m\u001b[0mread\u001b[0m\u001b[0;34m(\u001b[0m\u001b[0mnrows\u001b[0m\u001b[0;34m)\u001b[0m\u001b[0;34m\u001b[0m\u001b[0;34m\u001b[0m\u001b[0m\n\u001b[0m\u001b[1;32m   1037\u001b[0m \u001b[0;34m\u001b[0m\u001b[0m\n\u001b[1;32m   1038\u001b[0m         \u001b[0;31m# May alter columns / col_dict\u001b[0m\u001b[0;34m\u001b[0m\u001b[0;34m\u001b[0m\u001b[0;34m\u001b[0m\u001b[0m\n",
      "\u001b[0;32m//anaconda3/envs/rnn/lib/python3.6/site-packages/pandas/io/parsers.py\u001b[0m in \u001b[0;36mread\u001b[0;34m(self, nrows)\u001b[0m\n\u001b[1;32m   1846\u001b[0m     \u001b[0;32mdef\u001b[0m \u001b[0mread\u001b[0m\u001b[0;34m(\u001b[0m\u001b[0mself\u001b[0m\u001b[0;34m,\u001b[0m \u001b[0mnrows\u001b[0m\u001b[0;34m=\u001b[0m\u001b[0;32mNone\u001b[0m\u001b[0;34m)\u001b[0m\u001b[0;34m:\u001b[0m\u001b[0;34m\u001b[0m\u001b[0;34m\u001b[0m\u001b[0m\n\u001b[1;32m   1847\u001b[0m         \u001b[0;32mtry\u001b[0m\u001b[0;34m:\u001b[0m\u001b[0;34m\u001b[0m\u001b[0;34m\u001b[0m\u001b[0m\n\u001b[0;32m-> 1848\u001b[0;31m             \u001b[0mdata\u001b[0m \u001b[0;34m=\u001b[0m \u001b[0mself\u001b[0m\u001b[0;34m.\u001b[0m\u001b[0m_reader\u001b[0m\u001b[0;34m.\u001b[0m\u001b[0mread\u001b[0m\u001b[0;34m(\u001b[0m\u001b[0mnrows\u001b[0m\u001b[0;34m)\u001b[0m\u001b[0;34m\u001b[0m\u001b[0;34m\u001b[0m\u001b[0m\n\u001b[0m\u001b[1;32m   1849\u001b[0m         \u001b[0;32mexcept\u001b[0m \u001b[0mStopIteration\u001b[0m\u001b[0;34m:\u001b[0m\u001b[0;34m\u001b[0m\u001b[0;34m\u001b[0m\u001b[0m\n\u001b[1;32m   1850\u001b[0m             \u001b[0;32mif\u001b[0m \u001b[0mself\u001b[0m\u001b[0;34m.\u001b[0m\u001b[0m_first_chunk\u001b[0m\u001b[0;34m:\u001b[0m\u001b[0;34m\u001b[0m\u001b[0;34m\u001b[0m\u001b[0m\n",
      "\u001b[0;32mpandas/_libs/parsers.pyx\u001b[0m in \u001b[0;36mpandas._libs.parsers.TextReader.read\u001b[0;34m()\u001b[0m\n",
      "\u001b[0;32mpandas/_libs/parsers.pyx\u001b[0m in \u001b[0;36mpandas._libs.parsers.TextReader._read_low_memory\u001b[0;34m()\u001b[0m\n",
      "\u001b[0;32mpandas/_libs/parsers.pyx\u001b[0m in \u001b[0;36mpandas._libs.parsers.TextReader._read_rows\u001b[0;34m()\u001b[0m\n",
      "\u001b[0;32mpandas/_libs/parsers.pyx\u001b[0m in \u001b[0;36mpandas._libs.parsers.TextReader._convert_column_data\u001b[0;34m()\u001b[0m\n",
      "\u001b[0;32mpandas/_libs/parsers.pyx\u001b[0m in \u001b[0;36mpandas._libs.parsers.TextReader._convert_tokens\u001b[0;34m()\u001b[0m\n",
      "\u001b[0;32mpandas/_libs/parsers.pyx\u001b[0m in \u001b[0;36mpandas._libs.parsers.TextReader._convert_with_dtype\u001b[0;34m()\u001b[0m\n",
      "\u001b[0;32m//anaconda3/envs/rnn/lib/python3.6/site-packages/pandas/core/dtypes/common.py\u001b[0m in \u001b[0;36mis_integer_dtype\u001b[0;34m(arr_or_dtype)\u001b[0m\n\u001b[1;32m    809\u001b[0m \u001b[0;34m\u001b[0m\u001b[0m\n\u001b[1;32m    810\u001b[0m \u001b[0;34m\u001b[0m\u001b[0m\n\u001b[0;32m--> 811\u001b[0;31m \u001b[0;32mdef\u001b[0m \u001b[0mis_integer_dtype\u001b[0m\u001b[0;34m(\u001b[0m\u001b[0marr_or_dtype\u001b[0m\u001b[0;34m)\u001b[0m\u001b[0;34m:\u001b[0m\u001b[0;34m\u001b[0m\u001b[0;34m\u001b[0m\u001b[0m\n\u001b[0m\u001b[1;32m    812\u001b[0m     \"\"\"\n\u001b[1;32m    813\u001b[0m     \u001b[0mCheck\u001b[0m \u001b[0mwhether\u001b[0m \u001b[0mthe\u001b[0m \u001b[0mprovided\u001b[0m \u001b[0marray\u001b[0m \u001b[0;32mor\u001b[0m \u001b[0mdtype\u001b[0m \u001b[0;32mis\u001b[0m \u001b[0mof\u001b[0m \u001b[0man\u001b[0m \u001b[0minteger\u001b[0m \u001b[0mdtype\u001b[0m\u001b[0;34m.\u001b[0m\u001b[0;34m\u001b[0m\u001b[0;34m\u001b[0m\u001b[0m\n",
      "\u001b[0;31mKeyboardInterrupt\u001b[0m: "
     ]
    }
   ],
   "source": [
    "failed_names = []\n",
    "checks = {}\n",
    "for file in tqdm.tqdm(Path(\"/Volumes/ext/Data/raw_data/\").glob(\"*\")):\n",
    "    file = str(file)\n",
    "    if file.split('_')[-1] == 'nan':\n",
    "        continue\n",
    "    df = pd.read_csv(file + '/main.csv')\n",
    "    df = df[df['generation'] == 2000]\n",
    "\n",
    "    \n",
    "    for i, row in df[df[\"score\"] == df[\"score\"].max()].reset_index().iterrows():\n",
    "        try:\n",
    "            opponent = strategies[row['opponent']]\n",
    "        except KeyError:\n",
    "            failed_names.append(row['opponent'])\n",
    "            \n",
    "        sequence = ss.get_sequence_str(row[genes].values)\n",
    "        score = row['score']\n",
    "        seed = int(row['seed'])\n",
    "        \n",
    "        check = run_seed_match_with_repetitions(seed=seed, player=opponent, sequence=sequence, score=score)\n",
    "        \n",
    "        key = row['opponent'] + '_' + str(seed) + '_best_response_' + str(i)\n",
    "        checks[key] = check\n",
    "\n",
    "with open('checks.txt', 'w') as file:\n",
    "     file.write(json.dumps(checks))\n",
    "        \n",
    "with open('failed_names.txt', 'w') as file:\n",
    "    file.write(\"\\n\".join(failed_names))"
   ]
  },
  {
   "cell_type": "code",
   "execution_count": 10,
   "metadata": {},
   "outputs": [
    {
     "data": {
      "text/plain": [
       "{'ALLCorALLD_0_best_response_0': False,\n",
       " 'ALLCorALLD_1_best_response_0': True,\n",
       " 'ALLCorALLD_1_best_response_1': True,\n",
       " 'ALLCorALLD_1_best_response_10': True,\n",
       " 'ALLCorALLD_1_best_response_11': True,\n",
       " 'ALLCorALLD_1_best_response_12': True,\n",
       " 'ALLCorALLD_1_best_response_13': True,\n",
       " 'ALLCorALLD_1_best_response_14': True,\n",
       " 'ALLCorALLD_1_best_response_15': True,\n",
       " 'ALLCorALLD_1_best_response_16': True,\n",
       " 'ALLCorALLD_1_best_response_17': True,\n",
       " 'ALLCorALLD_1_best_response_18': True,\n",
       " 'ALLCorALLD_1_best_response_19': True,\n",
       " 'ALLCorALLD_1_best_response_2': True,\n",
       " 'ALLCorALLD_1_best_response_20': True,\n",
       " 'ALLCorALLD_1_best_response_21': True,\n",
       " 'ALLCorALLD_1_best_response_22': True,\n",
       " 'ALLCorALLD_1_best_response_23': True,\n",
       " 'ALLCorALLD_1_best_response_24': True,\n",
       " 'ALLCorALLD_1_best_response_25': True,\n",
       " 'ALLCorALLD_1_best_response_26': True,\n",
       " 'ALLCorALLD_1_best_response_27': True,\n",
       " 'ALLCorALLD_1_best_response_28': True,\n",
       " 'ALLCorALLD_1_best_response_29': True,\n",
       " 'ALLCorALLD_1_best_response_3': True,\n",
       " 'ALLCorALLD_1_best_response_30': True,\n",
       " 'ALLCorALLD_1_best_response_31': True,\n",
       " 'ALLCorALLD_1_best_response_32': True,\n",
       " 'ALLCorALLD_1_best_response_33': True,\n",
       " 'ALLCorALLD_1_best_response_34': True,\n",
       " 'ALLCorALLD_1_best_response_35': True,\n",
       " 'ALLCorALLD_1_best_response_36': True,\n",
       " 'ALLCorALLD_1_best_response_37': True,\n",
       " 'ALLCorALLD_1_best_response_38': True,\n",
       " 'ALLCorALLD_1_best_response_39': True,\n",
       " 'ALLCorALLD_1_best_response_4': True,\n",
       " 'ALLCorALLD_1_best_response_40': True,\n",
       " 'ALLCorALLD_1_best_response_41': True,\n",
       " 'ALLCorALLD_1_best_response_42': True,\n",
       " 'ALLCorALLD_1_best_response_5': True,\n",
       " 'ALLCorALLD_1_best_response_6': True,\n",
       " 'ALLCorALLD_1_best_response_7': True,\n",
       " 'ALLCorALLD_1_best_response_8': True,\n",
       " 'ALLCorALLD_1_best_response_9': True,\n",
       " 'ALLCorALLD_2_best_response_0': True,\n",
       " 'ALLCorALLD_2_best_response_1': True,\n",
       " 'ALLCorALLD_2_best_response_10': True,\n",
       " 'ALLCorALLD_2_best_response_11': True,\n",
       " 'ALLCorALLD_2_best_response_12': True,\n",
       " 'ALLCorALLD_2_best_response_13': True,\n",
       " 'ALLCorALLD_2_best_response_14': True,\n",
       " 'ALLCorALLD_2_best_response_15': True,\n",
       " 'ALLCorALLD_2_best_response_16': True,\n",
       " 'ALLCorALLD_2_best_response_17': True,\n",
       " 'ALLCorALLD_2_best_response_18': True,\n",
       " 'ALLCorALLD_2_best_response_19': True,\n",
       " 'ALLCorALLD_2_best_response_2': True,\n",
       " 'ALLCorALLD_2_best_response_20': True,\n",
       " 'ALLCorALLD_2_best_response_21': True,\n",
       " 'ALLCorALLD_2_best_response_22': True,\n",
       " 'ALLCorALLD_2_best_response_23': True,\n",
       " 'ALLCorALLD_2_best_response_24': True,\n",
       " 'ALLCorALLD_2_best_response_25': True,\n",
       " 'ALLCorALLD_2_best_response_26': True,\n",
       " 'ALLCorALLD_2_best_response_27': True,\n",
       " 'ALLCorALLD_2_best_response_28': True,\n",
       " 'ALLCorALLD_2_best_response_29': True,\n",
       " 'ALLCorALLD_2_best_response_3': True,\n",
       " 'ALLCorALLD_2_best_response_30': True,\n",
       " 'ALLCorALLD_2_best_response_31': True,\n",
       " 'ALLCorALLD_2_best_response_32': True,\n",
       " 'ALLCorALLD_2_best_response_33': True,\n",
       " 'ALLCorALLD_2_best_response_34': True,\n",
       " 'ALLCorALLD_2_best_response_35': True,\n",
       " 'ALLCorALLD_2_best_response_36': True,\n",
       " 'ALLCorALLD_2_best_response_37': True,\n",
       " 'ALLCorALLD_2_best_response_38': True,\n",
       " 'ALLCorALLD_2_best_response_39': True,\n",
       " 'ALLCorALLD_2_best_response_4': True,\n",
       " 'ALLCorALLD_2_best_response_40': True,\n",
       " 'ALLCorALLD_2_best_response_41': True,\n",
       " 'ALLCorALLD_2_best_response_42': True,\n",
       " 'ALLCorALLD_2_best_response_43': True,\n",
       " 'ALLCorALLD_2_best_response_44': True,\n",
       " 'ALLCorALLD_2_best_response_45': True,\n",
       " 'ALLCorALLD_2_best_response_46': True,\n",
       " 'ALLCorALLD_2_best_response_47': True,\n",
       " 'ALLCorALLD_2_best_response_48': True,\n",
       " 'ALLCorALLD_2_best_response_49': True,\n",
       " 'ALLCorALLD_2_best_response_5': True,\n",
       " 'ALLCorALLD_2_best_response_50': True,\n",
       " 'ALLCorALLD_2_best_response_51': True,\n",
       " 'ALLCorALLD_2_best_response_52': True,\n",
       " 'ALLCorALLD_2_best_response_53': True,\n",
       " 'ALLCorALLD_2_best_response_54': True,\n",
       " 'ALLCorALLD_2_best_response_55': True,\n",
       " 'ALLCorALLD_2_best_response_56': True,\n",
       " 'ALLCorALLD_2_best_response_57': True,\n",
       " 'ALLCorALLD_2_best_response_58': True,\n",
       " 'ALLCorALLD_2_best_response_59': True,\n",
       " 'ALLCorALLD_2_best_response_6': True,\n",
       " 'ALLCorALLD_2_best_response_60': True,\n",
       " 'ALLCorALLD_2_best_response_61': True,\n",
       " 'ALLCorALLD_2_best_response_62': True,\n",
       " 'ALLCorALLD_2_best_response_63': True,\n",
       " 'ALLCorALLD_2_best_response_64': True,\n",
       " 'ALLCorALLD_2_best_response_7': True,\n",
       " 'ALLCorALLD_2_best_response_8': True,\n",
       " 'ALLCorALLD_2_best_response_9': True,\n",
       " 'ALLCorALLD_3_best_response_0': True,\n",
       " 'ALLCorALLD_3_best_response_1': True,\n",
       " 'ALLCorALLD_3_best_response_10': True,\n",
       " 'ALLCorALLD_3_best_response_11': True,\n",
       " 'ALLCorALLD_3_best_response_12': True,\n",
       " 'ALLCorALLD_3_best_response_13': True,\n",
       " 'ALLCorALLD_3_best_response_14': True,\n",
       " 'ALLCorALLD_3_best_response_15': True,\n",
       " 'ALLCorALLD_3_best_response_16': True,\n",
       " 'ALLCorALLD_3_best_response_17': True,\n",
       " 'ALLCorALLD_3_best_response_18': True,\n",
       " 'ALLCorALLD_3_best_response_19': True,\n",
       " 'ALLCorALLD_3_best_response_2': True,\n",
       " 'ALLCorALLD_3_best_response_20': True,\n",
       " 'ALLCorALLD_3_best_response_21': True,\n",
       " 'ALLCorALLD_3_best_response_22': True,\n",
       " 'ALLCorALLD_3_best_response_23': True,\n",
       " 'ALLCorALLD_3_best_response_24': True,\n",
       " 'ALLCorALLD_3_best_response_25': True,\n",
       " 'ALLCorALLD_3_best_response_26': True,\n",
       " 'ALLCorALLD_3_best_response_27': True,\n",
       " 'ALLCorALLD_3_best_response_28': True,\n",
       " 'ALLCorALLD_3_best_response_29': True,\n",
       " 'ALLCorALLD_3_best_response_3': True,\n",
       " 'ALLCorALLD_3_best_response_30': True,\n",
       " 'ALLCorALLD_3_best_response_31': True,\n",
       " 'ALLCorALLD_3_best_response_32': True,\n",
       " 'ALLCorALLD_3_best_response_33': True,\n",
       " 'ALLCorALLD_3_best_response_34': True,\n",
       " 'ALLCorALLD_3_best_response_35': True,\n",
       " 'ALLCorALLD_3_best_response_36': True,\n",
       " 'ALLCorALLD_3_best_response_37': True,\n",
       " 'ALLCorALLD_3_best_response_38': True,\n",
       " 'ALLCorALLD_3_best_response_39': True,\n",
       " 'ALLCorALLD_3_best_response_4': True,\n",
       " 'ALLCorALLD_3_best_response_40': True,\n",
       " 'ALLCorALLD_3_best_response_41': True,\n",
       " 'ALLCorALLD_3_best_response_42': True,\n",
       " 'ALLCorALLD_3_best_response_43': True,\n",
       " 'ALLCorALLD_3_best_response_44': True,\n",
       " 'ALLCorALLD_3_best_response_45': True,\n",
       " 'ALLCorALLD_3_best_response_46': True,\n",
       " 'ALLCorALLD_3_best_response_47': True,\n",
       " 'ALLCorALLD_3_best_response_48': True,\n",
       " 'ALLCorALLD_3_best_response_49': True,\n",
       " 'ALLCorALLD_3_best_response_5': True,\n",
       " 'ALLCorALLD_3_best_response_50': True,\n",
       " 'ALLCorALLD_3_best_response_51': True,\n",
       " 'ALLCorALLD_3_best_response_52': True,\n",
       " 'ALLCorALLD_3_best_response_53': True,\n",
       " 'ALLCorALLD_3_best_response_54': True,\n",
       " 'ALLCorALLD_3_best_response_55': True,\n",
       " 'ALLCorALLD_3_best_response_56': True,\n",
       " 'ALLCorALLD_3_best_response_57': True,\n",
       " 'ALLCorALLD_3_best_response_58': True,\n",
       " 'ALLCorALLD_3_best_response_59': True,\n",
       " 'ALLCorALLD_3_best_response_6': True,\n",
       " 'ALLCorALLD_3_best_response_60': True,\n",
       " 'ALLCorALLD_3_best_response_61': True,\n",
       " 'ALLCorALLD_3_best_response_62': True,\n",
       " 'ALLCorALLD_3_best_response_63': True,\n",
       " 'ALLCorALLD_3_best_response_64': True,\n",
       " 'ALLCorALLD_3_best_response_65': True,\n",
       " 'ALLCorALLD_3_best_response_66': True,\n",
       " 'ALLCorALLD_3_best_response_67': True,\n",
       " 'ALLCorALLD_3_best_response_68': True,\n",
       " 'ALLCorALLD_3_best_response_69': True,\n",
       " 'ALLCorALLD_3_best_response_7': True,\n",
       " 'ALLCorALLD_3_best_response_70': True,\n",
       " 'ALLCorALLD_3_best_response_71': True,\n",
       " 'ALLCorALLD_3_best_response_72': True,\n",
       " 'ALLCorALLD_3_best_response_8': True,\n",
       " 'ALLCorALLD_3_best_response_9': True,\n",
       " 'ALLCorALLD_4_best_response_0': True,\n",
       " 'ALLCorALLD_4_best_response_1': True,\n",
       " 'ALLCorALLD_4_best_response_10': True,\n",
       " 'ALLCorALLD_4_best_response_11': True,\n",
       " 'ALLCorALLD_4_best_response_12': True,\n",
       " 'ALLCorALLD_4_best_response_13': True,\n",
       " 'ALLCorALLD_4_best_response_14': True,\n",
       " 'ALLCorALLD_4_best_response_15': True,\n",
       " 'ALLCorALLD_4_best_response_16': True,\n",
       " 'ALLCorALLD_4_best_response_17': True,\n",
       " 'ALLCorALLD_4_best_response_18': True,\n",
       " 'ALLCorALLD_4_best_response_19': True,\n",
       " 'ALLCorALLD_4_best_response_2': True,\n",
       " 'ALLCorALLD_4_best_response_20': True,\n",
       " 'ALLCorALLD_4_best_response_21': True,\n",
       " 'ALLCorALLD_4_best_response_22': True,\n",
       " 'ALLCorALLD_4_best_response_23': True,\n",
       " 'ALLCorALLD_4_best_response_3': True,\n",
       " 'ALLCorALLD_4_best_response_4': True,\n",
       " 'ALLCorALLD_4_best_response_5': True,\n",
       " 'ALLCorALLD_4_best_response_6': True,\n",
       " 'ALLCorALLD_4_best_response_7': True,\n",
       " 'ALLCorALLD_4_best_response_8': True,\n",
       " 'ALLCorALLD_4_best_response_9': True}"
      ]
     },
     "execution_count": 10,
     "metadata": {},
     "output_type": "execute_result"
    }
   ],
   "source": [
    "checks"
   ]
  },
  {
   "cell_type": "code",
   "execution_count": 28,
   "metadata": {},
   "outputs": [
    {
     "data": {
      "text/plain": [
       "'{\"ALLCorALLD_4_best_response_0\": true, \"ALLCorALLD_4_best_response_1\": true, \"ALLCorALLD_4_best_response_2\": true, \"ALLCorALLD_4_best_response_3\": true, \"ALLCorALLD_4_best_response_4\": true, \"ALLCorALLD_4_best_response_5\": true, \"ALLCorALLD_4_best_response_6\": true, \"ALLCorALLD_4_best_response_7\": true, \"ALLCorALLD_4_best_response_8\": true, \"ALLCorALLD_4_best_response_9\": true, \"ALLCorALLD_4_best_response_10\": true, \"ALLCorALLD_4_best_response_11\": true, \"ALLCorALLD_4_best_response_12\": true, \"ALLCorALLD_4_best_response_13\": true, \"ALLCorALLD_4_best_response_14\": true, \"ALLCorALLD_4_best_response_15\": true, \"ALLCorALLD_4_best_response_16\": true, \"ALLCorALLD_4_best_response_17\": true, \"ALLCorALLD_4_best_response_18\": true, \"ALLCorALLD_4_best_response_19\": true, \"ALLCorALLD_4_best_response_20\": true, \"ALLCorALLD_4_best_response_21\": true, \"ALLCorALLD_4_best_response_22\": true, \"ALLCorALLD_4_best_response_23\": true}'"
      ]
     },
     "execution_count": 28,
     "metadata": {},
     "output_type": "execute_result"
    }
   ],
   "source": []
  },
  {
   "cell_type": "code",
   "execution_count": null,
   "metadata": {},
   "outputs": [],
   "source": []
  },
  {
   "cell_type": "code",
   "execution_count": 340,
   "metadata": {},
   "outputs": [
    {
     "data": {
      "text/plain": [
       "7851"
      ]
     },
     "execution_count": 340,
     "metadata": {},
     "output_type": "execute_result"
    }
   ],
   "source": [
    "len(checks)"
   ]
  },
  {
   "cell_type": "code",
   "execution_count": 342,
   "metadata": {},
   "outputs": [
    {
     "data": {
      "text/plain": [
       "0.47025856578779773"
      ]
     },
     "execution_count": 342,
     "metadata": {},
     "output_type": "execute_result"
    }
   ],
   "source": [
    "sum(checks) / len(checks)"
   ]
  },
  {
   "cell_type": "code",
   "execution_count": 264,
   "metadata": {},
   "outputs": [],
   "source": [
    "sizes = [20, 30, 40]"
   ]
  },
  {
   "cell_type": "code",
   "execution_count": 263,
   "metadata": {},
   "outputs": [],
   "source": [
    "constant = 18 / 3"
   ]
  },
  {
   "cell_type": "code",
   "execution_count": 265,
   "metadata": {},
   "outputs": [
    {
     "data": {
      "text/plain": [
       "540.0"
      ]
     },
     "execution_count": 265,
     "metadata": {},
     "output_type": "execute_result"
    }
   ],
   "source": [
    "sum([size * constant for size in sizes])"
   ]
  },
  {
   "cell_type": "code",
   "execution_count": null,
   "metadata": {},
   "outputs": [],
   "source": []
  }
 ],
 "metadata": {
  "kernelspec": {
   "display_name": "rnn",
   "language": "python",
   "name": "rnn"
  },
  "language_info": {
   "codemirror_mode": {
    "name": "ipython",
    "version": 3
   },
   "file_extension": ".py",
   "mimetype": "text/x-python",
   "name": "python",
   "nbconvert_exporter": "python",
   "pygments_lexer": "ipython3",
   "version": "3.6.7"
  }
 },
 "nbformat": 4,
 "nbformat_minor": 2
}
