{
 "cells": [
  {
   "cell_type": "markdown",
   "metadata": {},
   "source": [
    "Stability of defection, optimisation of strategies and the limits of memory in the PD.\n",
    "-----------------------"
   ]
  },
  {
   "cell_type": "markdown",
   "metadata": {},
   "source": [
    "## 1. Utility and Best responses to memory-one players"
   ]
  },
  {
   "cell_type": "code",
   "execution_count": 119,
   "metadata": {},
   "outputs": [],
   "source": [
    "import opt_mo\n",
    "import numpy as np\n",
    "import sympy as sym\n",
    "\n",
    "sym.init_printing(pretty_print=False)\n"
   ]
  },
  {
   "cell_type": "code",
   "execution_count": 2,
   "metadata": {},
   "outputs": [],
   "source": [
    "import itertools\n",
    "import axelrod as axl\n",
    "\n",
    "from fractions import Fraction\n"
   ]
  },
  {
   "cell_type": "code",
   "execution_count": 3,
   "metadata": {},
   "outputs": [],
   "source": [
    "import pandas as pd\n"
   ]
  },
  {
   "cell_type": "code",
   "execution_count": 4,
   "metadata": {},
   "outputs": [],
   "source": [
    "import matplotlib.pyplot as plt\n",
    "import matplotlib\n"
   ]
  },
  {
   "cell_type": "code",
   "execution_count": 5,
   "metadata": {},
   "outputs": [],
   "source": [
    "font = {\"size\": 10, \"weight\": \"bold\"}\n",
    "matplotlib.rc(\"font\", **font)\n"
   ]
  },
  {
   "cell_type": "code",
   "execution_count": 8,
   "metadata": {},
   "outputs": [],
   "source": [
    "p_1, p_2 = sym.symbols(\"p_1, p_2\")\n",
    "q_1, q_2, q_3, q_4 = sym.symbols(\"q_1, q_2, q_3, q_4\")\n"
   ]
  },
  {
   "cell_type": "code",
   "execution_count": 9,
   "metadata": {},
   "outputs": [],
   "source": [
    "p = (p_1, p_2, p_1, p_2)\n",
    "q = (q_1, q_2, q_3, q_4)\n"
   ]
  },
  {
   "cell_type": "markdown",
   "metadata": {},
   "source": [
    "Sylvester Example\n",
    "-------------------"
   ]
  },
  {
   "cell_type": "code",
   "execution_count": 115,
   "metadata": {},
   "outputs": [],
   "source": [
    "ais = sym.symbols('a0:5')\n",
    "bis = sym.symbols('b0:4')\n",
    "\n",
    "x  = sym.symbols('x')\n",
    "\n",
    "f = sum([a * x ** i for i, a in enumerate(ais)])\n",
    "g = sum([b * x ** i for i, b in enumerate(bis)])"
   ]
  },
  {
   "cell_type": "code",
   "execution_count": 121,
   "metadata": {},
   "outputs": [
    {
     "data": {
      "text/plain": [
       "a0 + a1*x + a2*x**2 + a3*x**3 + a4*x**4"
      ]
     },
     "execution_count": 121,
     "metadata": {},
     "output_type": "execute_result"
    }
   ],
   "source": [
    "f"
   ]
  },
  {
   "cell_type": "code",
   "execution_count": 122,
   "metadata": {},
   "outputs": [
    {
     "data": {
      "text/plain": [
       "b0 + b1*x + b2*x**2 + b3*x**3"
      ]
     },
     "execution_count": 122,
     "metadata": {},
     "output_type": "execute_result"
    }
   ],
   "source": [
    "g"
   ]
  },
  {
   "cell_type": "code",
   "execution_count": 120,
   "metadata": {},
   "outputs": [
    {
     "data": {
      "text/plain": [
       "Matrix([\n",
       "[a4, a3, a2, a1, a0,  0,  0],\n",
       "[ 0, a4, a3, a2, a1, a0,  0],\n",
       "[ 0,  0, a4, a3, a2, a1, a0],\n",
       "[b3, b2, b1, b0,  0,  0,  0],\n",
       "[ 0, b3, b2, b1, b0,  0,  0],\n",
       "[ 0,  0, b3, b2, b1, b0,  0],\n",
       "[ 0,  0,  0, b3, b2, b1, b0]])"
      ]
     },
     "execution_count": 120,
     "metadata": {},
     "output_type": "execute_result"
    }
   ],
   "source": [
    "from sympy.polys import subresultants_qq_zz\n",
    "\n",
    "matrix = subresultants_qq_zz.sylvester(f, g, x)\n",
    "matrix"
   ]
  },
  {
   "cell_type": "markdown",
   "metadata": {},
   "source": [
    "Utility\n",
    "-------"
   ]
  },
  {
   "cell_type": "code",
   "execution_count": 12,
   "metadata": {},
   "outputs": [],
   "source": [
    "S_p = sym.Matrix([[3, 0, 5, 1]])\n",
    "B = opt_mo.make_B(S_p, (p_1, p_2, p_1, p_2), (q_1, q_2, q_3, q_4))\n"
   ]
  },
  {
   "cell_type": "code",
   "execution_count": 13,
   "metadata": {},
   "outputs": [],
   "source": [
    "def pd_utility(S_p, x, y):\n",
    "    \"\"\"\n",
    "    Returns the utility as a function\n",
    "    of p, q vectors. Based on Press and Dyson, 2012.\n",
    "    \"\"\"\n",
    "    B = sym.Matrix(opt_mo.make_B(S_p, x, y))\n",
    "    unit = sym.Matrix(opt_mo.make_B((1, 1, 1, 1), x, y))\n",
    "    return B.det() / unit.det()\n"
   ]
  },
  {
   "cell_type": "code",
   "execution_count": 16,
   "metadata": {},
   "outputs": [],
   "source": [
    "S_p = sym.Matrix([[R, S, T, P]])"
   ]
  },
  {
   "cell_type": "code",
   "execution_count": 45,
   "metadata": {},
   "outputs": [],
   "source": [
    "utility = pd_utility(S_p, p, q)\n"
   ]
  },
  {
   "cell_type": "code",
   "execution_count": 46,
   "metadata": {},
   "outputs": [],
   "source": [
    "numerator, denominator = sym.fraction(utility.simplify())"
   ]
  },
  {
   "cell_type": "markdown",
   "metadata": {},
   "source": [
    "**Numerator**"
   ]
  },
  {
   "cell_type": "code",
   "execution_count": 66,
   "metadata": {},
   "outputs": [],
   "source": [
    "diffe = sym.diff(utility, p_1)"
   ]
  },
  {
   "cell_type": "code",
   "execution_count": 70,
   "metadata": {},
   "outputs": [],
   "source": [
    "n = sym.fraction(diffe.simplify())[0]"
   ]
  },
  {
   "cell_type": "code",
   "execution_count": 85,
   "metadata": {},
   "outputs": [],
   "source": [
    "n = n.expand()"
   ]
  },
  {
   "cell_type": "code",
   "execution_count": 98,
   "metadata": {},
   "outputs": [
    {
     "data": {
      "image/png": "[encoded data removed]",
      "text/latex": [
       "$$\\left [ \\left [ - \\left(q_{1} - q_{2}\\right) \\left(p_{2} q_{3} - p_{2} q_{4} + q_{4}\\right) \\left(P q_{1} q_{3} + P q_{1} - P q_{2} q_{3} - P q_{2} + R q_{2} q_{3} - R q_{2} q_{4} - S q_{1} q_{4} - S q_{1} + S q_{2} q_{4} + S q_{2} - T q_{1} q_{3} + T q_{1} q_{4}\\right), \\quad 2 \\left(q_{1} - q_{2}\\right) \\left(P q_{1} q_{3} q_{4} - P q_{2} q_{3} q_{4} - P q_{2} q_{3} + P q_{2} q_{4} + P q_{3}^{2} - P q_{3} q_{4} + P q_{3} - P q_{4} + R q_{2} q_{3} q_{4} - R q_{2} q_{4}^{2} - R q_{3} q_{4} + R q_{4}^{2} - S q_{1} q_{4}^{2} + S q_{2} q_{3} + S q_{2} q_{4}^{2} - S q_{2} q_{4} - S q_{3} q_{4} - S q_{3} + S q_{4}^{2} + S q_{4} - T q_{1} q_{3} q_{4} + T q_{1} q_{4}^{2} - T q_{3}^{2} + 3 T q_{3} q_{4} - 2 T q_{4}^{2}\\right)\\right ], \\quad \\left [ 2 \\left(q_{1} - q_{2}\\right) \\left(P q_{1} q_{3} q_{4} - P q_{2} q_{3} q_{4} - P q_{2} q_{3} + P q_{2} q_{4} + P q_{3}^{2} - P q_{3} q_{4} + P q_{3} - P q_{4} + R q_{2} q_{3} q_{4} - R q_{2} q_{4}^{2} - R q_{3} q_{4} + R q_{4}^{2} - S q_{1} q_{4}^{2} + S q_{2} q_{3} + S q_{2} q_{4}^{2} - S q_{2} q_{4} - S q_{3} q_{4} - S q_{3} + S q_{4}^{2} + S q_{4} - T q_{1} q_{3} q_{4} + T q_{1} q_{4}^{2} - T q_{3}^{2} + 3 T q_{3} q_{4} - 2 T q_{4}^{2}\\right), \\quad 2 P p_{1} q_{1}^{2} q_{3}^{2} - 2 P p_{1} q_{1}^{2} q_{3} q_{4} - 4 P p_{1} q_{1} q_{2} q_{3}^{2} + 4 P p_{1} q_{1} q_{2} q_{3} q_{4} + 2 P p_{1} q_{2}^{2} q_{3}^{2} - 2 P p_{1} q_{2}^{2} q_{3} q_{4} - P q_{1}^{2} q_{3} q_{4} - P q_{1}^{2} q_{3} + 2 P q_{1}^{2} q_{4} + 2 P q_{1} q_{2} q_{3} q_{4} + 3 P q_{1} q_{2} q_{3} - 5 P q_{1} q_{2} q_{4} - P q_{1} q_{3}^{2} + P q_{1} q_{3} q_{4} - P q_{2}^{2} q_{3} q_{4} - 2 P q_{2}^{2} q_{3} + 3 P q_{2}^{2} q_{4} + P q_{2} q_{3}^{2} - P q_{2} q_{3} q_{4} + 2 R p_{1} q_{1} q_{2} q_{3}^{2} - 4 R p_{1} q_{1} q_{2} q_{3} q_{4} + 2 R p_{1} q_{1} q_{2} q_{4}^{2} - 2 R p_{1} q_{1} q_{3}^{2} + 4 R p_{1} q_{1} q_{3} q_{4} - 2 R p_{1} q_{1} q_{4}^{2} - 2 R p_{1} q_{2}^{2} q_{3}^{2} + 4 R p_{1} q_{2}^{2} q_{3} q_{4} - 2 R p_{1} q_{2}^{2} q_{4}^{2} + 2 R p_{1} q_{2} q_{3}^{2} - 4 R p_{1} q_{2} q_{3} q_{4} + 2 R p_{1} q_{2} q_{4}^{2} - R q_{1} q_{2} q_{3} q_{4} - R q_{1} q_{2} q_{3} + R q_{1} q_{2} q_{4}^{2} + R q_{1} q_{2} q_{4} + 3 R q_{1} q_{3} q_{4} + R q_{1} q_{3} - 3 R q_{1} q_{4}^{2} - R q_{1} q_{4} + R q_{2}^{2} q_{3} q_{4} + R q_{2}^{2} q_{3} - R q_{2}^{2} q_{4}^{2} - R q_{2}^{2} q_{4} - 3 R q_{2} q_{3} q_{4} - R q_{2} q_{3} + 3 R q_{2} q_{4}^{2} + R q_{2} q_{4} + R q_{3}^{2} - 2 R q_{3} q_{4} + R q_{4}^{2} - 2 S p_{1} q_{1}^{2} q_{3} q_{4} + 2 S p_{1} q_{1}^{2} q_{4}^{2} + 4 S p_{1} q_{1} q_{2} q_{3} q_{4} - 4 S p_{1} q_{1} q_{2} q_{4}^{2} - 2 S p_{1} q_{2}^{2} q_{3} q_{4} + 2 S p_{1} q_{2}^{2} q_{4}^{2} + S q_{1}^{2} q_{4}^{2} - S q_{1}^{2} q_{4} - S q_{1} q_{2} q_{3} - 2 S q_{1} q_{2} q_{4}^{2} + 3 S q_{1} q_{2} q_{4} + S q_{1} q_{3} q_{4} - S q_{1} q_{4}^{2} + S q_{2}^{2} q_{3} + S q_{2}^{2} q_{4}^{2} - 2 S q_{2}^{2} q_{4} - S q_{2} q_{3} q_{4} + S q_{2} q_{4}^{2} - 2 T p_{1} q_{1}^{2} q_{3}^{2} + 4 T p_{1} q_{1}^{2} q_{3} q_{4} - 2 T p_{1} q_{1}^{2} q_{4}^{2} + 2 T p_{1} q_{1} q_{2} q_{3}^{2} - 4 T p_{1} q_{1} q_{2} q_{3} q_{4} + 2 T p_{1} q_{1} q_{2} q_{4}^{2} + 2 T p_{1} q_{1} q_{3}^{2} - 4 T p_{1} q_{1} q_{3} q_{4} + 2 T p_{1} q_{1} q_{4}^{2} - 2 T p_{1} q_{2} q_{3}^{2} + 4 T p_{1} q_{2} q_{3} q_{4} - 2 T p_{1} q_{2} q_{4}^{2} + T q_{1}^{2} q_{3} q_{4} + T q_{1}^{2} q_{3} - T q_{1}^{2} q_{4}^{2} - T q_{1}^{2} q_{4} - T q_{1} q_{2} q_{3} q_{4} - T q_{1} q_{2} q_{3} + T q_{1} q_{2} q_{4}^{2} + T q_{1} q_{2} q_{4} + T q_{1} q_{3}^{2} - 5 T q_{1} q_{3} q_{4} - T q_{1} q_{3} + 4 T q_{1} q_{4}^{2} + T q_{1} q_{4} - T q_{2} q_{3}^{2} + 5 T q_{2} q_{3} q_{4} + T q_{2} q_{3} - 4 T q_{2} q_{4}^{2} - T q_{2} q_{4} - T q_{3}^{2} + 2 T q_{3} q_{4} - T q_{4}^{2}\\right ]\\right ]$$"
      ],
      "text/plain": [
       "⎡⎡                                                                            \n",
       "⎣⎣-(q₁ - q₂)⋅(p₂⋅q₃ - p₂⋅q₄ + q₄)⋅(P⋅q₁⋅q₃ + P⋅q₁ - P⋅q₂⋅q₃ - P⋅q₂ + R⋅q₂⋅q₃ -\n",
       "\n",
       "                                                                             ⎛\n",
       " R⋅q₂⋅q₄ - S⋅q₁⋅q₄ - S⋅q₁ + S⋅q₂⋅q₄ + S⋅q₂ - T⋅q₁⋅q₃ + T⋅q₁⋅q₄), 2⋅(q₁ - q₂)⋅⎝\n",
       "\n",
       "                                                  2                           \n",
       "P⋅q₁⋅q₃⋅q₄ - P⋅q₂⋅q₃⋅q₄ - P⋅q₂⋅q₃ + P⋅q₂⋅q₄ + P⋅q₃  - P⋅q₃⋅q₄ + P⋅q₃ - P⋅q₄ + \n",
       "\n",
       "                    2                 2          2                    2       \n",
       "R⋅q₂⋅q₃⋅q₄ - R⋅q₂⋅q₄  - R⋅q₃⋅q₄ + R⋅q₄  - S⋅q₁⋅q₄  + S⋅q₂⋅q₃ + S⋅q₂⋅q₄  - S⋅q₂\n",
       "\n",
       "                           2                              2       2           \n",
       "⋅q₄ - S⋅q₃⋅q₄ - S⋅q₃ + S⋅q₄  + S⋅q₄ - T⋅q₁⋅q₃⋅q₄ + T⋅q₁⋅q₄  - T⋅q₃  + 3⋅T⋅q₃⋅q\n",
       "\n",
       "          2⎞⎤  ⎡            ⎛                                                 \n",
       "₄ - 2⋅T⋅q₄ ⎠⎦, ⎣2⋅(q₁ - q₂)⋅⎝P⋅q₁⋅q₃⋅q₄ - P⋅q₂⋅q₃⋅q₄ - P⋅q₂⋅q₃ + P⋅q₂⋅q₄ + P⋅q\n",
       "\n",
       " 2                                               2                 2          \n",
       "₃  - P⋅q₃⋅q₄ + P⋅q₃ - P⋅q₄ + R⋅q₂⋅q₃⋅q₄ - R⋅q₂⋅q₄  - R⋅q₃⋅q₄ + R⋅q₄  - S⋅q₁⋅q₄\n",
       "\n",
       "2                    2                                  2                     \n",
       "  + S⋅q₂⋅q₃ + S⋅q₂⋅q₄  - S⋅q₂⋅q₄ - S⋅q₃⋅q₄ - S⋅q₃ + S⋅q₄  + S⋅q₄ - T⋅q₁⋅q₃⋅q₄ \n",
       "\n",
       "         2       2                     2⎞           2   2            2        \n",
       "+ T⋅q₁⋅q₄  - T⋅q₃  + 3⋅T⋅q₃⋅q₄ - 2⋅T⋅q₄ ⎠, 2⋅P⋅p₁⋅q₁ ⋅q₃  - 2⋅P⋅p₁⋅q₁ ⋅q₃⋅q₄ -\n",
       "\n",
       "                2                                 2   2            2          \n",
       " 4⋅P⋅p₁⋅q₁⋅q₂⋅q₃  + 4⋅P⋅p₁⋅q₁⋅q₂⋅q₃⋅q₄ + 2⋅P⋅p₁⋅q₂ ⋅q₃  - 2⋅P⋅p₁⋅q₂ ⋅q₃⋅q₄ - P\n",
       "\n",
       "   2             2            2                                               \n",
       "⋅q₁ ⋅q₃⋅q₄ - P⋅q₁ ⋅q₃ + 2⋅P⋅q₁ ⋅q₄ + 2⋅P⋅q₁⋅q₂⋅q₃⋅q₄ + 3⋅P⋅q₁⋅q₂⋅q₃ - 5⋅P⋅q₁⋅q\n",
       "\n",
       "              2                    2               2            2             \n",
       "₂⋅q₄ - P⋅q₁⋅q₃  + P⋅q₁⋅q₃⋅q₄ - P⋅q₂ ⋅q₃⋅q₄ - 2⋅P⋅q₂ ⋅q₃ + 3⋅P⋅q₂ ⋅q₄ + P⋅q₂⋅q₃\n",
       "\n",
       "2                               2                                       2     \n",
       "  - P⋅q₂⋅q₃⋅q₄ + 2⋅R⋅p₁⋅q₁⋅q₂⋅q₃  - 4⋅R⋅p₁⋅q₁⋅q₂⋅q₃⋅q₄ + 2⋅R⋅p₁⋅q₁⋅q₂⋅q₄  - 2⋅\n",
       "\n",
       "          2                                 2            2   2            2   \n",
       "R⋅p₁⋅q₁⋅q₃  + 4⋅R⋅p₁⋅q₁⋅q₃⋅q₄ - 2⋅R⋅p₁⋅q₁⋅q₄  - 2⋅R⋅p₁⋅q₂ ⋅q₃  + 4⋅R⋅p₁⋅q₂ ⋅q₃\n",
       "\n",
       "               2   2               2                                 2        \n",
       "⋅q₄ - 2⋅R⋅p₁⋅q₂ ⋅q₄  + 2⋅R⋅p₁⋅q₂⋅q₃  - 4⋅R⋅p₁⋅q₂⋅q₃⋅q₄ + 2⋅R⋅p₁⋅q₂⋅q₄  - R⋅q₁⋅\n",
       "\n",
       "                                  2                                           \n",
       "q₂⋅q₃⋅q₄ - R⋅q₁⋅q₂⋅q₃ + R⋅q₁⋅q₂⋅q₄  + R⋅q₁⋅q₂⋅q₄ + 3⋅R⋅q₁⋅q₃⋅q₄ + R⋅q₁⋅q₃ - 3⋅\n",
       "\n",
       "       2                 2             2          2   2       2               \n",
       "R⋅q₁⋅q₄  - R⋅q₁⋅q₄ + R⋅q₂ ⋅q₃⋅q₄ + R⋅q₂ ⋅q₃ - R⋅q₂ ⋅q₄  - R⋅q₂ ⋅q₄ - 3⋅R⋅q₂⋅q₃\n",
       "\n",
       "                         2                 2                   2            2 \n",
       "⋅q₄ - R⋅q₂⋅q₃ + 3⋅R⋅q₂⋅q₄  + R⋅q₂⋅q₄ + R⋅q₃  - 2⋅R⋅q₃⋅q₄ + R⋅q₄  - 2⋅S⋅p₁⋅q₁ ⋅\n",
       "\n",
       "                 2   2                                       2            2   \n",
       "q₃⋅q₄ + 2⋅S⋅p₁⋅q₁ ⋅q₄  + 4⋅S⋅p₁⋅q₁⋅q₂⋅q₃⋅q₄ - 4⋅S⋅p₁⋅q₁⋅q₂⋅q₄  - 2⋅S⋅p₁⋅q₂ ⋅q₃\n",
       "\n",
       "               2   2       2   2       2                               2      \n",
       "⋅q₄ + 2⋅S⋅p₁⋅q₂ ⋅q₄  + S⋅q₁ ⋅q₄  - S⋅q₁ ⋅q₄ - S⋅q₁⋅q₂⋅q₃ - 2⋅S⋅q₁⋅q₂⋅q₄  + 3⋅S\n",
       "\n",
       "                                2       2          2   2         2            \n",
       "⋅q₁⋅q₂⋅q₄ + S⋅q₁⋅q₃⋅q₄ - S⋅q₁⋅q₄  + S⋅q₂ ⋅q₃ + S⋅q₂ ⋅q₄  - 2⋅S⋅q₂ ⋅q₄ - S⋅q₂⋅q\n",
       "\n",
       "              2            2   2            2                  2   2          \n",
       "₃⋅q₄ + S⋅q₂⋅q₄  - 2⋅T⋅p₁⋅q₁ ⋅q₃  + 4⋅T⋅p₁⋅q₁ ⋅q₃⋅q₄ - 2⋅T⋅p₁⋅q₁ ⋅q₄  + 2⋅T⋅p₁⋅\n",
       "\n",
       "        2                                       2               2             \n",
       "q₁⋅q₂⋅q₃  - 4⋅T⋅p₁⋅q₁⋅q₂⋅q₃⋅q₄ + 2⋅T⋅p₁⋅q₁⋅q₂⋅q₄  + 2⋅T⋅p₁⋅q₁⋅q₃  - 4⋅T⋅p₁⋅q₁⋅\n",
       "\n",
       "                    2               2                                 2       \n",
       "q₃⋅q₄ + 2⋅T⋅p₁⋅q₁⋅q₄  - 2⋅T⋅p₁⋅q₂⋅q₃  + 4⋅T⋅p₁⋅q₂⋅q₃⋅q₄ - 2⋅T⋅p₁⋅q₂⋅q₄  + T⋅q₁\n",
       "\n",
       "2             2          2   2       2                                        \n",
       " ⋅q₃⋅q₄ + T⋅q₁ ⋅q₃ - T⋅q₁ ⋅q₄  - T⋅q₁ ⋅q₄ - T⋅q₁⋅q₂⋅q₃⋅q₄ - T⋅q₁⋅q₂⋅q₃ + T⋅q₁⋅\n",
       "\n",
       "     2                       2                                     2          \n",
       "q₂⋅q₄  + T⋅q₁⋅q₂⋅q₄ + T⋅q₁⋅q₃  - 5⋅T⋅q₁⋅q₃⋅q₄ - T⋅q₁⋅q₃ + 4⋅T⋅q₁⋅q₄  + T⋅q₁⋅q₄\n",
       "\n",
       "          2                                     2                 2           \n",
       " - T⋅q₂⋅q₃  + 5⋅T⋅q₂⋅q₃⋅q₄ + T⋅q₂⋅q₃ - 4⋅T⋅q₂⋅q₄  - T⋅q₂⋅q₄ - T⋅q₃  + 2⋅T⋅q₃⋅q\n",
       "\n",
       "        2⎤⎤\n",
       "₄ - T⋅q₄ ⎦⎦"
      ]
     },
     "execution_count": 98,
     "metadata": {},
     "output_type": "execute_result"
    }
   ],
   "source": [
    "[[n.coeff(f1 * f2).factor() for f2 in ps] for f1 in ps]"
   ]
  },
  {
   "cell_type": "code",
   "execution_count": 96,
   "metadata": {},
   "outputs": [],
   "source": [
    "d = sym.fraction(diffe.simplify())[1]"
   ]
  },
  {
   "cell_type": "code",
   "execution_count": 97,
   "metadata": {},
   "outputs": [],
   "source": [
    "d = d.expand()"
   ]
  },
  {
   "cell_type": "code",
   "execution_count": null,
   "metadata": {},
   "outputs": [],
   "source": []
  },
  {
   "cell_type": "code",
   "execution_count": 55,
   "metadata": {},
   "outputs": [],
   "source": [
    "ps = np.array(p[:2])\n",
    "Q_num = np.array([[numerator.coeff(f1 * f2) for f2 in ps] for f1 in ps])\n",
    "c_num = np.array(\n",
    "    [\n",
    "        numerator.subs({p_2: 0}).coeff(p_1),\n",
    "        numerator.subs({p_1: 0}).coeff(p_2),\n",
    "    ]\n",
    ")\n"
   ]
  },
  {
   "cell_type": "code",
   "execution_count": 65,
   "metadata": {},
   "outputs": [
    {
     "data": {
      "text/plain": [
       "array([p_1, p_2], dtype=object)"
      ]
     },
     "execution_count": 65,
     "metadata": {},
     "output_type": "execute_result"
    }
   ],
   "source": [
    "ps"
   ]
  },
  {
   "cell_type": "code",
   "execution_count": 56,
   "metadata": {},
   "outputs": [],
   "source": [
    "expr = np.dot(ps, Q_num.dot(ps.T) * 1 / 2) + np.dot(c_num, ps.T)\n",
    "constant = numerator.expand() - expr\n"
   ]
  },
  {
   "cell_type": "code",
   "execution_count": 64,
   "metadata": {},
   "outputs": [
    {
     "data": {
      "image/png": "[encoded data removed]",
      "text/latex": [
       "$$\\frac{P p_{1}^{2} q_{1} q_{3}}{2} - \\frac{P p_{1}^{2} q_{2} q_{3}}{2} - P q_{2} + P - \\frac{R p_{2}^{2} q_{2} q_{3}}{2} + \\frac{R p_{2}^{2} q_{2} q_{4}}{2} + \\frac{R p_{2}^{2} q_{3}}{2} - \\frac{R p_{2}^{2} q_{4}}{2} - \\frac{S p_{1}^{2} q_{1} q_{4}}{2} + \\frac{S p_{1}^{2} q_{2} q_{4}}{2} + \\frac{T p_{2}^{2} q_{1} q_{3}}{2} - \\frac{T p_{2}^{2} q_{1} q_{4}}{2} - \\frac{T p_{2}^{2} q_{3}}{2} + \\frac{T p_{2}^{2} q_{4}}{2} + T q_{4}$$"
      ],
      "text/plain": [
       "    2             2                        2             2             2      \n",
       "P⋅p₁ ⋅q₁⋅q₃   P⋅p₁ ⋅q₂⋅q₃              R⋅p₂ ⋅q₂⋅q₃   R⋅p₂ ⋅q₂⋅q₄   R⋅p₂ ⋅q₃   \n",
       "─────────── - ─────────── - P⋅q₂ + P - ─────────── + ─────────── + ──────── - \n",
       "     2             2                        2             2           2       \n",
       "\n",
       "    2          2             2             2             2             2      \n",
       "R⋅p₂ ⋅q₄   S⋅p₁ ⋅q₁⋅q₄   S⋅p₁ ⋅q₂⋅q₄   T⋅p₂ ⋅q₁⋅q₃   T⋅p₂ ⋅q₁⋅q₄   T⋅p₂ ⋅q₃   \n",
       "──────── - ─────────── + ─────────── + ─────────── - ─────────── - ──────── + \n",
       "   2            2             2             2             2           2       \n",
       "\n",
       "    2          \n",
       "T⋅p₂ ⋅q₄       \n",
       "──────── + T⋅q₄\n",
       "   2           "
      ]
     },
     "execution_count": 64,
     "metadata": {},
     "output_type": "execute_result"
    }
   ],
   "source": [
    "constant.expand()\n"
   ]
  },
  {
   "cell_type": "code",
   "execution_count": 27,
   "metadata": {},
   "outputs": [],
   "source": [
    "assert (expr + constant).subs(\n",
    "    {p_1: 0, p_2: 0, p_3: 0, p_4: 0, q_1: 1, q_2: 1, q_3: 1, q_4: 1}\n",
    ") == T\n"
   ]
  },
  {
   "cell_type": "code",
   "execution_count": 28,
   "metadata": {},
   "outputs": [],
   "source": [
    "Q_num = sym.Matrix([[element.factor() for element in row] for row in Q_num])\n",
    "c_num = sym.Matrix([element.factor() for element in c_num])\n"
   ]
  },
  {
   "cell_type": "code",
   "execution_count": 29,
   "metadata": {},
   "outputs": [
    {
     "data": {
      "image/png": "[encoded data removed]",
      "text/latex": [
       "$$\\left[\\begin{matrix}0 & - \\left(q_{1} - q_{3}\\right) \\left(P q_{2} - P - T q_{4}\\right) & \\left(q_{1} - q_{2}\\right) \\left(P q_{3} - S q_{4}\\right) & \\left(q_{1} - q_{4}\\right) \\left(S q_{2} - S - T q_{3}\\right)\\\\- \\left(q_{1} - q_{3}\\right) \\left(P q_{2} - P - T q_{4}\\right) & 0 & \\left(q_{2} - q_{3}\\right) \\left(P q_{1} - P - R q_{4}\\right) & - \\left(q_{3} - q_{4}\\right) \\left(R q_{2} - R - T q_{1} + T\\right)\\\\\\left(q_{1} - q_{2}\\right) \\left(P q_{3} - S q_{4}\\right) & \\left(q_{2} - q_{3}\\right) \\left(P q_{1} - P - R q_{4}\\right) & 0 & \\left(q_{2} - q_{4}\\right) \\left(R q_{3} - S q_{1} + S\\right)\\\\\\left(q_{1} - q_{4}\\right) \\left(S q_{2} - S - T q_{3}\\right) & - \\left(q_{3} - q_{4}\\right) \\left(R q_{2} - R - T q_{1} + T\\right) & \\left(q_{2} - q_{4}\\right) \\left(R q_{3} - S q_{1} + S\\right) & 0\\end{matrix}\\right]$$"
      ],
      "text/plain": [
       "⎡             0                  -(q₁ - q₃)⋅(P⋅q₂ - P - T⋅q₄)      (q₁ - q₂)⋅(\n",
       "⎢                                                                             \n",
       "⎢-(q₁ - q₃)⋅(P⋅q₂ - P - T⋅q₄)                 0                  (q₂ - q₃)⋅(P⋅\n",
       "⎢                                                                             \n",
       "⎢  (q₁ - q₂)⋅(P⋅q₃ - S⋅q₄)       (q₂ - q₃)⋅(P⋅q₁ - P - R⋅q₄)                  \n",
       "⎢                                                                             \n",
       "⎣(q₁ - q₄)⋅(S⋅q₂ - S - T⋅q₃)   -(q₃ - q₄)⋅(R⋅q₂ - R - T⋅q₁ + T)  (q₂ - q₄)⋅(R⋅\n",
       "\n",
       "P⋅q₃ - S⋅q₄)      (q₁ - q₄)⋅(S⋅q₂ - S - T⋅q₃)   ⎤\n",
       "                                                ⎥\n",
       "q₁ - P - R⋅q₄)  -(q₃ - q₄)⋅(R⋅q₂ - R - T⋅q₁ + T)⎥\n",
       "                                                ⎥\n",
       "0                 (q₂ - q₄)⋅(R⋅q₃ - S⋅q₁ + S)   ⎥\n",
       "                                                ⎥\n",
       "q₃ - S⋅q₁ + S)                 0                ⎦"
      ]
     },
     "execution_count": 29,
     "metadata": {},
     "output_type": "execute_result"
    }
   ],
   "source": [
    "Q_num"
   ]
  },
  {
   "cell_type": "code",
   "execution_count": 30,
   "metadata": {},
   "outputs": [
    {
     "data": {
      "image/png": "[encoded data removed]",
      "text/latex": [
       "$$\\left[\\begin{matrix}q_{1} \\left(P q_{2} - P - T q_{4}\\right)\\\\- \\left(q_{3} - 1\\right) \\left(P q_{2} - P - T q_{4}\\right)\\\\- P q_{1} q_{2} + P q_{2} q_{3} + P q_{2} - P q_{3} + R q_{2} q_{4} - S q_{2} q_{4} + S q_{4}\\\\- R q_{2} q_{4} + R q_{4} + S q_{2} q_{4} - S q_{2} - S q_{4} + S + T q_{1} q_{4} - T q_{3} q_{4} + T q_{3} - T q_{4}\\end{matrix}\\right]$$"
      ],
      "text/plain": [
       "⎡                            q₁⋅(P⋅q₂ - P - T⋅q₄)                             \n",
       "⎢                                                                             \n",
       "⎢                         -(q₃ - 1)⋅(P⋅q₂ - P - T⋅q₄)                         \n",
       "⎢                                                                             \n",
       "⎢         -P⋅q₁⋅q₂ + P⋅q₂⋅q₃ + P⋅q₂ - P⋅q₃ + R⋅q₂⋅q₄ - S⋅q₂⋅q₄ + S⋅q₄         \n",
       "⎢                                                                             \n",
       "⎣-R⋅q₂⋅q₄ + R⋅q₄ + S⋅q₂⋅q₄ - S⋅q₂ - S⋅q₄ + S + T⋅q₁⋅q₄ - T⋅q₃⋅q₄ + T⋅q₃ - T⋅q₄\n",
       "\n",
       "⎤\n",
       "⎥\n",
       "⎥\n",
       "⎥\n",
       "⎥\n",
       "⎥\n",
       "⎦"
      ]
     },
     "execution_count": 30,
     "metadata": {},
     "output_type": "execute_result"
    }
   ],
   "source": [
    "c_num"
   ]
  },
  {
   "cell_type": "code",
   "execution_count": 31,
   "metadata": {},
   "outputs": [],
   "source": [
    "for file, name in zip(\n",
    "    [Q_num, c_num, constant.simplify()],\n",
    "    [\"q_numerator\", \"c_numerator\", \"numerator_constant\"],\n",
    "):\n",
    "\n",
    "    with open(\"../tex/{}.tex\".format(name), \"w\") as f:\n",
    "        f.write(\"{}\".format(sym.latex(file)))\n"
   ]
  },
  {
   "cell_type": "markdown",
   "metadata": {},
   "source": [
    "**Denominator**"
   ]
  },
  {
   "cell_type": "code",
   "execution_count": 32,
   "metadata": {},
   "outputs": [],
   "source": [
    "Q_den = np.array([[denominator.coeff(f1 * f2) for f2 in p] for f1 in p])\n",
    "c_den = np.array(\n",
    "    [\n",
    "        denominator.subs({p_2: 0, p_3: 0, p_4: 0}).coeff(p_1),\n",
    "        denominator.subs({p_1: 0, p_3: 0, p_4: 0}).coeff(p_2),\n",
    "        denominator.subs({p_1: 0, p_2: 0, p_4: 0}).coeff(p_3),\n",
    "        denominator.subs({p_1: 0, p_2: 0, p_3: 0}).coeff(p_4),\n",
    "    ]\n",
    ")\n"
   ]
  },
  {
   "cell_type": "code",
   "execution_count": 33,
   "metadata": {},
   "outputs": [],
   "source": [
    "expr = np.dot(ps, Q_den.dot(ps.T) * 1 / 2) + np.dot(c_den, ps.T)\n",
    "den_constant = denominator.expand() - expr\n"
   ]
  },
  {
   "cell_type": "code",
   "execution_count": 34,
   "metadata": {},
   "outputs": [],
   "source": [
    "assert (expr + den_constant).subs(\n",
    "    {p_1: 0, p_2: 0, p_3: 0, p_4: 0, q_1: 1, q_2: 1, q_3: 1, q_4: 1}\n",
    ") == 1\n"
   ]
  },
  {
   "cell_type": "code",
   "execution_count": 35,
   "metadata": {},
   "outputs": [],
   "source": [
    "Q_den = sym.Matrix([[element.factor() for element in row] for row in Q_den])\n",
    "c_den = sym.Matrix([element.factor() for element in c_den])\n"
   ]
  },
  {
   "cell_type": "code",
   "execution_count": 36,
   "metadata": {},
   "outputs": [
    {
     "data": {
      "image/png": "[encoded data removed]",
      "text/latex": [
       "$$\\left[\\begin{matrix}0 & - \\left(q_{1} - q_{3}\\right) \\left(q_{2} - q_{4} - 1\\right) & \\left(q_{1} - q_{2}\\right) \\left(q_{3} - q_{4}\\right) & \\left(q_{1} - q_{4}\\right) \\left(q_{2} - q_{3} - 1\\right)\\\\- \\left(q_{1} - q_{3}\\right) \\left(q_{2} - q_{4} - 1\\right) & 0 & \\left(q_{2} - q_{3}\\right) \\left(q_{1} - q_{4} - 1\\right) & \\left(q_{1} - q_{2}\\right) \\left(q_{3} - q_{4}\\right)\\\\\\left(q_{1} - q_{2}\\right) \\left(q_{3} - q_{4}\\right) & \\left(q_{2} - q_{3}\\right) \\left(q_{1} - q_{4} - 1\\right) & 0 & - \\left(q_{2} - q_{4}\\right) \\left(q_{1} - q_{3} - 1\\right)\\\\\\left(q_{1} - q_{4}\\right) \\left(q_{2} - q_{3} - 1\\right) & \\left(q_{1} - q_{2}\\right) \\left(q_{3} - q_{4}\\right) & - \\left(q_{2} - q_{4}\\right) \\left(q_{1} - q_{3} - 1\\right) & 0\\end{matrix}\\right]$$"
      ],
      "text/plain": [
       "⎡           0              -(q₁ - q₃)⋅(q₂ - q₄ - 1)    (q₁ - q₂)⋅(q₃ - q₄)    \n",
       "⎢                                                                             \n",
       "⎢-(q₁ - q₃)⋅(q₂ - q₄ - 1)             0              (q₂ - q₃)⋅(q₁ - q₄ - 1)  \n",
       "⎢                                                                             \n",
       "⎢  (q₁ - q₂)⋅(q₃ - q₄)     (q₂ - q₃)⋅(q₁ - q₄ - 1)              0             \n",
       "⎢                                                                             \n",
       "⎣(q₁ - q₄)⋅(q₂ - q₃ - 1)     (q₁ - q₂)⋅(q₃ - q₄)     -(q₂ - q₄)⋅(q₁ - q₃ - 1) \n",
       "\n",
       " (q₁ - q₄)⋅(q₂ - q₃ - 1) ⎤\n",
       "                         ⎥\n",
       "   (q₁ - q₂)⋅(q₃ - q₄)   ⎥\n",
       "                         ⎥\n",
       " -(q₂ - q₄)⋅(q₁ - q₃ - 1)⎥\n",
       "                         ⎥\n",
       "            0            ⎦"
      ]
     },
     "execution_count": 36,
     "metadata": {},
     "output_type": "execute_result"
    }
   ],
   "source": [
    "Q_den"
   ]
  },
  {
   "cell_type": "code",
   "execution_count": 37,
   "metadata": {},
   "outputs": [],
   "source": [
    "for file, name in zip(\n",
    "    [sym.Matrix(Q_den), sym.Matrix(c_den), den_constant.simplify()],\n",
    "    [\"q_denominator\", \"c_denominator\", \"denominator_constant\"],\n",
    "):\n",
    "\n",
    "    with open(\"../tex/{}.tex\".format(name), \"w\") as f:\n",
    "        f.write(\"{}\".format(sym.latex(file)))\n"
   ]
  },
  {
   "cell_type": "markdown",
   "metadata": {},
   "source": [
    "**Validation**"
   ]
  },
  {
   "cell_type": "code",
   "execution_count": 38,
   "metadata": {},
   "outputs": [],
   "source": [
    "qs = [(1 / 3, 1 / 3, 1 / 3, i) for i in np.linspace(0, 1, 20)]\n"
   ]
  },
  {
   "cell_type": "code",
   "execution_count": 39,
   "metadata": {},
   "outputs": [
    {
     "data": {
      "image/png": "[encoded data removed]",
      "text/plain": [
       "<Figure size 489.6x288 with 1 Axes>"
      ]
     },
     "metadata": {
      "needs_background": "light"
     },
     "output_type": "display_data"
    },
    {
     "data": {
      "image/png": "[encoded data removed]",
      "text/plain": [
       "<Figure size 489.6x288 with 1 Axes>"
      ]
     },
     "metadata": {
      "needs_background": "light"
     },
     "output_type": "display_data"
    }
   ],
   "source": [
    "for p, filename in zip(\n",
    "    [[0, 1, 0, 1], [0, 2 / 3, 1 / 3, 0]], [\"against_player_one\", \"against_player_two\"]\n",
    "):\n",
    "\n",
    "    theoritical = [opt_mo.match_utility(p, q) for q in qs]\n",
    "    simulated = [opt_mo.simulate_match_utility(p, q) for q in qs]\n",
    "\n",
    "    xlabels = [str(Fraction(i).limit_denominator()) for i in np.linspace(0, 1, 20)]\n",
    "    xlabels[1:-1] = [\n",
    "        r\"$\\frac{\" + i.split(\"/\")[0] + \"}{\" + i.split(\"/\")[1] + \"}$\"\n",
    "        for i in xlabels[1:-1]\n",
    "    ]\n",
    "\n",
    "    title = str([str(Fraction(i).limit_denominator()) for i in p])\n",
    "    title = title.replace(\"[\", \"(\").replace(\"]\", \")\").replace(\"'\", \"\")\n",
    "\n",
    "    plt.figure(figsize=[6.8, 4])\n",
    "    plt.plot(\n",
    "        range(len(theoritical)),\n",
    "        theoritical,\n",
    "        linestyle=\"--\",\n",
    "        color=\"red\",\n",
    "        linewidth=2,\n",
    "        zorder=1,\n",
    "        label=\"$u_q(p)$\",\n",
    "    )\n",
    "    plt.scatter(\n",
    "        range(len(simulated)),\n",
    "        simulated,\n",
    "        marker=\"o\",\n",
    "        s=60,\n",
    "        color=\"black\",\n",
    "        zorder=2,\n",
    "        label=\"$U_q(p)$\",\n",
    "        linewidth=\"2\",\n",
    "    )\n",
    "    plt.title(r\"$p={}$\".format(title)), plt.legend()\n",
    "\n",
    "    plt.xticks(range(len(theoritical)), xlabels, rotation=0, fontsize=15), plt.xlabel(\n",
    "        r\"$q_4$\"\n",
    "    )\n",
    "\n",
    "    plt.savefig(\"../img/validation_{}.pdf\".format(filename), bbox_inches=\"tight\")\n"
   ]
  },
  {
   "cell_type": "markdown",
   "metadata": {},
   "source": [
    "**Tournament Utility**"
   ]
  },
  {
   "cell_type": "code",
   "execution_count": 51,
   "metadata": {},
   "outputs": [],
   "source": [
    "opponents = [(0, 0, 0, 0), (1, 0, 1, 0)]\n"
   ]
  },
  {
   "cell_type": "code",
   "execution_count": 52,
   "metadata": {},
   "outputs": [
    {
     "data": {
      "image/png": "[encoded data removed]",
      "text/latex": [
       "$$-1.5$$"
      ],
      "text/plain": [
       "-1.5"
      ]
     },
     "execution_count": 52,
     "metadata": {},
     "output_type": "execute_result"
    }
   ],
   "source": [
    "-opt_mo.tournament_utility([1, 1, 1, 1], opponents)\n"
   ]
  },
  {
   "cell_type": "markdown",
   "metadata": {},
   "source": [
    "**Stewart \\& Plotkin tournament**"
   ]
  },
  {
   "cell_type": "code",
   "execution_count": 53,
   "metadata": {},
   "outputs": [],
   "source": [
    "transitions = [\n",
    "    (1, 1, 1, 1),\n",
    "    (0, 0, 0, 0),\n",
    "    (1 / 2, 1 / 2, 1 / 2, 1 / 2),\n",
    "    (1, 0, 1, 0),\n",
    "    (1, 0, 0, 0),\n",
    "    (1, 1 / 3, 1, 1 / 3),\n",
    "    (1, 0, 0, 1),\n",
    "    (1, 1 / 8, 1, 1 / 4),\n",
    "    (8 / 9, 1 / 2, 1 / 3, 0),\n",
    "    (0.9, 0, 0.9, 0),\n",
    "]\n"
   ]
  },
  {
   "cell_type": "code",
   "execution_count": 54,
   "metadata": {},
   "outputs": [],
   "source": [
    "ps = [(1 / 3, 1 / 3, 1 / 3, i) for i in np.linspace(0, 1, 20)]\n"
   ]
  },
  {
   "cell_type": "code",
   "execution_count": 55,
   "metadata": {},
   "outputs": [
    {
     "name": "stderr",
     "output_type": "stream",
     "text": [
      "//anaconda3/envs/opt-mo/lib/python3.6/site-packages/axelrod/result_set.py:413: RuntimeWarning: invalid value encountered in true_divide\n",
      "  / sum(map(np.array, self.match_lengths))\n",
      "//anaconda3/envs/opt-mo/lib/python3.6/site-packages/axelrod/result_set.py:413: RuntimeWarning: invalid value encountered in true_divide\n",
      "  / sum(map(np.array, self.match_lengths))\n",
      "//anaconda3/envs/opt-mo/lib/python3.6/site-packages/axelrod/result_set.py:413: RuntimeWarning: invalid value encountered in true_divide\n",
      "  / sum(map(np.array, self.match_lengths))\n",
      "//anaconda3/envs/opt-mo/lib/python3.6/site-packages/axelrod/result_set.py:413: RuntimeWarning: invalid value encountered in true_divide\n",
      "  / sum(map(np.array, self.match_lengths))\n",
      "//anaconda3/envs/opt-mo/lib/python3.6/site-packages/axelrod/result_set.py:413: RuntimeWarning: invalid value encountered in true_divide\n",
      "  / sum(map(np.array, self.match_lengths))\n",
      "//anaconda3/envs/opt-mo/lib/python3.6/site-packages/axelrod/result_set.py:413: RuntimeWarning: invalid value encountered in true_divide\n",
      "  / sum(map(np.array, self.match_lengths))\n",
      "//anaconda3/envs/opt-mo/lib/python3.6/site-packages/axelrod/result_set.py:413: RuntimeWarning: invalid value encountered in true_divide\n",
      "  / sum(map(np.array, self.match_lengths))\n",
      "//anaconda3/envs/opt-mo/lib/python3.6/site-packages/axelrod/result_set.py:413: RuntimeWarning: invalid value encountered in true_divide\n",
      "  / sum(map(np.array, self.match_lengths))\n",
      "//anaconda3/envs/opt-mo/lib/python3.6/site-packages/axelrod/result_set.py:413: RuntimeWarning: invalid value encountered in true_divide\n",
      "  / sum(map(np.array, self.match_lengths))\n",
      "//anaconda3/envs/opt-mo/lib/python3.6/site-packages/axelrod/result_set.py:413: RuntimeWarning: invalid value encountered in true_divide\n",
      "  / sum(map(np.array, self.match_lengths))\n",
      "//anaconda3/envs/opt-mo/lib/python3.6/site-packages/axelrod/result_set.py:413: RuntimeWarning: invalid value encountered in true_divide\n",
      "  / sum(map(np.array, self.match_lengths))\n",
      "//anaconda3/envs/opt-mo/lib/python3.6/site-packages/axelrod/result_set.py:413: RuntimeWarning: invalid value encountered in true_divide\n",
      "  / sum(map(np.array, self.match_lengths))\n",
      "//anaconda3/envs/opt-mo/lib/python3.6/site-packages/axelrod/result_set.py:413: RuntimeWarning: invalid value encountered in true_divide\n",
      "  / sum(map(np.array, self.match_lengths))\n",
      "//anaconda3/envs/opt-mo/lib/python3.6/site-packages/axelrod/result_set.py:413: RuntimeWarning: invalid value encountered in true_divide\n",
      "  / sum(map(np.array, self.match_lengths))\n",
      "//anaconda3/envs/opt-mo/lib/python3.6/site-packages/axelrod/result_set.py:413: RuntimeWarning: invalid value encountered in true_divide\n",
      "  / sum(map(np.array, self.match_lengths))\n",
      "//anaconda3/envs/opt-mo/lib/python3.6/site-packages/axelrod/result_set.py:413: RuntimeWarning: invalid value encountered in true_divide\n",
      "  / sum(map(np.array, self.match_lengths))\n",
      "//anaconda3/envs/opt-mo/lib/python3.6/site-packages/axelrod/result_set.py:413: RuntimeWarning: invalid value encountered in true_divide\n",
      "  / sum(map(np.array, self.match_lengths))\n",
      "//anaconda3/envs/opt-mo/lib/python3.6/site-packages/axelrod/result_set.py:413: RuntimeWarning: invalid value encountered in true_divide\n",
      "  / sum(map(np.array, self.match_lengths))\n",
      "//anaconda3/envs/opt-mo/lib/python3.6/site-packages/axelrod/result_set.py:413: RuntimeWarning: invalid value encountered in true_divide\n",
      "  / sum(map(np.array, self.match_lengths))\n",
      "//anaconda3/envs/opt-mo/lib/python3.6/site-packages/axelrod/result_set.py:413: RuntimeWarning: invalid value encountered in true_divide\n",
      "  / sum(map(np.array, self.match_lengths))\n"
     ]
    }
   ],
   "source": [
    "simulated_scores = []\n",
    "for player in ps:\n",
    "    score = opt_mo.simulate_tournament_utility(\n",
    "        player, transitions, turns=100, repetitions=20\n",
    "    )\n",
    "    simulated_scores.append(score)\n"
   ]
  },
  {
   "cell_type": "code",
   "execution_count": 56,
   "metadata": {},
   "outputs": [],
   "source": [
    "theoretical_values = []\n",
    "for player in ps:\n",
    "    utility = opt_mo.tournament_utility(player, transitions)\n",
    "    theoretical_values.append(utility)\n"
   ]
  },
  {
   "cell_type": "code",
   "execution_count": 57,
   "metadata": {},
   "outputs": [
    {
     "data": {
      "image/png": "[encoded data removed]",
      "text/plain": [
       "<Figure size 489.6x288 with 1 Axes>"
      ]
     },
     "metadata": {
      "needs_background": "light"
     },
     "output_type": "display_data"
    }
   ],
   "source": [
    "plt.figure(figsize=[6.8, 4])\n",
    "plt.plot(\n",
    "    theoretical_values,\n",
    "    linestyle=\"--\",\n",
    "    color=\"red\",\n",
    "    linewidth=2,\n",
    "    zorder=1,\n",
    "    label=r\"$\\frac{1}{10} \\sum_{i = 1} ^ {10} u_q^{(i)} (p)$\",\n",
    ")\n",
    "plt.scatter(\n",
    "    range(len(simulated_scores)),\n",
    "    simulated_scores,\n",
    "    marker=\"o\",\n",
    "    s=60,\n",
    "    color=\"black\",\n",
    "    zorder=2,\n",
    "    label=r\"$\\frac{1}{10} \\sum_{i = 1} ^ {10} U_q^{(i)} (p)$\",\n",
    "    linewidth=\"2\",\n",
    ")\n",
    "plt.legend()\n",
    "\n",
    "plt.title(\"Tournament of $N=10$\"), plt.legend()\n",
    "\n",
    "xlabels = [str(Fraction(i).limit_denominator()) for i in np.linspace(0, 1, 20)]\n",
    "xlabels[1:-1] = [\n",
    "    r\"$\\frac{\" + i.split(\"/\")[0] + \"}{\" + i.split(\"/\")[1] + \"}$\" for i in xlabels[1:-1]\n",
    "]\n",
    "\n",
    "plt.xticks(\n",
    "    range(len(theoretical_values)), xlabels, rotation=0, fontsize=15\n",
    "), plt.xlabel(r\"$q_4$\")\n",
    "\n",
    "plt.savefig(\"../img/Stewart_tournament_results.pdf\", bbox_inches=\"tight\")\n"
   ]
  },
  {
   "cell_type": "code",
   "execution_count": 58,
   "metadata": {},
   "outputs": [],
   "source": [
    "players = [[Fraction(p[i]).limit_denominator() for p in ps] for i in range(4)]\n"
   ]
  },
  {
   "cell_type": "code",
   "execution_count": 59,
   "metadata": {},
   "outputs": [],
   "source": [
    "table = pd.DataFrame(\n",
    "    [\n",
    "        players[0],\n",
    "        players[1],\n",
    "        players[2],\n",
    "        players[3],\n",
    "        simulated_scores,\n",
    "        theoretical_values,\n",
    "    ]\n",
    ").transpose()\n"
   ]
  },
  {
   "cell_type": "code",
   "execution_count": 60,
   "metadata": {},
   "outputs": [],
   "source": [
    "table.columns = [\n",
    "    r\"$p_1$\",\n",
    "    r\"$p_2$\",\n",
    "    r\"$p_3$\",\n",
    "    r\"$p_4$\",\n",
    "    r\"$\\frac{1}{10} \\sum\\limits_{i = 1} ^ {10} u_q^{(i)} (p)$\",\n",
    "    r\"$\\frac{1}{10} \\sum\\limits_{i = 1} ^ {10} U_q^{(i)} (p)$\",\n",
    "]\n"
   ]
  },
  {
   "cell_type": "code",
   "execution_count": 61,
   "metadata": {},
   "outputs": [
    {
     "data": {
      "text/html": [
       "<div>\n",
       "<style scoped>\n",
       "    .dataframe tbody tr th:only-of-type {\n",
       "        vertical-align: middle;\n",
       "    }\n",
       "\n",
       "    .dataframe tbody tr th {\n",
       "        vertical-align: top;\n",
       "    }\n",
       "\n",
       "    .dataframe thead th {\n",
       "        text-align: right;\n",
       "    }\n",
       "</style>\n",
       "<table border=\"1\" class=\"dataframe\">\n",
       "  <thead>\n",
       "    <tr style=\"text-align: right;\">\n",
       "      <th></th>\n",
       "      <th>$p_1$</th>\n",
       "      <th>$p_2$</th>\n",
       "      <th>$p_3$</th>\n",
       "      <th>$p_4$</th>\n",
       "      <th>$\\frac{1}{10} \\sum\\limits_{i = 1} ^ {10} u_q^{(i)} (p)$</th>\n",
       "      <th>$\\frac{1}{10} \\sum\\limits_{i = 1} ^ {10} U_q^{(i)} (p)$</th>\n",
       "    </tr>\n",
       "  </thead>\n",
       "  <tbody>\n",
       "    <tr>\n",
       "      <th>0</th>\n",
       "      <td>1/3</td>\n",
       "      <td>1/3</td>\n",
       "      <td>1/3</td>\n",
       "      <td>0</td>\n",
       "      <td>1.97045</td>\n",
       "      <td>1.90388</td>\n",
       "    </tr>\n",
       "    <tr>\n",
       "      <th>1</th>\n",
       "      <td>1/3</td>\n",
       "      <td>1/3</td>\n",
       "      <td>1/3</td>\n",
       "      <td>1/19</td>\n",
       "      <td>2.0014</td>\n",
       "      <td>1.96031</td>\n",
       "    </tr>\n",
       "    <tr>\n",
       "      <th>2</th>\n",
       "      <td>1/3</td>\n",
       "      <td>1/3</td>\n",
       "      <td>1/3</td>\n",
       "      <td>2/19</td>\n",
       "      <td>2.015</td>\n",
       "      <td>2.00053</td>\n",
       "    </tr>\n",
       "    <tr>\n",
       "      <th>3</th>\n",
       "      <td>1/3</td>\n",
       "      <td>1/3</td>\n",
       "      <td>1/3</td>\n",
       "      <td>3/19</td>\n",
       "      <td>2.0452</td>\n",
       "      <td>2.0304</td>\n",
       "    </tr>\n",
       "    <tr>\n",
       "      <th>4</th>\n",
       "      <td>1/3</td>\n",
       "      <td>1/3</td>\n",
       "      <td>1/3</td>\n",
       "      <td>4/19</td>\n",
       "      <td>2.0887</td>\n",
       "      <td>2.05327</td>\n",
       "    </tr>\n",
       "  </tbody>\n",
       "</table>\n",
       "</div>"
      ],
      "text/plain": [
       "  $p_1$ $p_2$ $p_3$ $p_4$  \\\n",
       "0   1/3   1/3   1/3     0   \n",
       "1   1/3   1/3   1/3  1/19   \n",
       "2   1/3   1/3   1/3  2/19   \n",
       "3   1/3   1/3   1/3  3/19   \n",
       "4   1/3   1/3   1/3  4/19   \n",
       "\n",
       "  $\\frac{1}{10} \\sum\\limits_{i = 1} ^ {10} u_q^{(i)} (p)$  \\\n",
       "0                                            1.97045        \n",
       "1                                             2.0014        \n",
       "2                                              2.015        \n",
       "3                                             2.0452        \n",
       "4                                             2.0887        \n",
       "\n",
       "  $\\frac{1}{10} \\sum\\limits_{i = 1} ^ {10} U_q^{(i)} (p)$  \n",
       "0                                            1.90388       \n",
       "1                                            1.96031       \n",
       "2                                            2.00053       \n",
       "3                                             2.0304       \n",
       "4                                            2.05327       "
      ]
     },
     "execution_count": 61,
     "metadata": {},
     "output_type": "execute_result"
    }
   ],
   "source": [
    "table.head()\n"
   ]
  },
  {
   "cell_type": "code",
   "execution_count": 62,
   "metadata": {},
   "outputs": [],
   "source": [
    "textfile = open(\"../tex/stewart_plotkin_simulation.tex\", \"w\")\n",
    "textfile.write(table.to_latex())\n",
    "textfile.close()\n"
   ]
  },
  {
   "cell_type": "markdown",
   "metadata": {},
   "source": [
    "**Mean player vs Average Utility**"
   ]
  },
  {
   "cell_type": "code",
   "execution_count": 63,
   "metadata": {},
   "outputs": [],
   "source": [
    "p_one, p_two = np.linspace(0, 1, 50), np.linspace(0, 1, 50)\n"
   ]
  },
  {
   "cell_type": "code",
   "execution_count": 64,
   "metadata": {},
   "outputs": [
    {
     "data": {
      "image/png": "[encoded data removed]",
      "text/plain": [
       "<Figure size 489.6x288 with 2 Axes>"
      ]
     },
     "metadata": {
      "needs_background": "light"
     },
     "output_type": "display_data"
    }
   ],
   "source": [
    "axl.seed(11)\n",
    "opponents = [np.random.random(4) for _ in range(4)]\n",
    "mean_player = [np.mean([opponents[i][j] for i in range(4)]) for j in range(4)]\n",
    "\n",
    "av_utility = -opt_mo.tournament_utility((p_1, p_2, p_1, p_2), opponents)\n",
    "mn_utility = opt_mo.match_utility((p_1, p_2, p_1, p_2), mean_player)\n",
    "\n",
    "plt.figure(figsize=[6.8, 4])\n",
    "expr = sym.lambdify((p_1, p_2), abs(av_utility - mn_utility).simplify())\n",
    "\n",
    "X, Y = np.meshgrid(p_one, p_two)\n",
    "Z = expr(X, Y)\n",
    "\n",
    "plt.contourf(X, Y, Z)\n",
    "cbar = plt.colorbar()\n",
    "plt.title(\"Tournament size $N=4$\"), plt.xlabel(\"$p_1$\"), plt.ylabel(\"$p_2$\")\n",
    "cbar.ax.get_yaxis().labelpad = 15\n",
    "cbar.set_label(\n",
    "    r\"$|\\frac{1}{N} \\sum_{i=1} ^ {N} {u_q}^{(i)} (p) - u_{\\frac {1}{N} \\sum_{i=1} ^ N q^{(i)}}(p)$|\",\n",
    "    rotation=270,\n",
    "    labelpad=+45,\n",
    "    y=0.45,\n",
    ")\n",
    "plt.tight_layout()\n",
    "plt.savefig(\"../img/mean_vs_average_heatmap.pdf\", bbox_inches=\"tight\")\n"
   ]
  },
  {
   "cell_type": "code",
   "execution_count": null,
   "metadata": {},
   "outputs": [],
   "source": []
  }
 ],
 "metadata": {
  "anaconda-cloud": {},
  "kernelspec": {
   "display_name": "opt-mo",
   "language": "python",
   "name": "opt-mo"
  },
  "language_info": {
   "codemirror_mode": {
    "name": "ipython",
    "version": 3
   },
   "file_extension": ".py",
   "mimetype": "text/x-python",
   "name": "python",
   "nbconvert_exporter": "python",
   "pygments_lexer": "ipython3",
   "version": "3.6.7"
  }
 },
 "nbformat": 4,
 "nbformat_minor": 1
}
