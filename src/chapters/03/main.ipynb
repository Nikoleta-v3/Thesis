{
 "cells": [
  {
   "cell_type": "markdown",
   "metadata": {},
   "source": [
    "Chapter: A bibliometric study of research topics, collaboration and influence of the field\n",
    "--------------------------------------------------------------"
   ]
  },
  {
   "cell_type": "markdown",
   "metadata": {},
   "source": [
    "`Arcas` is an open source tool for collecting articles metadata from five different sources. The packages was used for the data collection of this Chapter. "
   ]
  },
  {
   "cell_type": "code",
   "execution_count": 1,
   "metadata": {},
   "outputs": [],
   "source": [
    "import arcas"
   ]
  },
  {
   "cell_type": "markdown",
   "metadata": {},
   "source": [
    "Using the library a user can specify which publisher's API they want to ping by creating a instance of a class."
   ]
  },
  {
   "cell_type": "code",
   "execution_count": 2,
   "metadata": {},
   "outputs": [],
   "source": [
    "api = arcas.Plos()"
   ]
  },
  {
   "cell_type": "markdown",
   "metadata": {},
   "source": [
    "Arcas allows for several search arguments, such specific words existing withing the title of an article, and the number of articles' metadata to be retrived from the API."
   ]
  },
  {
   "cell_type": "code",
   "execution_count": 7,
   "metadata": {},
   "outputs": [],
   "source": [
    "parameters = api.parameters_fix(title=\"Prisoner's Dilemma\", records=1)\n",
    "url = api.create_url_search(parameters)"
   ]
  },
  {
   "cell_type": "code",
   "execution_count": 8,
   "metadata": {},
   "outputs": [
    {
     "data": {
      "text/plain": [
       "'http://api.plos.org/search?q=title:\"Prisoner\\'s Dilemma\"&rows=1'"
      ]
     },
     "execution_count": 8,
     "metadata": {},
     "output_type": "execute_result"
    }
   ],
   "source": [
    "url"
   ]
  },
  {
   "cell_type": "markdown",
   "metadata": {},
   "source": [
    "The message can used to query the API again using Arcas, and only a few lines of code."
   ]
  },
  {
   "cell_type": "code",
   "execution_count": 9,
   "metadata": {},
   "outputs": [],
   "source": [
    "request = api.make_request(url)\n",
    "root = api.get_root(request)"
   ]
  },
  {
   "cell_type": "code",
   "execution_count": 10,
   "metadata": {},
   "outputs": [
    {
     "data": {
      "text/plain": [
       "[{'abstract': [\"\\n        As tumors outgrow their blood supply and become oxygen deprived, they switch to less energetically efficient but oxygen-independent anaerobic glucose metabolism. However, cancer cells maintain glycolytic phenotype even in the areas of ample oxygen supply (Warburg effect). It has been hypothesized that the competitive advantage that glycolytic cells get over aerobic cells is achieved through secretion of lactic acid, which is a by-product of glycolysis. It creates acidic microenvironment around the tumor that can be toxic to normal somatic cells. This interaction can be seen as a prisoner's dilemma: from the point of view of metabolic payoffs, it is better for cells to cooperate and become better competitors but neither cell has an incentive to unilaterally change its metabolic strategy. In this paper a novel mathematical technique, which allows reducing an otherwise infinitely dimensional system to low dimensionality, is used to demonstrate that changing the environment can take the cells out of this equilibrium and that it is cooperation that can in fact lead to the cell population committing evolutionary suicide.\\n      \"],\n",
       "  'article_type': 'Research Article',\n",
       "  'author_display': ['Irina Kareva'],\n",
       "  'eissn': '1932-6203',\n",
       "  'id': '10.1371/journal.pone.0028576',\n",
       "  'journal': 'PLoS ONE',\n",
       "  'publication_date': '2011-12-14T00:00:00Z',\n",
       "  'score': 21.06924,\n",
       "  'title_display': \"Prisoner's Dilemma in Cancer Metabolism\"}]"
      ]
     },
     "execution_count": 10,
     "metadata": {},
     "output_type": "execute_result"
    }
   ],
   "source": [
    "article = api.parse(root)\n",
    "article"
   ]
  },
  {
   "cell_type": "markdown",
   "metadata": {},
   "source": [
    "Arcas has in build function to standarise the responses from the different APIs."
   ]
  },
  {
   "cell_type": "code",
   "execution_count": 11,
   "metadata": {},
   "outputs": [
    {
     "data": {
      "text/plain": [
       "Index(['url', 'key', 'unique_key', 'title', 'author', 'abstract', 'doi',\n",
       "       'date', 'journal', 'provenance', 'category', 'score', 'open_access'],\n",
       "      dtype='object')"
      ]
     },
     "execution_count": 11,
     "metadata": {},
     "output_type": "execute_result"
    }
   ],
   "source": [
    "meta_data = api.to_dataframe(article[0])\n",
    "meta_data.columns"
   ]
  },
  {
   "cell_type": "markdown",
   "metadata": {},
   "source": [
    "The above example can be used to retrieve an article from a different API. Onlly a signle line of code needs to be altered."
   ]
  },
  {
   "cell_type": "code",
   "execution_count": 12,
   "metadata": {},
   "outputs": [
    {
     "name": "stdout",
     "output_type": "stream",
     "text": [
      "http://www.nature.com/opensearch/request?&query=dc.title adj Game Theory&maximumRecords=1\n"
     ]
    }
   ],
   "source": [
    "api = arcas.Nature()\n",
    "parameters = api.parameters_fix(title=\"Game Theory\", records=1)\n",
    "url = api.create_url_search(parameters)\n",
    "print(url)"
   ]
  },
  {
   "cell_type": "code",
   "execution_count": 13,
   "metadata": {},
   "outputs": [
    {
     "data": {
      "text/plain": [
       "[{'aggregationType': 'online',\n",
       "  'article': None,\n",
       "  'copyright': '© 2008 Nature Publishing Group',\n",
       "  'creator': 'Felix Cheung',\n",
       "  'description': 'Players with insider information can help increase the number of other players winning in the minority game',\n",
       "  'doi': '10.1038/nchina.2008.18',\n",
       "  'eIssn': '1751-5793',\n",
       "  'genre': 'Research Highlights',\n",
       "  'head': None,\n",
       "  'identifier': 'doi:10.1038/nchina.2008.18',\n",
       "  'message': None,\n",
       "  'productCode': 'nchina',\n",
       "  'publicationDate': '2008-01-23',\n",
       "  'publicationName': 'Nature China',\n",
       "  'publisher': 'Nature Publishing Group',\n",
       "  'record': None,\n",
       "  'recordData': None,\n",
       "  'recordPacking': 'packed',\n",
       "  'recordSchema': 'info:srw/schema/11/pam-v2.1',\n",
       "  'records': None,\n",
       "  'title': 'Game theory: Avoid the crowd',\n",
       "  'url': 'http://dx.doi.org/10.1038/nchina.2008.18'}]"
      ]
     },
     "execution_count": 13,
     "metadata": {},
     "output_type": "execute_result"
    }
   ],
   "source": [
    "request = api.make_request(url)\n",
    "root = api.get_root(request)\n",
    "\n",
    "article = api.parse(root)\n",
    "article"
   ]
  },
  {
   "cell_type": "code",
   "execution_count": null,
   "metadata": {},
   "outputs": [],
   "source": [
    "meta_data = api.to_dataframe(article[0])\n",
    "meta_data.columns"
   ]
  }
 ],
 "metadata": {
  "kernelspec": {
   "display_name": "thesis",
   "language": "python",
   "name": "thesis"
  },
  "language_info": {
   "codemirror_mode": {
    "name": "ipython",
    "version": 3
   },
   "file_extension": ".py",
   "mimetype": "text/x-python",
   "name": "python",
   "nbconvert_exporter": "python",
   "pygments_lexer": "ipython3",
   "version": "3.7.6"
  }
 },
 "nbformat": 4,
 "nbformat_minor": 2
}
