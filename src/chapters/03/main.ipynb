{
 "cells": [
  {
   "cell_type": "markdown",
   "metadata": {},
   "source": [
    "Chapter: A bibliometric study of research topics, collaboration and influence of the field\n",
    "--------------------------------------------------------------"
   ]
  },
  {
   "cell_type": "markdown",
   "metadata": {},
   "source": [
    "`Arcas` is an open source tool for collecting articles metadata from five different sources. The packages was used for the data collection of this Chapter. "
   ]
  },
  {
   "cell_type": "code",
   "execution_count": 1,
   "metadata": {},
   "outputs": [],
   "source": [
    "import arcas"
   ]
  },
  {
   "cell_type": "markdown",
   "metadata": {},
   "source": [
    "Using the library a user can specify which publisher's API they want to ping by creating a instance of a class."
   ]
  },
  {
   "cell_type": "code",
   "execution_count": 2,
   "metadata": {},
   "outputs": [],
   "source": [
    "api = arcas.Plos()"
   ]
  },
  {
   "cell_type": "markdown",
   "metadata": {},
   "source": [
    "Arcas allows for several search arguments, such specific words existing withing the title of an article, and the number of articles' metadata to be retrived from the API."
   ]
  },
  {
   "cell_type": "code",
   "execution_count": 11,
   "metadata": {},
   "outputs": [],
   "source": [
    "parameters = api.parameters_fix(title=\"Prisoner's Dilemma\", records=1)\n",
    "url = api.create_url_search(parameters)"
   ]
  },
  {
   "cell_type": "code",
   "execution_count": 12,
   "metadata": {},
   "outputs": [
    {
     "data": {
      "text/plain": [
       "'http://api.plos.org/search?q=title:\"Prisoner\\'s Dilemma\"&rows=1'"
      ]
     },
     "execution_count": 12,
     "metadata": {},
     "output_type": "execute_result"
    }
   ],
   "source": [
    "url"
   ]
  },
  {
   "cell_type": "markdown",
   "metadata": {},
   "source": [
    "The message can used to query the API again using Arcas, and only a few lines of code."
   ]
  },
  {
   "cell_type": "code",
   "execution_count": 13,
   "metadata": {},
   "outputs": [],
   "source": [
    "request = api.make_request(url)\n",
    "root = api.get_root(request)"
   ]
  },
  {
   "cell_type": "code",
   "execution_count": 14,
   "metadata": {},
   "outputs": [
    {
     "data": {
      "text/plain": [
       "[{'id': '10.1371/journal.pone.0028576',\n",
       "  'journal': 'PLoS ONE',\n",
       "  'eissn': '1932-6203',\n",
       "  'publication_date': '2011-12-14T00:00:00Z',\n",
       "  'article_type': 'Research Article',\n",
       "  'author_display': ['Irina Kareva'],\n",
       "  'abstract': [\"\\n        As tumors outgrow their blood supply and become oxygen deprived, they switch to less energetically efficient but oxygen-independent anaerobic glucose metabolism. However, cancer cells maintain glycolytic phenotype even in the areas of ample oxygen supply (Warburg effect). It has been hypothesized that the competitive advantage that glycolytic cells get over aerobic cells is achieved through secretion of lactic acid, which is a by-product of glycolysis. It creates acidic microenvironment around the tumor that can be toxic to normal somatic cells. This interaction can be seen as a prisoner's dilemma: from the point of view of metabolic payoffs, it is better for cells to cooperate and become better competitors but neither cell has an incentive to unilaterally change its metabolic strategy. In this paper a novel mathematical technique, which allows reducing an otherwise infinitely dimensional system to low dimensionality, is used to demonstrate that changing the environment can take the cells out of this equilibrium and that it is cooperation that can in fact lead to the cell population committing evolutionary suicide.\\n      \"],\n",
       "  'title_display': \"Prisoner's Dilemma in Cancer Metabolism\",\n",
       "  'score': 21.043758}]"
      ]
     },
     "execution_count": 14,
     "metadata": {},
     "output_type": "execute_result"
    }
   ],
   "source": [
    "article = api.parse(root)\n",
    "article"
   ]
  },
  {
   "cell_type": "markdown",
   "metadata": {},
   "source": [
    "Arcas has in build function to standarise the responses from the different APIs."
   ]
  },
  {
   "cell_type": "code",
   "execution_count": 15,
   "metadata": {},
   "outputs": [
    {
     "data": {
      "text/plain": [
       "Index(['url', 'key', 'unique_key', 'title', 'author', 'abstract', 'doi',\n",
       "       'date', 'journal', 'provenance', 'category', 'score', 'open_access'],\n",
       "      dtype='object')"
      ]
     },
     "execution_count": 15,
     "metadata": {},
     "output_type": "execute_result"
    }
   ],
   "source": [
    "meta_data = api.to_dataframe(article[0])\n",
    "meta_data.columns"
   ]
  },
  {
   "cell_type": "markdown",
   "metadata": {},
   "source": [
    "The above example can be used to retrieve an article from a different API. Onlly a signle line of code needs to be altered."
   ]
  },
  {
   "cell_type": "code",
   "execution_count": 30,
   "metadata": {},
   "outputs": [
    {
     "name": "stdout",
     "output_type": "stream",
     "text": [
      "http://www.nature.com/opensearch/request?&query=dc.title adj Prisoner's Dilemma&maximumRecords=1\n"
     ]
    }
   ],
   "source": [
    "api = arcas.Nature()\n",
    "parameters = api.parameters_fix(title=\"Prisoner's Dilemma\", records=1)\n",
    "url = api.create_url_search(parameters)\n",
    "print(url)\n"
   ]
  },
  {
   "cell_type": "code",
   "execution_count": 31,
   "metadata": {},
   "outputs": [
    {
     "data": {
      "text/plain": [
       "[{'records': None,\n",
       "  'record': None,\n",
       "  'recordSchema': 'info:srw/schema/11/pam-v2.1',\n",
       "  'recordPacking': 'packed',\n",
       "  'recordData': None,\n",
       "  'message': None,\n",
       "  'article': None,\n",
       "  'head': None,\n",
       "  'identifier': 'doi:10.1057/ces.1994.6',\n",
       "  'title': \"Survey Article: Cooperate or Defect? Russian and American Students in a Prisoner's Dilemma\",\n",
       "  'creator': 'Michael Hemesath',\n",
       "  'productCode': 'ces',\n",
       "  'publicationName': 'Comparative Economic Studies',\n",
       "  'issn': '0888-7233',\n",
       "  'eIssn': '1478-3320',\n",
       "  'doi': '10.1057/ces.1994.6',\n",
       "  'publisher': 'Palgrave Macmillan',\n",
       "  'publicationDate': '1994-04',\n",
       "  'volume': '36',\n",
       "  'number': '1',\n",
       "  'startingPage': '83',\n",
       "  'endingPage': '93',\n",
       "  'url': 'http://dx.doi.org/10.1057/ces.1994.6',\n",
       "  'genre': 'Research',\n",
       "  'description': \"<p>Do assumptions underlying the models of Western market economies fit in the Russian context? To examine one aspect of this question, a group of U.S. college students and a group of Russian undergraduates were brought together to play the classic prisoner's dilemma game. Facing real monetary payoffs, each student played the game four times with different partners. This paper examines the factors that influenced students to cooperate or defect in each game.</p>\",\n",
       "  'copyright': '© 1994 Palgrave Macmillan Ltd',\n",
       "  'aggregationType': 'issue'}]"
      ]
     },
     "execution_count": 31,
     "metadata": {},
     "output_type": "execute_result"
    }
   ],
   "source": [
    "request = api.make_request(url)\n",
    "root = api.get_root(request)\n",
    "\n",
    "article = api.parse(root)\n",
    "article"
   ]
  },
  {
   "cell_type": "code",
   "execution_count": null,
   "metadata": {},
   "outputs": [],
   "source": [
    "meta_data = api.to_dataframe(article[0])\n",
    "meta_data.columns"
   ]
  }
 ],
 "metadata": {
  "kernelspec": {
   "display_name": "thesis",
   "language": "python",
   "name": "thesis"
  },
  "language_info": {
   "codemirror_mode": {
    "name": "ipython",
    "version": 3
   },
   "file_extension": ".py",
   "mimetype": "text/x-python",
   "name": "python",
   "nbconvert_exporter": "python",
   "pygments_lexer": "ipython3",
   "version": "3.7.6"
  }
 },
 "nbformat": 4,
 "nbformat_minor": 2
}
