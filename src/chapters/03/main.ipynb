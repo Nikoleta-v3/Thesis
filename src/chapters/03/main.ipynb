{
 "cells": [
  {
   "cell_type": "code",
   "execution_count": 2,
   "metadata": {},
   "outputs": [],
   "source": [
    "import arcas"
   ]
  },
  {
   "cell_type": "code",
   "execution_count": 3,
   "metadata": {},
   "outputs": [],
   "source": [
    "api = arcas.Plos()"
   ]
  },
  {
   "cell_type": "code",
   "execution_count": 6,
   "metadata": {},
   "outputs": [],
   "source": [
    "parameters = api.parameters_fix(title=\"Prisoner's Dilemma\", records=1)\n",
    "url = api.create_url_search(parameters)"
   ]
  },
  {
   "cell_type": "code",
   "execution_count": 7,
   "metadata": {},
   "outputs": [
    {
     "data": {
      "text/plain": [
       "'http://api.plos.org/search?q=title:\"Prisoner\\'s Dilemma\"&rows=1'"
      ]
     },
     "execution_count": 7,
     "metadata": {},
     "output_type": "execute_result"
    }
   ],
   "source": [
    "url"
   ]
  },
  {
   "cell_type": "code",
   "execution_count": 8,
   "metadata": {},
   "outputs": [],
   "source": [
    "request = api.make_request(url)\n",
    "root = api.get_root(request)"
   ]
  },
  {
   "cell_type": "code",
   "execution_count": 21,
   "metadata": {},
   "outputs": [
    {
     "data": {
      "text/plain": [
       "{'id': '10.1371/journal.pone.0028576',\n",
       " 'journal': 'PLoS ONE',\n",
       " 'eissn': '1932-6203',\n",
       " 'publication_date': '2011-12-14T00:00:00Z',\n",
       " 'article_type': 'Research Article',\n",
       " 'author_display': ['Irina Kareva'],\n",
       " 'abstract': [\"\\n        As tumors outgrow their blood supply and become oxygen deprived, they switch to less energetically efficient but oxygen-independent anaerobic glucose metabolism. However, cancer cells maintain glycolytic phenotype even in the areas of ample oxygen supply (Warburg effect). It has been hypothesized that the competitive advantage that glycolytic cells get over aerobic cells is achieved through secretion of lactic acid, which is a by-product of glycolysis. It creates acidic microenvironment around the tumor that can be toxic to normal somatic cells. This interaction can be seen as a prisoner's dilemma: from the point of view of metabolic payoffs, it is better for cells to cooperate and become better competitors but neither cell has an incentive to unilaterally change its metabolic strategy. In this paper a novel mathematical technique, which allows reducing an otherwise infinitely dimensional system to low dimensionality, is used to demonstrate that changing the environment can take the cells out of this equilibrium and that it is cooperation that can in fact lead to the cell population committing evolutionary suicide.\\n      \"],\n",
       " 'title_display': \"Prisoner's Dilemma in Cancer Metabolism\",\n",
       " 'score': 21,\n",
       " 'author': ['Irina Kareva'],\n",
       " 'date': 2011,\n",
       " 'provenance': 'PLOS',\n",
       " 'doi': '10.1371/journal.pone.0028576',\n",
       " 'url': 'https://doi.org/10.1371/journal.pone.0028576',\n",
       " 'title': \"Prisoner's Dilemma in Cancer Metabolism\",\n",
       " 'key': 'Kareva2011',\n",
       " 'unique_key': '0d56101113057d99fc6d83095812735a',\n",
       " 'category': 'Not available',\n",
       " 'open_access': 'Not available'}"
      ]
     },
     "execution_count": 21,
     "metadata": {},
     "output_type": "execute_result"
    }
   ],
   "source": [
    "article = api.parse(root)\n",
    "article"
   ]
  },
  {
   "cell_type": "code",
   "execution_count": 22,
   "metadata": {},
   "outputs": [
    {
     "data": {
      "text/plain": [
       "dict_keys(['id', 'journal', 'eissn', 'publication_date', 'article_type', 'author_display', 'abstract', 'title_display', 'score', 'author', 'date', 'provenance', 'doi', 'url', 'title', 'key', 'unique_key', 'category', 'open_access'])"
      ]
     },
     "execution_count": 22,
     "metadata": {},
     "output_type": "execute_result"
    }
   ],
   "source": [
    "article[0].keys()"
   ]
  },
  {
   "cell_type": "code",
   "execution_count": 14,
   "metadata": {},
   "outputs": [
    {
     "data": {
      "text/html": [
       "<div>\n",
       "<style scoped>\n",
       "    .dataframe tbody tr th:only-of-type {\n",
       "        vertical-align: middle;\n",
       "    }\n",
       "\n",
       "    .dataframe tbody tr th {\n",
       "        vertical-align: top;\n",
       "    }\n",
       "\n",
       "    .dataframe thead th {\n",
       "        text-align: right;\n",
       "    }\n",
       "</style>\n",
       "<table border=\"1\" class=\"dataframe\">\n",
       "  <thead>\n",
       "    <tr style=\"text-align: right;\">\n",
       "      <th></th>\n",
       "      <th>url</th>\n",
       "      <th>key</th>\n",
       "      <th>unique_key</th>\n",
       "      <th>title</th>\n",
       "      <th>author</th>\n",
       "      <th>abstract</th>\n",
       "      <th>doi</th>\n",
       "      <th>date</th>\n",
       "      <th>journal</th>\n",
       "      <th>provenance</th>\n",
       "      <th>category</th>\n",
       "      <th>score</th>\n",
       "      <th>open_access</th>\n",
       "    </tr>\n",
       "  </thead>\n",
       "  <tbody>\n",
       "    <tr>\n",
       "      <th>0</th>\n",
       "      <td>https://doi.org/10.1371/journal.pone.0028576</td>\n",
       "      <td>Kareva2011</td>\n",
       "      <td>0d56101113057d99fc6d83095812735a</td>\n",
       "      <td>Prisoner's Dilemma in Cancer Metabolism</td>\n",
       "      <td>Irina Kareva</td>\n",
       "      <td>\\n        As tumors outgrow their blood supply...</td>\n",
       "      <td>10.1371/journal.pone.0028576</td>\n",
       "      <td>2011</td>\n",
       "      <td>PLoS ONE</td>\n",
       "      <td>PLOS</td>\n",
       "      <td>Not available</td>\n",
       "      <td>21</td>\n",
       "      <td>Not available</td>\n",
       "    </tr>\n",
       "  </tbody>\n",
       "</table>\n",
       "</div>"
      ],
      "text/plain": [
       "                                            url         key  \\\n",
       "0  https://doi.org/10.1371/journal.pone.0028576  Kareva2011   \n",
       "\n",
       "                         unique_key                                    title  \\\n",
       "0  0d56101113057d99fc6d83095812735a  Prisoner's Dilemma in Cancer Metabolism   \n",
       "\n",
       "         author                                           abstract  \\\n",
       "0  Irina Kareva  \\n        As tumors outgrow their blood supply...   \n",
       "\n",
       "                            doi  date   journal provenance       category  \\\n",
       "0  10.1371/journal.pone.0028576  2011  PLoS ONE       PLOS  Not available   \n",
       "\n",
       "   score    open_access  \n",
       "0     21  Not available  "
      ]
     },
     "execution_count": 14,
     "metadata": {},
     "output_type": "execute_result"
    }
   ],
   "source": [
    "api.to_dataframe(article[0])"
   ]
  },
  {
   "cell_type": "code",
   "execution_count": null,
   "metadata": {},
   "outputs": [],
   "source": []
  }
 ],
 "metadata": {
  "kernelspec": {
   "display_name": "thesis",
   "language": "python",
   "name": "thesis"
  },
  "language_info": {
   "codemirror_mode": {
    "name": "ipython",
    "version": 3
   },
   "file_extension": ".py",
   "mimetype": "text/x-python",
   "name": "python",
   "nbconvert_exporter": "python",
   "pygments_lexer": "ipython3",
   "version": "3.7.6"
  }
 },
 "nbformat": 4,
 "nbformat_minor": 2
}
