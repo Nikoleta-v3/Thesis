{
 "cells": [
  {
   "cell_type": "markdown",
   "metadata": {},
   "source": [
    "Chapter: A bibliometric study of research topics, collaboration and influence of the field\n",
    "--------------------------------------------------------------"
   ]
  },
  {
   "cell_type": "markdown",
   "metadata": {},
   "source": [
    "`Arcas` is an open source tool for collecting articles metadata from five different sources. The packages was used for the data collection of this Chapter. "
   ]
  },
  {
   "cell_type": "code",
   "execution_count": 1,
   "metadata": {},
   "outputs": [],
   "source": [
    "import arcas"
   ]
  },
  {
   "cell_type": "markdown",
   "metadata": {},
   "source": [
    "Using the library a user can specify which publisher's API they want to ping by creating a instance of a class."
   ]
  },
  {
   "cell_type": "code",
   "execution_count": 2,
   "metadata": {},
   "outputs": [],
   "source": [
    "api = arcas.Plos()"
   ]
  },
  {
   "cell_type": "markdown",
   "metadata": {},
   "source": [
    "Arcas allows for several search arguments, such specific words existing withing the title of an article, and the number of articles' metadata to be retrived from the API."
   ]
  },
  {
   "cell_type": "code",
   "execution_count": 3,
   "metadata": {},
   "outputs": [],
   "source": [
    "parameters = api.parameters_fix(title=\"Prisoner's Dilemma\", records=1)\n",
    "url = api.create_url_search(parameters)"
   ]
  },
  {
   "cell_type": "code",
   "execution_count": 4,
   "metadata": {},
   "outputs": [
    {
     "data": {
      "text/plain": [
       "'http://api.plos.org/search?q=title:\"Prisoner\\'s Dilemma\"&rows=1'"
      ]
     },
     "execution_count": 4,
     "metadata": {},
     "output_type": "execute_result"
    }
   ],
   "source": [
    "url"
   ]
  },
  {
   "cell_type": "markdown",
   "metadata": {},
   "source": [
    "The message can used to query the API again using Arcas, and only a few lines of code."
   ]
  },
  {
   "cell_type": "code",
   "execution_count": 5,
   "metadata": {},
   "outputs": [],
   "source": [
    "request = api.make_request(url)\n",
    "root = api.get_root(request)"
   ]
  },
  {
   "cell_type": "code",
   "execution_count": 10,
   "metadata": {},
   "outputs": [],
   "source": [
    "article = api.parse(root)"
   ]
  },
  {
   "cell_type": "code",
   "execution_count": 11,
   "metadata": {},
   "outputs": [
    {
     "name": "stdout",
     "output_type": "stream",
     "text": [
      "id\n",
      "journal\n",
      "eissn\n",
      "publication_date\n",
      "article_type\n",
      "author_display\n",
      "abstract\n",
      "title_display\n",
      "score\n"
     ]
    }
   ],
   "source": [
    "for key in article[0].keys():\n",
    "    print(key)"
   ]
  },
  {
   "cell_type": "markdown",
   "metadata": {},
   "source": [
    "Arcas has in build function to standarise the responses from the different APIs."
   ]
  },
  {
   "cell_type": "code",
   "execution_count": 12,
   "metadata": {},
   "outputs": [
    {
     "data": {
      "text/plain": [
       "Index(['url', 'key', 'unique_key', 'title', 'author', 'abstract', 'doi',\n",
       "       'date', 'journal', 'provenance', 'category', 'score', 'open_access'],\n",
       "      dtype='object')"
      ]
     },
     "execution_count": 12,
     "metadata": {},
     "output_type": "execute_result"
    }
   ],
   "source": [
    "meta_data = api.to_dataframe(article[0])\n",
    "meta_data.columns"
   ]
  },
  {
   "cell_type": "markdown",
   "metadata": {},
   "source": [
    "The above example can be used to retrieve an article from a different API. Onlly a signle line of code needs to be altered."
   ]
  },
  {
   "cell_type": "code",
   "execution_count": 13,
   "metadata": {},
   "outputs": [
    {
     "name": "stdout",
     "output_type": "stream",
     "text": [
      "http://www.nature.com/opensearch/request?&query=dc.title adj Game Theory&maximumRecords=1\n"
     ]
    }
   ],
   "source": [
    "api = arcas.Nature()\n",
    "parameters = api.parameters_fix(title=\"Game Theory\", records=1)\n",
    "url = api.create_url_search(parameters)\n",
    "print(url)"
   ]
  },
  {
   "cell_type": "code",
   "execution_count": 17,
   "metadata": {},
   "outputs": [],
   "source": [
    "request = api.make_request(url)\n",
    "root = api.get_root(request)\n",
    "\n",
    "article = api.parse(root)"
   ]
  },
  {
   "cell_type": "code",
   "execution_count": 18,
   "metadata": {},
   "outputs": [
    {
     "name": "stdout",
     "output_type": "stream",
     "text": [
      "records\n",
      "record\n",
      "recordSchema\n",
      "recordPacking\n",
      "recordData\n",
      "message\n",
      "article\n",
      "head\n",
      "identifier\n",
      "title\n",
      "creator\n",
      "productCode\n",
      "publicationName\n",
      "eIssn\n",
      "doi\n",
      "publisher\n",
      "publicationDate\n",
      "url\n",
      "genre\n",
      "description\n",
      "copyright\n",
      "aggregationType\n"
     ]
    }
   ],
   "source": [
    "for key in article[0].keys():\n",
    "    print(key)"
   ]
  },
  {
   "cell_type": "code",
   "execution_count": null,
   "metadata": {},
   "outputs": [],
   "source": [
    "meta_data = api.to_dataframe(article[0])\n",
    "meta_data.columns"
   ]
  }
 ],
 "metadata": {
  "kernelspec": {
   "display_name": "thesis",
   "language": "python",
   "name": "thesis"
  },
  "language_info": {
   "codemirror_mode": {
    "name": "ipython",
    "version": 3
   },
   "file_extension": ".py",
   "mimetype": "text/x-python",
   "name": "python",
   "nbconvert_exporter": "python",
   "pygments_lexer": "ipython3",
   "version": "3.7.6"
  }
 },
 "nbformat": 4,
 "nbformat_minor": 2
}
