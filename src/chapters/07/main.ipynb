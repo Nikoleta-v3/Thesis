{
 "cells": [
  {
   "cell_type": "markdown",
   "metadata": {},
   "source": [
    "Training a recurrent neural network player\n",
    "-----------------------------------------"
   ]
  },
  {
   "cell_type": "markdown",
   "metadata": {},
   "source": [
    "The Python library Keras is used in this Chapter two train two LSTM models. The models are referred to as:\n",
    "    \n",
    "    - sequence to sequence, and\n",
    "    - sequence to probability."
   ]
  },
  {
   "cell_type": "markdown",
   "metadata": {},
   "source": [
    "The code to construct the two models is given below."
   ]
  },
  {
   "cell_type": "markdown",
   "metadata": {},
   "source": [
    "**sequence to sequence**"
   ]
  },
  {
   "cell_type": "code",
   "execution_count": 1,
   "metadata": {},
   "outputs": [],
   "source": [
    "import warnings\n",
    "\n",
    "warnings.filterwarnings(\"ignore\")"
   ]
  },
  {
   "cell_type": "code",
   "execution_count": 2,
   "metadata": {},
   "outputs": [
    {
     "name": "stderr",
     "output_type": "stream",
     "text": [
      "Using TensorFlow backend.\n"
     ]
    },
    {
     "name": "stdout",
     "output_type": "stream",
     "text": [
      "Model: \"sequential_1\"\n",
      "_________________________________________________________________\n",
      "Layer (type)                 Output Shape              Param #   \n",
      "=================================================================\n",
      "cu_dnnlstm_1 (CuDNNLSTM)     (None, None, 100)         41200     \n",
      "_________________________________________________________________\n",
      "dropout_1 (Dropout)          (None, None, 100)         0         \n",
      "_________________________________________________________________\n",
      "dense_1 (Dense)              (None, None, 1)           101       \n",
      "=================================================================\n",
      "Total params: 41,301\n",
      "Trainable params: 41,301\n",
      "Non-trainable params: 0\n",
      "_________________________________________________________________\n"
     ]
    }
   ],
   "source": [
    "from keras.models import Sequential\n",
    "\n",
    "from keras.layers import (\n",
    "    Dense,\n",
    "    Dropout,\n",
    "    CuDNNLSTM,\n",
    ")\n",
    "\n",
    "num_hidden_cells = 100\n",
    "drop_out_rate = 0.2\n",
    "\n",
    "model = Sequential()\n",
    "\n",
    "model.add(CuDNNLSTM(num_hidden_cells, return_sequences=True, input_shape=(None, 1)))\n",
    "\n",
    "model.add(Dropout(rate=drop_out_rate))\n",
    "\n",
    "model.add(Dense(1, activation=\"sigmoid\"))\n",
    "\n",
    "model.summary()"
   ]
  },
  {
   "cell_type": "markdown",
   "metadata": {},
   "source": [
    "**sequence to probability**"
   ]
  },
  {
   "cell_type": "code",
   "execution_count": 3,
   "metadata": {},
   "outputs": [
    {
     "name": "stdout",
     "output_type": "stream",
     "text": [
      "Model: \"sequential_2\"\n",
      "_________________________________________________________________\n",
      "Layer (type)                 Output Shape              Param #   \n",
      "=================================================================\n",
      "cu_dnnlstm_2 (CuDNNLSTM)     (None, None, 100)         41200     \n",
      "_________________________________________________________________\n",
      "cu_dnnlstm_3 (CuDNNLSTM)     (None, 100)               80800     \n",
      "_________________________________________________________________\n",
      "dropout_2 (Dropout)          (None, 100)               0         \n",
      "_________________________________________________________________\n",
      "dense_2 (Dense)              (None, 1)                 101       \n",
      "=================================================================\n",
      "Total params: 122,101\n",
      "Trainable params: 122,101\n",
      "Non-trainable params: 0\n",
      "_________________________________________________________________\n"
     ]
    }
   ],
   "source": [
    "from keras.models import Sequential\n",
    "from keras.layers import (\n",
    "    Dense,\n",
    "    Dropout,\n",
    "    CuDNNLSTM,\n",
    ")\n",
    "\n",
    "num_hidden_cells = 100\n",
    "drop_out_rate = 0.2\n",
    "\n",
    "model = Sequential()\n",
    "\n",
    "model.add(\n",
    "    CuDNNLSTM(num_hidden_cells, return_sequences=True, input_shape=(None, 1))\n",
    ")\n",
    "\n",
    "model.add(CuDNNLSTM(num_hidden_cells))\n",
    "model.add(Dropout(rate=drop_out_rate))\n",
    "\n",
    "model.add((Dense(1, activation=\"sigmoid\")))\n",
    "model.summary()"
   ]
  },
  {
   "cell_type": "markdown",
   "metadata": {},
   "source": [
    "The networks were trained on different subsets of the best response sequence data set of Chapter 6."
   ]
  },
  {
   "cell_type": "markdown",
   "metadata": {},
   "source": [
    "**Strategies and total best response sequences per data set**"
   ]
  },
  {
   "cell_type": "code",
   "execution_count": 14,
   "metadata": {},
   "outputs": [],
   "source": [
    "from pathlib import Path\n",
    "\n",
    "import pandas as pd\n",
    "import axelrod as axl"
   ]
  },
  {
   "cell_type": "code",
   "execution_count": 24,
   "metadata": {},
   "outputs": [],
   "source": [
    "dfs = []\n",
    "for file in Path(\n",
    "    \"/Users/storm/rsc/Training-IPD-strategies-with-RNN/best_responses/\"\n",
    ").glob(\"*.csv\"):\n",
    "    dfs.append(pd.read_csv(file, index_col=0,))"
   ]
  },
  {
   "cell_type": "code",
   "execution_count": 25,
   "metadata": {},
   "outputs": [],
   "source": [
    "df = pd.concat(dfs).reset_index(drop=True)"
   ]
  },
  {
   "cell_type": "code",
   "execution_count": 36,
   "metadata": {},
   "outputs": [],
   "source": [
    "across_strategies = [\n",
    "    \"Anti Tit For Tat\",\n",
    "    \"Adaptive Pavlov 2006\",\n",
    "    \"Cautious QLearner\",\n",
    "    \"EasyGo\",\n",
    "    \"Eatherley\",\n",
    "    \"Evolved HMM 5\",\n",
    "    \"Forgiver\",\n",
    "    \"Gladstein\",\n",
    "    \"GraaskampKatzen\",\n",
    "    \"Hard Tit For Tat\",\n",
    "    \"Pun1\",\n",
    "    \"PSO Gambler 2_2_2 Noise 05\",\n",
    "    \"Punisher\",\n",
    "    \"Tricky Cooperator\",\n",
    "    \"$e$\",\n",
    "]"
   ]
  },
  {
   "cell_type": "code",
   "execution_count": 17,
   "metadata": {},
   "outputs": [],
   "source": [
    "with open(\"tex/strategies_across_total.tex\", 'w') as out:\n",
    "    out.write(f\"{len(top_strategies)}\")"
   ]
  },
  {
   "cell_type": "code",
   "execution_count": 18,
   "metadata": {},
   "outputs": [],
   "source": [
    "top_strategies = [\n",
    "    \"PSO Gambler Mem1\",\n",
    "    \"Evolved ANN 5\",\n",
    "    \"DoubleCrosser\",\n",
    "    \"Omega TFT\",\n",
    "    \"EvolvedLookerUp2_2_2\",\n",
    "    \"Fool Me Once\",\n",
    "    \"Gradual\",\n",
    "    \"PSO Gambler 2_2_2 Noise 05\",\n",
    "    \"Evolved HMM 5\",\n",
    "    \"PSO Gambler 1_1_1\",\n",
    "    \"PSO Gambler 2_2_2\",\n",
    "    \"Evolved ANN\",\n",
    "    \"Evolved FSM 16\",\n",
    "    \"Winner12\",\n",
    "    \"BackStabber\",\n",
    "    \"Evolved FSM 16 Noise 05\",\n",
    "    \"Evolved ANN 5 Noise 05\",\n",
    "    \"Evolved FSM 4\",\n",
    "]"
   ]
  },
  {
   "cell_type": "code",
   "execution_count": 19,
   "metadata": {},
   "outputs": [],
   "source": [
    "with open(\"tex/top_strategies_total.tex\", 'w') as out:\n",
    "    out.write(f\"{len(top_strategies)}\")"
   ]
  },
  {
   "cell_type": "code",
   "execution_count": 40,
   "metadata": {},
   "outputs": [],
   "source": [
    "basic_strategies = [s.name for s in axl.basic_strategies]"
   ]
  },
  {
   "cell_type": "code",
   "execution_count": 21,
   "metadata": {},
   "outputs": [],
   "source": [
    "with open(\"tex/basic_strategies_total.tex\", 'w') as out:\n",
    "    out.write(f\"{len(basic_opponents)}\")"
   ]
  },
  {
   "cell_type": "markdown",
   "metadata": {},
   "source": [
    "**Total number of best response sequence for the sub sets**"
   ]
  },
  {
   "cell_type": "code",
   "execution_count": 32,
   "metadata": {},
   "outputs": [
    {
     "data": {
      "text/plain": [
       "True"
      ]
     },
     "execution_count": 32,
     "metadata": {},
     "output_type": "execute_result"
    }
   ],
   "source": [
    "len(df[df['opponent'].isin(top_strategies)]['opponent'].unique()) == len(top_strategies)"
   ]
  },
  {
   "cell_type": "code",
   "execution_count": 33,
   "metadata": {},
   "outputs": [
    {
     "data": {
      "text/plain": [
       "714"
      ]
     },
     "execution_count": 33,
     "metadata": {},
     "output_type": "execute_result"
    }
   ],
   "source": [
    "len(df[df['opponent'].isin(top_strategies)]) "
   ]
  },
  {
   "cell_type": "code",
   "execution_count": 43,
   "metadata": {},
   "outputs": [],
   "source": [
    "with open(\"tex/top_strategies_sequences.tex\", 'w') as out:\n",
    "    out.write(f\"{len(df[df['opponent'].isin(top_strategies)]) }\")"
   ]
  },
  {
   "cell_type": "code",
   "execution_count": 37,
   "metadata": {},
   "outputs": [
    {
     "data": {
      "text/plain": [
       "True"
      ]
     },
     "execution_count": 37,
     "metadata": {},
     "output_type": "execute_result"
    }
   ],
   "source": [
    "len(df[df['opponent'].isin(across_strategies)]['opponent'].unique()) == len(across_strategies)"
   ]
  },
  {
   "cell_type": "code",
   "execution_count": 38,
   "metadata": {},
   "outputs": [
    {
     "data": {
      "text/plain": [
       "212"
      ]
     },
     "execution_count": 38,
     "metadata": {},
     "output_type": "execute_result"
    }
   ],
   "source": [
    "len(df[df['opponent'].isin(across_strategies)]) "
   ]
  },
  {
   "cell_type": "code",
   "execution_count": 44,
   "metadata": {},
   "outputs": [],
   "source": [
    "with open(\"tex/across_strategies_sequences.tex\", 'w') as out:\n",
    "    out.write(f\"{len(df[df['opponent'].isin(across_strategies)])}\")"
   ]
  },
  {
   "cell_type": "code",
   "execution_count": 41,
   "metadata": {},
   "outputs": [
    {
     "data": {
      "text/plain": [
       "True"
      ]
     },
     "execution_count": 41,
     "metadata": {},
     "output_type": "execute_result"
    }
   ],
   "source": [
    "len(df[df['opponent'].isin(basic_strategies)]['opponent'].unique()) == len(basic_strategies)"
   ]
  },
  {
   "cell_type": "code",
   "execution_count": 42,
   "metadata": {},
   "outputs": [
    {
     "data": {
      "text/plain": [
       "84"
      ]
     },
     "execution_count": 42,
     "metadata": {},
     "output_type": "execute_result"
    }
   ],
   "source": [
    "len(df[df['opponent'].isin(basic_strategies)]) "
   ]
  },
  {
   "cell_type": "code",
   "execution_count": 45,
   "metadata": {},
   "outputs": [],
   "source": [
    "with open(\"tex/basic_strategies_sequences.tex\", 'w') as out:\n",
    "    out.write(f\"{len(df[df['opponent'].isin(basic_strategies)]) }\")"
   ]
  },
  {
   "cell_type": "code",
   "execution_count": null,
   "metadata": {},
   "outputs": [],
   "source": []
  }
 ],
 "metadata": {
  "kernelspec": {
   "display_name": "thesis",
   "language": "python",
   "name": "thesis"
  },
  "language_info": {
   "codemirror_mode": {
    "name": "ipython",
    "version": 3
   },
   "file_extension": ".py",
   "mimetype": "text/x-python",
   "name": "python",
   "nbconvert_exporter": "python",
   "pygments_lexer": "ipython3",
   "version": "3.7.6"
  }
 },
 "nbformat": 4,
 "nbformat_minor": 2
}
